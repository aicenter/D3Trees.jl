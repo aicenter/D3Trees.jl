{
 "cells": [
  {
   "cell_type": "code",
   "execution_count": 1,
   "id": "578508f1",
   "metadata": {},
   "outputs": [],
   "source": [
    "using AbstractTrees\n",
    "using D3Trees\n",
    "\n",
    "using HTTP\n",
    "using Sockets\n",
    "using JSON"
   ]
  },
  {
   "cell_type": "code",
   "execution_count": 2,
   "id": "ffd5749c",
   "metadata": {},
   "outputs": [
    {
     "data": {
      "text/plain": [
       "Main.MyNodes"
      ]
     },
     "execution_count": 2,
     "metadata": {},
     "output_type": "execute_result"
    }
   ],
   "source": [
    "module MyNodes\n",
    "depth(id::Int64) = floor(Int64, log2(id))\n",
    "struct BTNode\n",
    "    id::Int64\n",
    "    expand_depth::Int64\n",
    "end\n",
    "\n",
    "function BTNode(id; Δd=2)\n",
    "    d = depth(id)\n",
    "    BTNode(id, d+Δd)\n",
    "end\n",
    "end"
   ]
  },
  {
   "cell_type": "code",
   "execution_count": 3,
   "id": "ee173a38",
   "metadata": {},
   "outputs": [],
   "source": [
    "depth(id::Int64) = floor(Int64, log2(id))\n",
    "depth(n::MyNodes.BTNode) = depth(n.id)\n",
    "children_ids(id::Int64) = [2*id, 2*id+1]\n",
    "AbstractTrees.children(n::MyNodes.BTNode) = expand(n) ? MyNodes.BTNode.(children_ids(n.id), n.expand_depth) : MyNodes.BTNode[]\n",
    "expand(n::MyNodes.BTNode) = depth(n) < n.expand_depth\n",
    "Base.show(io::IO, n::MyNodes.BTNode) = print(io, \"$(n.id): d=$(depth(n)), $(children_ids(n.id))\")"
   ]
  },
  {
   "cell_type": "code",
   "execution_count": 4,
   "id": "8219fdfd",
   "metadata": {},
   "outputs": [
    {
     "name": "stdout",
     "output_type": "stream",
     "text": [
      "1: d=0, [2, 3] Expand: true\n",
      "2: d=1, [4, 5] Expand: true\n",
      "3: d=1, [6, 7] Expand: true\n",
      "4: d=2, [8, 9] Expand: true\n",
      "5: d=2, [10, 11] Expand: true\n",
      "6: d=2, [12, 13] Expand: true\n",
      "7: d=2, [14, 15] Expand: true\n",
      "8: d=3, [16, 17] Expand: true\n",
      "9: d=3, [18, 19] Expand: true\n",
      "10: d=3, [20, 21] Expand: true\n",
      "11: d=3, [22, 23] Expand: true\n",
      "12: d=3, [24, 25] Expand: true\n",
      "13: d=3, [26, 27] Expand: true\n",
      "14: d=3, [28, 29] Expand: true\n",
      "15: d=3, [30, 31] Expand: true\n",
      "16: d=4, [32, 33] Expand: true\n",
      "17: d=4, [34, 35] Expand: true\n",
      "18: d=4, [36, 37] Expand: true\n"
     ]
    }
   ],
   "source": [
    "for i in 1:18\n",
    "    n = MyNodes.BTNode(i)\n",
    "    println(n, \" Expand: \", expand(n))\n",
    "end"
   ]
  },
  {
   "cell_type": "code",
   "execution_count": 5,
   "id": "95079002",
   "metadata": {},
   "outputs": [
    {
     "data": {
      "text/plain": [
       "1: d=0, [2, 3]"
      ]
     },
     "execution_count": 5,
     "metadata": {},
     "output_type": "execute_result"
    }
   ],
   "source": [
    "root = MyNodes.BTNode(1)"
   ]
  },
  {
   "cell_type": "code",
   "execution_count": 6,
   "id": "fec427f2",
   "metadata": {},
   "outputs": [
    {
     "name": "stdout",
     "output_type": "stream",
     "text": [
      "1: d=0, [2, 3]\n",
      "├─ 2: d=1, [4, 5]\n",
      "│  ├─ 4: d=2, [8, 9]\n",
      "│  └─ 5: d=2, [10, 11]\n",
      "└─ 3: d=1, [6, 7]\n",
      "   ├─ 6: d=2, [12, 13]\n",
      "   └─ 7: d=2, [14, 15]\n"
     ]
    }
   ],
   "source": [
    "print_tree(root)"
   ]
  },
  {
   "cell_type": "code",
   "execution_count": 7,
   "id": "187fb45b",
   "metadata": {},
   "outputs": [
    {
     "name": "stdout",
     "output_type": "stream",
     "text": [
      "{\"children\":[[2,5],[3,4],[],[],[6,7],[],[]],\"text\":[\"1: d=0, [2, 3]\",\"2: d=1, [4, 5]\",\"4: d=2, [8, 9]\",\"5: d=2, [10, 11]\",\"3: d=1, [6, 7]\",\"6: d=2, [12, 13]\",\"7: d=2, [14, 15]\"],\"tooltip\":[\"1: d=0, [2, 3]\",\"2: d=1, [4, 5]\",\"4: d=2, [8, 9]\",\"5: d=2, [10, 11]\",\"3: d=1, [6, 7]\",\"6: d=2, [12, 13]\",\"7: d=2, [14, 15]\"],\"style\":[\"\",\"\",\"\",\"\",\"\",\"\",\"\"],\"link_style\":[\"\",\"\",\"\",\"\",\"\",\"\",\"\"],\"title\":\"Julia D3Tree\",\"options\":{}}"
     ]
    },
    {
     "data": {
      "text/html": [
       "    <!DOCTYPE html>\n",
       "    <html>\n",
       "    <head>\n",
       "        <meta charset=\"UTF-8\">\n",
       "        <title>Julia D3Tree</title>\n",
       "    </head>\n",
       "    <body>\n",
       "    <div id=\"treeviskWEjOTSA\">\n",
       "    <style>\n",
       "        \n",
       ".node {\n",
       "    cursor: pointer;\n",
       "}\n",
       "\n",
       ".node circle {\n",
       "\t  fill: #fff;\n",
       "\t  stroke: steelblue;\n",
       "\t  stroke-width: 3px;\n",
       "      r: 10;\n",
       "}\n",
       "\n",
       ".node rect {\n",
       "\t  fill: #fff;\n",
       "\t  stroke: steelblue;\n",
       "\t  stroke-width: 3px;\n",
       "      x: -10;\n",
       "      y: -10;\n",
       "      width: 20;\n",
       "      height: 20;\n",
       "}\n",
       "\n",
       ".node path {\n",
       "    fill: #ffffff;\n",
       "    /* stroke: steelblue; */\n",
       "    stroke-width: 2px;\n",
       "}\n",
       ".node text {\n",
       "    font-family: Arial, Helvetica, sans-serif;\n",
       "    font-style: normal;\n",
       "    font-size: 12px;\n",
       "}\n",
       ".link /* path */ {\n",
       "    fill: none;\n",
       "    stroke: #cccccc;\n",
       "    stroke-width: 2px;\n",
       "}\n",
       ".link text {\n",
       "    font-family: Arial, Helvetica, sans-serif;\n",
       "    font-style: normal;\n",
       "    font-size: 12px;\n",
       "}\n",
       ".hover text{\n",
       "    font-family: Arial, Helvetica, sans-serif;\n",
       "    font-style: normal;\n",
       "    font-size: 12px;\n",
       "}\n",
       "\n",
       "/*\n",
       ".svg-container {\n",
       "    display: inline-block;\n",
       "    position: relative;\n",
       "    width: 100%;\n",
       "    padding-bottom: 100%;\n",
       "    vertical-align: top;\n",
       "    overflow: hidden;\n",
       "}\n",
       ".svg-content-responsive {\n",
       "    display: inline-block;\n",
       "    position: absolute;\n",
       "    top: 10px;\n",
       "    left: 0;\n",
       "}\n",
       "*/\n",
       "\n",
       "    </style>\n",
       "    <script>\n",
       "       (function(){\n",
       "        var treeData = {\"children\":[[2,5],[3,4],[],[],[6,7],[],[]],\"text\":[\"1: d=0, [2, 3]\",\"2: d=1, [4, 5]\",\"4: d=2, [8, 9]\",\"5: d=2, [10, 11]\",\"3: d=1, [6, 7]\",\"6: d=2, [12, 13]\",\"7: d=2, [14, 15]\"],\"tooltip\":[\"1: d=0, [2, 3]\",\"2: d=1, [4, 5]\",\"4: d=2, [8, 9]\",\"5: d=2, [10, 11]\",\"3: d=1, [6, 7]\",\"6: d=2, [12, 13]\",\"7: d=2, [14, 15]\"],\"style\":[\"\",\"\",\"\",\"\",\"\",\"\",\"\"],\"link_style\":[\"\",\"\",\"\",\"\",\"\",\"\",\"\"],\"title\":\"Julia D3Tree\",\"options\":{}};\n",
       "        var rootID = 1-1;\n",
       "        var div = \"treeviskWEjOTSA\";\n",
       "        var initExpand = 0\n",
       "        var initDuration = 750\n",
       "        var svgHeight = 600\n",
       "        if (typeof $ === 'undefined') {\n",
       "    loadScript(\"https://code.jquery.com/jquery-3.1.1.min.js\", run);\n",
       "} else {\n",
       "    run();\n",
       "}\n",
       "\n",
       "function run() {\n",
       "    if (typeof d3 === 'undefined') {\n",
       "        loadScript(\"https://d3js.org/d3.v3.js\", showTree);\n",
       "    } else {\n",
       "        showTree();\n",
       "    }\n",
       "}\n",
       "\n",
       "function loadScript(url, callback)\n",
       "{\n",
       "    console.log(\"starting script load...\")\n",
       "    // Adding the script tag to the head as suggested before\n",
       "    var head = document.getElementsByTagName('head')[0];\n",
       "    var script = document.createElement('script');\n",
       "    script.type = 'text/javascript';\n",
       "    script.src = url;\n",
       "\n",
       "    // Then bind the event to the callback function.\n",
       "    // There are several events for cross browser compatibility.\n",
       "    script.onreadystatechange = callback;\n",
       "    script.onload = callback;\n",
       "\n",
       "    // Fire the loading\n",
       "    head.appendChild(script);\n",
       "}\n",
       "\n",
       "function showTree() {\n",
       "        \n",
       "    // var margin = {top: 20, right: 120, bottom: 20, left: 120},\n",
       "    var margin = {top: 20, right: 120, bottom: 80, left: 120},\n",
       "        width = $(\"#\"+div).width() - margin.right - margin.left,\n",
       "        height = svgHeight - margin.top - margin.bottom;\n",
       "        // TODO make height a parameter of TreeVisualizer\n",
       "\n",
       "    var i = 0,\n",
       "        root;\n",
       "\n",
       "    var tree = d3.layout.tree()\n",
       "        .size([width, height]);\n",
       "\n",
       "    var diagonal = d3.svg.diagonal();\n",
       "        //.projection(function(d) { return [d.y, d.x]; });\n",
       "        // uncomment above to make the tree go horizontally\n",
       "\n",
       "    // see http://stackoverflow.com/questions/16265123/resize-svg-when-window-is-resized-in-d3-js\n",
       "    if (d3.select(\"#\"+div+\"_svg\").empty()) {\n",
       "        $(\".d3twarn\").remove();\n",
       "        d3.select(\"#\"+div).append(\"svg\")\n",
       "            .attr(\"id\", div+\"_svg\")\n",
       "            .attr(\"width\", width + margin.right + margin.left)\n",
       "            .attr(\"height\", height + margin.top + margin.bottom);\n",
       "    }\n",
       "\n",
       "    d3.select(\"#\"+div+\"_svg\").selectAll(\"*\").remove();\n",
       "\n",
       "    var svg = d3.select(\"#\"+div+\"_svg\")\n",
       "        .append(\"g\")\n",
       "            .attr(\"transform\", \"translate(\" + margin.left + \",\" + margin.top + \")\");\n",
       "\n",
       "    // console.log(\"tree data:\");\n",
       "    // console.log(treeData[rootID]);\n",
       "    root = createDisplayNode(rootID, initExpand);\n",
       "    root.x0 = width / 2;\n",
       "    root.y0 = 0;\n",
       "\n",
       "    update(root, initDuration);\n",
       "    console.log(\"tree should appear\");\n",
       "\n",
       "    function createDisplayNode(id, expandLevel) {\n",
       "      var dnode = {\"dataID\":id,\n",
       "                   \"children\": null,\n",
       "                   \"_children\":null};\n",
       "      if (expandLevel > 0) {\n",
       "        initializeChildren(dnode, expandLevel);\n",
       "      }\n",
       "      return dnode;\n",
       "    }\n",
       "\n",
       "    function initializeChildren(d, expandLevel) {\n",
       "      // create children\n",
       "      var children = treeData.children[d.dataID];\n",
       "      d.children = [];\n",
       "      if (children) {\n",
       "        for (var i = 0; i < children.length; i++) {\n",
       "          var cid = children[i]-1;\n",
       "          d.children.push(createDisplayNode(cid, expandLevel-1));\n",
       "        }\n",
       "      }\n",
       "    }\n",
       "\n",
       "    /**\n",
       "     * Recursively called to update each node in the tree.\n",
       "     * \n",
       "     * source is a d3 node that has position, etc.\n",
       "    */\n",
       "    function update(source, duration) {\n",
       "\n",
       "      width = $(\"#\"+div).width() - margin.right - margin.left,\n",
       "      height = $(\"#\"+div).height() - margin.top - margin.bottom;\n",
       "\n",
       "      tree.size([width,height]);\n",
       "      d3.select(\"#\"+div).attr(\"width\", width + margin.right + margin.left)\n",
       "            .attr(\"height\", height + margin.top + margin.bottom);\n",
       "      d3.select(\"#\"+div+\"_svg\").attr(\"width\", width + margin.right + margin.left)\n",
       "             .attr(\"height\", height + margin.top + margin.bottom);\n",
       "\n",
       "\n",
       "      // Compute the new tree layout.\n",
       "      var nodes = tree.nodes(root).reverse(),\n",
       "          links = tree.links(nodes);\n",
       "\n",
       "\n",
       "      // Update the nodes…\n",
       "      var node = svg.selectAll(\"g.node\")\n",
       "          .data(nodes, function(d) { return d.id || (d.id = ++i); });\n",
       "\n",
       "      // Enter any new nodes at the parent's previous position.\n",
       "      var nodeEnter = node.enter().append(\"g\")\n",
       "          .attr(\"class\", \"node\")\n",
       "          .attr(\"transform\", function(d) { return \"translate(\" + source.x0 + \",\" + source.y0 + \")\"; })\n",
       "          .on(\"click\", click)\n",
       "\n",
       "      nodeEnter.append(\"circle\")\n",
       "          .attr(\"r\", \"10px\")\n",
       "          .attr(\"style\", function(d) { return treeData.style[d.dataID]; } )\n",
       "\n",
       "      var tbox = nodeEnter.append(\"text\")\n",
       "          .attr(\"y\", 25)\n",
       "          .attr(\"text-anchor\", \"middle\")\n",
       "          //.text( function(d) { return treeData.text[d.dataID]; } )\n",
       "          .style(\"fill-opacity\", 1e-6);\n",
       "\n",
       "      tbox.each( function(d) {\n",
       "          var el = d3.select(this)\n",
       "          var text = treeData.text[d.dataID];\n",
       "          var lines = text.split('\\n');\n",
       "          for (var i = 0; i < lines.length; i++) {\n",
       "              var tspan = el.append(\"tspan\").text(lines[i]);\n",
       "              if (i > 0) {\n",
       "                  tspan.attr(\"x\", 0).attr(\"dy\", \"1.2em\");\n",
       "              }\n",
       "          }\n",
       "      });\n",
       "\n",
       "      //tooltip\n",
       "      nodeEnter.append(\"title\").text( function(d) { return treeData.tooltip[d.dataID];} );\n",
       "\n",
       "      // Transition nodes to their new position.\n",
       "      var nodeUpdate = node.transition()\n",
       "          .duration(duration)\n",
       "          .attr(\"transform\", function(d) { return \"translate(\" + d.x + \",\" + d.y + \")\"; });\n",
       "\n",
       "      nodeUpdate.select(\"text\")\n",
       "          .style(\"fill-opacity\", 1);\n",
       "\n",
       "      // Transition exiting nodes to the parent's new position.\n",
       "      var nodeExit = node.exit().transition()\n",
       "          .duration(duration)\n",
       "          .attr(\"transform\", function(d) { return \"translate(\" + source.x + \",\" + source.y + \")\"; })\n",
       "          .remove();\n",
       "\n",
       "      nodeExit.select(\"text\")\n",
       "          .style(\"fill-opacity\", 1e-6);\n",
       "\n",
       "      // Update the links…\n",
       "      var link = svg.selectAll(\"path.link\")\n",
       "          .data(links, function(d) { return d.target.id; });\n",
       "\n",
       "      // Enter any new links at the parent's previous position.\n",
       "      // XXX link width should be based on transition data, not node data\n",
       "      link.enter().insert(\"path\", \"g\")\n",
       "          .attr(\"class\", \"link\")\n",
       "          .attr(\"style\", function(d) {\n",
       "              var ls = treeData.link_style[d.target.dataID];\n",
       "              return ls;\n",
       "          } )\n",
       "          .attr(\"d\", function(d) {\n",
       "            var o = {x: source.x0, y: source.y0};\n",
       "            return diagonal({source: o, target: o});\n",
       "          });\n",
       "\n",
       "      // Transition links to their new position.\n",
       "      link.transition()\n",
       "          .duration(duration)\n",
       "          .attr(\"d\", diagonal);\n",
       "\n",
       "      // Transition exiting nodes to the parent's new position.\n",
       "      link.exit().transition()\n",
       "          .duration(duration)\n",
       "          .attr(\"d\", function(d) {\n",
       "            var o = {x: source.x, y: source.y};\n",
       "            return diagonal({source: o, target: o});\n",
       "          })\n",
       "          .remove();\n",
       "\n",
       "      // Stash the old positions for transition.\n",
       "      nodes.forEach(function(d) {\n",
       "        d.x0 = d.x;\n",
       "        d.y0 = d.y;\n",
       "      });\n",
       "    }\n",
       "\n",
       "    // Toggle children on click.\n",
       "    function click(d) {\n",
       "      if (d.children) {\n",
       "        d._children = d.children;\n",
       "        d.children = null;\n",
       "      } else if (d._children) {\n",
       "        d.children = d._children;\n",
       "        d._children = null;\n",
       "      } else {\n",
       "        initializeChildren(d, 1);\n",
       "      }\n",
       "      update(d, 750);\n",
       "    }\n",
       "\n",
       "}\n",
       "\n",
       "        })();\n",
       "    </script>\n",
       "    <p class=\"d3twarn\">\n",
       "    Attempting to display the tree. If the tree is large, this may take some time.\n",
       "    </p>\n",
       "    <p class=\"d3twarn\">\n",
       "    Note: D3Trees.jl requires an internet connection. If no tree appears, please check your connection. To help fix this, please see <a href=\"https://github.com/sisl/D3Trees.jl/issues/10\">this issue</a>. You may also diagnose errors with the javascript console (Ctrl-Shift-J in chrome).\n",
       "    </p>\n",
       "    </div>\n",
       "    </body>\n",
       "    </html>\n",
       "\n"
      ],
      "text/plain": [
       "1: d=0, [2, 3]\n",
       "├──2: d=1, [4, 5]\n",
       "│  ├──4: d=2, [8, 9]\n",
       "│  └──5: d=2, [10, 11]\n",
       "└──3: d=1, [6, 7]\n",
       "   ├──6: d=2, [12, 13]\n",
       "   └──7: d=2, [14, 15]\n"
      ]
     },
     "execution_count": 7,
     "metadata": {},
     "output_type": "execute_result"
    }
   ],
   "source": [
    "print(json(D3Tree(root)))\n",
    "D3Tree(root)"
   ]
  },
  {
   "cell_type": "code",
   "execution_count": 9,
   "id": "d9b24f43",
   "metadata": {},
   "outputs": [
    {
     "name": "stdout",
     "output_type": "stream",
     "text": [
      "{\"children\":[[2,5],[3,4],[],[],[6,7],[],[]],\"text\":[\"4: d=2, [8, 9]\",\"8: d=3, [16, 17]\",\"16: d=4, [32, 33]\",\"17: d=4, [34, 35]\",\"9: d=3, [18, 19]\",\"18: d=4, [36, 37]\",\"19: d=4, [38, 39]\"],\"tooltip\":[\"4: d=2, [8, 9]\",\"8: d=3, [16, 17]\",\"16: d=4, [32, 33]\",\"17: d=4, [34, 35]\",\"9: d=3, [18, 19]\",\"18: d=4, [36, 37]\",\"19: d=4, [38, 39]\"],\"style\":[\"\",\"\",\"\",\"\",\"\",\"\",\"\"],\"link_style\":[\"\",\"\",\"\",\"\",\"\",\"\",\"\"],\"title\":\"Julia D3Tree\",\"options\":{}}"
     ]
    },
    {
     "data": {
      "text/html": [
       "    <!DOCTYPE html>\n",
       "    <html>\n",
       "    <head>\n",
       "        <meta charset=\"UTF-8\">\n",
       "        <title>Julia D3Tree</title>\n",
       "    </head>\n",
       "    <body>\n",
       "    <div id=\"treevis6qVTjCRn\">\n",
       "    <style>\n",
       "        \n",
       ".node {\n",
       "    cursor: pointer;\n",
       "}\n",
       "\n",
       ".node circle {\n",
       "\t  fill: #fff;\n",
       "\t  stroke: steelblue;\n",
       "\t  stroke-width: 3px;\n",
       "      r: 10;\n",
       "}\n",
       "\n",
       ".node rect {\n",
       "\t  fill: #fff;\n",
       "\t  stroke: steelblue;\n",
       "\t  stroke-width: 3px;\n",
       "      x: -10;\n",
       "      y: -10;\n",
       "      width: 20;\n",
       "      height: 20;\n",
       "}\n",
       "\n",
       ".node path {\n",
       "    fill: #ffffff;\n",
       "    /* stroke: steelblue; */\n",
       "    stroke-width: 2px;\n",
       "}\n",
       ".node text {\n",
       "    font-family: Arial, Helvetica, sans-serif;\n",
       "    font-style: normal;\n",
       "    font-size: 12px;\n",
       "}\n",
       ".link /* path */ {\n",
       "    fill: none;\n",
       "    stroke: #cccccc;\n",
       "    stroke-width: 2px;\n",
       "}\n",
       ".link text {\n",
       "    font-family: Arial, Helvetica, sans-serif;\n",
       "    font-style: normal;\n",
       "    font-size: 12px;\n",
       "}\n",
       ".hover text{\n",
       "    font-family: Arial, Helvetica, sans-serif;\n",
       "    font-style: normal;\n",
       "    font-size: 12px;\n",
       "}\n",
       "\n",
       "/*\n",
       ".svg-container {\n",
       "    display: inline-block;\n",
       "    position: relative;\n",
       "    width: 100%;\n",
       "    padding-bottom: 100%;\n",
       "    vertical-align: top;\n",
       "    overflow: hidden;\n",
       "}\n",
       ".svg-content-responsive {\n",
       "    display: inline-block;\n",
       "    position: absolute;\n",
       "    top: 10px;\n",
       "    left: 0;\n",
       "}\n",
       "*/\n",
       "\n",
       "    </style>\n",
       "    <script>\n",
       "       (function(){\n",
       "        var treeData = {\"children\":[[2,5],[3,4],[],[],[6,7],[],[]],\"text\":[\"4: d=2, [8, 9]\",\"8: d=3, [16, 17]\",\"16: d=4, [32, 33]\",\"17: d=4, [34, 35]\",\"9: d=3, [18, 19]\",\"18: d=4, [36, 37]\",\"19: d=4, [38, 39]\"],\"tooltip\":[\"4: d=2, [8, 9]\",\"8: d=3, [16, 17]\",\"16: d=4, [32, 33]\",\"17: d=4, [34, 35]\",\"9: d=3, [18, 19]\",\"18: d=4, [36, 37]\",\"19: d=4, [38, 39]\"],\"style\":[\"\",\"\",\"\",\"\",\"\",\"\",\"\"],\"link_style\":[\"\",\"\",\"\",\"\",\"\",\"\",\"\"],\"title\":\"Julia D3Tree\",\"options\":{}};\n",
       "        var rootID = 1-1;\n",
       "        var div = \"treevis6qVTjCRn\";\n",
       "        var initExpand = 0\n",
       "        var initDuration = 750\n",
       "        var svgHeight = 600\n",
       "        if (typeof $ === 'undefined') {\n",
       "    loadScript(\"https://code.jquery.com/jquery-3.1.1.min.js\", run);\n",
       "} else {\n",
       "    run();\n",
       "}\n",
       "\n",
       "function run() {\n",
       "    if (typeof d3 === 'undefined') {\n",
       "        loadScript(\"https://d3js.org/d3.v3.js\", showTree);\n",
       "    } else {\n",
       "        showTree();\n",
       "    }\n",
       "}\n",
       "\n",
       "function loadScript(url, callback)\n",
       "{\n",
       "    console.log(\"starting script load...\")\n",
       "    // Adding the script tag to the head as suggested before\n",
       "    var head = document.getElementsByTagName('head')[0];\n",
       "    var script = document.createElement('script');\n",
       "    script.type = 'text/javascript';\n",
       "    script.src = url;\n",
       "\n",
       "    // Then bind the event to the callback function.\n",
       "    // There are several events for cross browser compatibility.\n",
       "    script.onreadystatechange = callback;\n",
       "    script.onload = callback;\n",
       "\n",
       "    // Fire the loading\n",
       "    head.appendChild(script);\n",
       "}\n",
       "\n",
       "function showTree() {\n",
       "        \n",
       "    // var margin = {top: 20, right: 120, bottom: 20, left: 120},\n",
       "    var margin = {top: 20, right: 120, bottom: 80, left: 120},\n",
       "        width = $(\"#\"+div).width() - margin.right - margin.left,\n",
       "        height = svgHeight - margin.top - margin.bottom;\n",
       "        // TODO make height a parameter of TreeVisualizer\n",
       "\n",
       "    var i = 0,\n",
       "        root;\n",
       "\n",
       "    var tree = d3.layout.tree()\n",
       "        .size([width, height]);\n",
       "\n",
       "    var diagonal = d3.svg.diagonal();\n",
       "        //.projection(function(d) { return [d.y, d.x]; });\n",
       "        // uncomment above to make the tree go horizontally\n",
       "\n",
       "    // see http://stackoverflow.com/questions/16265123/resize-svg-when-window-is-resized-in-d3-js\n",
       "    if (d3.select(\"#\"+div+\"_svg\").empty()) {\n",
       "        $(\".d3twarn\").remove();\n",
       "        d3.select(\"#\"+div).append(\"svg\")\n",
       "            .attr(\"id\", div+\"_svg\")\n",
       "            .attr(\"width\", width + margin.right + margin.left)\n",
       "            .attr(\"height\", height + margin.top + margin.bottom);\n",
       "    }\n",
       "\n",
       "    d3.select(\"#\"+div+\"_svg\").selectAll(\"*\").remove();\n",
       "\n",
       "    var svg = d3.select(\"#\"+div+\"_svg\")\n",
       "        .append(\"g\")\n",
       "            .attr(\"transform\", \"translate(\" + margin.left + \",\" + margin.top + \")\");\n",
       "\n",
       "    // console.log(\"tree data:\");\n",
       "    // console.log(treeData[rootID]);\n",
       "    root = createDisplayNode(rootID, initExpand);\n",
       "    root.x0 = width / 2;\n",
       "    root.y0 = 0;\n",
       "\n",
       "    update(root, initDuration);\n",
       "    console.log(\"tree should appear\");\n",
       "\n",
       "    function createDisplayNode(id, expandLevel) {\n",
       "      var dnode = {\"dataID\":id,\n",
       "                   \"children\": null,\n",
       "                   \"_children\":null};\n",
       "      if (expandLevel > 0) {\n",
       "        initializeChildren(dnode, expandLevel);\n",
       "      }\n",
       "      return dnode;\n",
       "    }\n",
       "\n",
       "    function initializeChildren(d, expandLevel) {\n",
       "      // create children\n",
       "      var children = treeData.children[d.dataID];\n",
       "      d.children = [];\n",
       "      if (children) {\n",
       "        for (var i = 0; i < children.length; i++) {\n",
       "          var cid = children[i]-1;\n",
       "          d.children.push(createDisplayNode(cid, expandLevel-1));\n",
       "        }\n",
       "      }\n",
       "    }\n",
       "\n",
       "    /**\n",
       "     * Recursively called to update each node in the tree.\n",
       "     * \n",
       "     * source is a d3 node that has position, etc.\n",
       "    */\n",
       "    function update(source, duration) {\n",
       "\n",
       "      width = $(\"#\"+div).width() - margin.right - margin.left,\n",
       "      height = $(\"#\"+div).height() - margin.top - margin.bottom;\n",
       "\n",
       "      tree.size([width,height]);\n",
       "      d3.select(\"#\"+div).attr(\"width\", width + margin.right + margin.left)\n",
       "            .attr(\"height\", height + margin.top + margin.bottom);\n",
       "      d3.select(\"#\"+div+\"_svg\").attr(\"width\", width + margin.right + margin.left)\n",
       "             .attr(\"height\", height + margin.top + margin.bottom);\n",
       "\n",
       "\n",
       "      // Compute the new tree layout.\n",
       "      var nodes = tree.nodes(root).reverse(),\n",
       "          links = tree.links(nodes);\n",
       "\n",
       "\n",
       "      // Update the nodes…\n",
       "      var node = svg.selectAll(\"g.node\")\n",
       "          .data(nodes, function(d) { return d.id || (d.id = ++i); });\n",
       "\n",
       "      // Enter any new nodes at the parent's previous position.\n",
       "      var nodeEnter = node.enter().append(\"g\")\n",
       "          .attr(\"class\", \"node\")\n",
       "          .attr(\"transform\", function(d) { return \"translate(\" + source.x0 + \",\" + source.y0 + \")\"; })\n",
       "          .on(\"click\", click)\n",
       "\n",
       "      nodeEnter.append(\"circle\")\n",
       "          .attr(\"r\", \"10px\")\n",
       "          .attr(\"style\", function(d) { return treeData.style[d.dataID]; } )\n",
       "\n",
       "      var tbox = nodeEnter.append(\"text\")\n",
       "          .attr(\"y\", 25)\n",
       "          .attr(\"text-anchor\", \"middle\")\n",
       "          //.text( function(d) { return treeData.text[d.dataID]; } )\n",
       "          .style(\"fill-opacity\", 1e-6);\n",
       "\n",
       "      tbox.each( function(d) {\n",
       "          var el = d3.select(this)\n",
       "          var text = treeData.text[d.dataID];\n",
       "          var lines = text.split('\\n');\n",
       "          for (var i = 0; i < lines.length; i++) {\n",
       "              var tspan = el.append(\"tspan\").text(lines[i]);\n",
       "              if (i > 0) {\n",
       "                  tspan.attr(\"x\", 0).attr(\"dy\", \"1.2em\");\n",
       "              }\n",
       "          }\n",
       "      });\n",
       "\n",
       "      //tooltip\n",
       "      nodeEnter.append(\"title\").text( function(d) { return treeData.tooltip[d.dataID];} );\n",
       "\n",
       "      // Transition nodes to their new position.\n",
       "      var nodeUpdate = node.transition()\n",
       "          .duration(duration)\n",
       "          .attr(\"transform\", function(d) { return \"translate(\" + d.x + \",\" + d.y + \")\"; });\n",
       "\n",
       "      nodeUpdate.select(\"text\")\n",
       "          .style(\"fill-opacity\", 1);\n",
       "\n",
       "      // Transition exiting nodes to the parent's new position.\n",
       "      var nodeExit = node.exit().transition()\n",
       "          .duration(duration)\n",
       "          .attr(\"transform\", function(d) { return \"translate(\" + source.x + \",\" + source.y + \")\"; })\n",
       "          .remove();\n",
       "\n",
       "      nodeExit.select(\"text\")\n",
       "          .style(\"fill-opacity\", 1e-6);\n",
       "\n",
       "      // Update the links…\n",
       "      var link = svg.selectAll(\"path.link\")\n",
       "          .data(links, function(d) { return d.target.id; });\n",
       "\n",
       "      // Enter any new links at the parent's previous position.\n",
       "      // XXX link width should be based on transition data, not node data\n",
       "      link.enter().insert(\"path\", \"g\")\n",
       "          .attr(\"class\", \"link\")\n",
       "          .attr(\"style\", function(d) {\n",
       "              var ls = treeData.link_style[d.target.dataID];\n",
       "              return ls;\n",
       "          } )\n",
       "          .attr(\"d\", function(d) {\n",
       "            var o = {x: source.x0, y: source.y0};\n",
       "            return diagonal({source: o, target: o});\n",
       "          });\n",
       "\n",
       "      // Transition links to their new position.\n",
       "      link.transition()\n",
       "          .duration(duration)\n",
       "          .attr(\"d\", diagonal);\n",
       "\n",
       "      // Transition exiting nodes to the parent's new position.\n",
       "      link.exit().transition()\n",
       "          .duration(duration)\n",
       "          .attr(\"d\", function(d) {\n",
       "            var o = {x: source.x, y: source.y};\n",
       "            return diagonal({source: o, target: o});\n",
       "          })\n",
       "          .remove();\n",
       "\n",
       "      // Stash the old positions for transition.\n",
       "      nodes.forEach(function(d) {\n",
       "        d.x0 = d.x;\n",
       "        d.y0 = d.y;\n",
       "      });\n",
       "    }\n",
       "\n",
       "    // Toggle children on click.\n",
       "    function click(d) {\n",
       "      if (d.children) {\n",
       "        d._children = d.children;\n",
       "        d.children = null;\n",
       "      } else if (d._children) {\n",
       "        d.children = d._children;\n",
       "        d._children = null;\n",
       "      } else {\n",
       "        initializeChildren(d, 1);\n",
       "      }\n",
       "      update(d, 750);\n",
       "    }\n",
       "\n",
       "}\n",
       "\n",
       "        })();\n",
       "    </script>\n",
       "    <p class=\"d3twarn\">\n",
       "    Attempting to display the tree. If the tree is large, this may take some time.\n",
       "    </p>\n",
       "    <p class=\"d3twarn\">\n",
       "    Note: D3Trees.jl requires an internet connection. If no tree appears, please check your connection. To help fix this, please see <a href=\"https://github.com/sisl/D3Trees.jl/issues/10\">this issue</a>. You may also diagnose errors with the javascript console (Ctrl-Shift-J in chrome).\n",
       "    </p>\n",
       "    </div>\n",
       "    </body>\n",
       "    </html>\n",
       "\n"
      ],
      "text/plain": [
       "4: d=2, [8, 9]\n",
       "├──8: d=3, [16, 17]\n",
       "│  ├──16: d=4, [32, 33]\n",
       "│  └──17: d=4, [34, 35]\n",
       "└──9: d=3, [18, 19]\n",
       "   ├──18: d=4, [36, 37]\n",
       "   └──19: d=4, [38, 39]\n"
      ]
     },
     "execution_count": 9,
     "metadata": {},
     "output_type": "execute_result"
    }
   ],
   "source": [
    "leaf = MyNodes.BTNode(4) \n",
    "print(json(D3Tree(leaf)))\n",
    "D3Tree(MyNodes.BTNode(4))"
   ]
  },
  {
   "cell_type": "markdown",
   "id": "82698b40",
   "metadata": {},
   "source": [
    "# Sockets and JavaScript\n",
    "\n",
    "Resources:\n",
    "\n",
    "- js: https://developer.mozilla.org/en-US/docs/Web/JavaScript/A_re-introduction_to_JavaScript\n",
    "- js for Python programmers: https://mike.depalatis.net/blog/javascript-for-python-programmers.html\n",
    "- js websockets example: https://www.geeksforgeeks.org/html-content-modification-using-javascript/\n",
    "- js websockets docs: https://developer.mozilla.org/en-US/docs/Web/API/WebSockets_API/Writing_WebSocket_client_applications\n",
    "- Julia websockets: https://github.com/JuliaWeb/HTTP.jl/blob/master/src/WebSockets.jl\n",
    "\n",
    "Dealing with websockets and json: \n",
    " - using uri in websocket: https://stackoverflow.com/questions/62473938/whats-the-uri-path-component-in-websocket-used-for\n",
    " - Fucked up error messages in JSON:"
   ]
  },
  {
   "cell_type": "code",
   "execution_count": 2,
   "id": "0d9fb59c",
   "metadata": {},
   "outputs": [],
   "source": [
    "using HTTP"
   ]
  },
  {
   "cell_type": "code",
   "execution_count": 2,
   "id": "06eb15af",
   "metadata": {},
   "outputs": [
    {
     "data": {
      "text/plain": [
       "\"1\""
      ]
     },
     "execution_count": 2,
     "metadata": {},
     "output_type": "execute_result"
    }
   ],
   "source": [
    "responses = Dict(\"a\"=>\"1\", \"b\"=>\"2\")\n",
    "get(responses, \"a\", \"error\")"
   ]
  },
  {
   "cell_type": "markdown",
   "id": "842ed221",
   "metadata": {},
   "source": [
    "## Testing javascript"
   ]
  },
  {
   "cell_type": "code",
   "execution_count": 12,
   "id": "e0843feb",
   "metadata": {},
   "outputs": [],
   "source": [
    "task = @async HTTP.WebSockets.open(\"ws://127.0.0.1:8081\") do ws\n",
    "#     write(ws, \"b\")\n",
    "    x = readavailable(ws)\n",
    "    @show x\n",
    "    println(String(x))\n",
    "end;"
   ]
  },
  {
   "cell_type": "code",
   "execution_count": 46,
   "id": "fde626f5",
   "metadata": {},
   "outputs": [
    {
     "name": "stdout",
     "output_type": "stream",
     "text": [
      "1\n",
      "READY\n"
     ]
    },
    {
     "data": {
      "text/html": [
       "<!-- client.html -->\n",
       "<!-- https://developer.mozilla.org/en-US/docs/Web/API/WebSocket#examples -->\n",
       "<html>\n",
       "<body>\n",
       "\n",
       "<script>\n",
       "\n",
       "function changeStuff() {\n",
       "    document.getElementById(\"myDisplay\").innerHTML=\"XXX\";\n",
       "}    \n",
       "\n",
       "const socket = new WebSocket('ws://127.0.0.1:8081');\n",
       "\n",
       "// Connect\n",
       "socket.addEventListener('open', function (event) {\n",
       "    socket.send('Hello Server!');\n",
       "});\n",
       "\n",
       "// Handle server messages\n",
       "socket.addEventListener('message', function (event) {\n",
       "    alert(['Message from server ', event.data]);\n",
       "});\n",
       "\n",
       "function sendStuff() {\n",
       "    changeStuff();\n",
       "    socket.send(\"Here's some text that the server is urgently awaiting!\");\n",
       "}\n",
       "\n",
       "</script>\n",
       "\n",
       "<p id=\"myDisplay\">\n",
       "</p>\n",
       "\n",
       "\n",
       "<button type=\"button\" onclick=\"sendStuff()\">\n",
       "    Run!\n",
       "</button>\n",
       "\n",
       "\n",
       "</body>\n",
       "</html>\n",
       "\n"
      ],
      "text/plain": [
       "2: d=1, [4, 5]"
      ]
     },
     "execution_count": 46,
     "metadata": {},
     "output_type": "execute_result"
    }
   ],
   "source": [
    "function Base.show(f::IO, m::MIME\"text/html\", n::MyNodes.BTNode)\n",
    "    html_string = \"\"\"\n",
    "    <!-- client.html -->\n",
    "    <!-- https://developer.mozilla.org/en-US/docs/Web/API/WebSocket#examples -->\n",
    "    <html>\n",
    "    <body>\n",
    "\n",
    "    <script>\n",
    "\n",
    "    function changeStuff() {\n",
    "        document.getElementById(\"myDisplay\").innerHTML=\"XXX\";\n",
    "    }    \n",
    "    \n",
    "    const socket = new WebSocket('ws://127.0.0.1:8081');\n",
    "    \n",
    "    // Connect\n",
    "    socket.addEventListener('open', function (event) {\n",
    "        socket.send('Hello Server!');\n",
    "    });\n",
    "    \n",
    "    // Handle server messages\n",
    "    socket.addEventListener('message', function (event) {\n",
    "        alert(['Message from server ', event.data]);\n",
    "    });\n",
    "    \n",
    "    function sendStuff() {\n",
    "        changeStuff();\n",
    "        socket.send(\"Here's some text that the server is urgently awaiting!\");\n",
    "    }\n",
    "\n",
    "    </script>\n",
    "    \n",
    "    <p id=\"myDisplay\">\n",
    "    </p>\n",
    "    \n",
    "    \n",
    "    <button type=\"button\" onclick=\"sendStuff()\">\n",
    "        Run!\n",
    "    </button>\n",
    "\n",
    "\n",
    "    </body>\n",
    "    </html>\n",
    "    \"\"\"\n",
    "    println(f,html_string)\n",
    "end\n",
    "\n",
    "MyNodes.BTNode(2,3)"
   ]
  },
  {
   "cell_type": "code",
   "execution_count": 107,
   "id": "88ceb72b",
   "metadata": {},
   "outputs": [
    {
     "data": {
      "text/plain": [
       "\"16422008291103055432\""
      ]
     },
     "execution_count": 107,
     "metadata": {},
     "output_type": "execute_result"
    }
   ],
   "source": [
    "# get UID\n",
    "root=MyNodes.BTNode(1)\n",
    "string(objectid(root))"
   ]
  },
  {
   "cell_type": "code",
   "execution_count": 169,
   "id": "d93df4c4",
   "metadata": {},
   "outputs": [
    {
     "data": {
      "text/plain": [
       "17-element Vector{UInt8}:\n",
       " 0x7b\n",
       " 0x22\n",
       " 0x72\n",
       " 0x65\n",
       " 0x73\n",
       " 0x70\n",
       " 0x6f\n",
       " 0x6e\n",
       " 0x73\n",
       " 0x65\n",
       " 0x22\n",
       " 0x3a\n",
       " 0x22\n",
       " 0x6f\n",
       " 0x6b\n",
       " 0x22\n",
       " 0x7d"
      ]
     },
     "execution_count": 169,
     "metadata": {},
     "output_type": "execute_result"
    }
   ],
   "source": [
    "Vector{UInt8}(json(Dict(\"response\"=>\"ok\")))"
   ]
  },
  {
   "cell_type": "code",
   "execution_count": 11,
   "id": "59affecf",
   "metadata": {},
   "outputs": [
    {
     "name": "stderr",
     "output_type": "stream",
     "text": [
      "┌ Info: Listening on: 127.0.0.1:8098\n",
      "└ @ HTTP.Servers /home/mrkos/projects/D3Trees.jl/dev/HTTP/src/Servers.jl:268\n"
     ]
    },
    {
     "data": {
      "text/plain": [
       "Task (runnable) @0x00007fb819d7d5a0"
      ]
     },
     "execution_count": 11,
     "metadata": {},
     "output_type": "execute_result"
    }
   ],
   "source": [
    "# Closing server will stop HTTP.listen as well as WebSockets.listen\n",
    "# close(server)\n",
    "\n",
    "server = Sockets.listen(Sockets.localhost, UInt16(8098))\n",
    "\n",
    "# Internally, WebSockets.listen is just HTTP.listen. When passed server, the ip and port are ignored.\n",
    "@async HTTP.WebSockets.listen(\"1.0.0.1\", UInt16(1001); verbose=true, server = server) do ws\n",
    "#     println(\"Starting...\")\n",
    "    println(HTTP.Messages.uri(ws.request))\n",
    "#     println(typeof(ws.request))\n",
    "#     println(ws.request)\n",
    "#     println(ws.request.target) ### This is the path part of the URI\n",
    "#     println(\"==============\")\n",
    "    i=0\n",
    "    while !eof(ws) \n",
    "        data = readavailable(ws)  \n",
    "#         data = read(ws, UInt8)\n",
    "        i+=1\n",
    "        println(i)\n",
    "        read_data=String(data)\n",
    "        if length(read_data)>0\n",
    "            println(\"Msg (parsed): \", JSON.parse(read_data))\n",
    "        else\n",
    "            println(\"Zero length data: \", data)\n",
    "            println(ws.request.target)\n",
    "        end\n",
    "#         println(\"Msg (raw): \", Vector{UInt8}(data), \"\\nMsg: \", String(data))\n",
    "#         println(\"Msg (parsed): \", JSON.parse())\n",
    "        \n",
    "        response = json(Dict(\"response\"=>\"ok\"))\n",
    "        write(ws, response)\n",
    "    end\n",
    "    println(\"Done.\")\n",
    "end"
   ]
  },
  {
   "cell_type": "code",
   "execution_count": 16,
   "id": "9072d956",
   "metadata": {},
   "outputs": [],
   "source": [
    "tree_json = json(root)\n",
    "codeunits(tree_json);"
   ]
  },
  {
   "cell_type": "code",
   "execution_count": 17,
   "id": "57a36e5c",
   "metadata": {},
   "outputs": [
    {
     "name": "stdout",
     "output_type": "stream",
     "text": [
      "/peeees\n",
      "1\n",
      "Msg (parsed): Dict{String, Any}(\"expand_depth\" => 2, \"id\" => 1)\n",
      "x = UInt8[0x7b, 0x22, 0x72, 0x65, 0x73, 0x70, 0x6f, 0x6e, 0x73, 0x65, 0x22, 0x3a, 0x22, 0x6f, 0x6b, 0x22, 0x7d]\n",
      "{\"response\":\"ok\"}\n",
      "2\n",
      "Zero length data: UInt8[]\n",
      "/peeees\n",
      "Done.\n"
     ]
    }
   ],
   "source": [
    "HTTP.WebSockets.open(\"ws://127.0.0.1:8098/peeees\") do ws\n",
    "    write(ws, tree_json)\n",
    "    x = readavailable(ws)\n",
    "    @show x\n",
    "    println(String(x))\n",
    "end;"
   ]
  },
  {
   "cell_type": "markdown",
   "id": "239bbb05",
   "metadata": {},
   "source": [
    "## Testing websockets"
   ]
  },
  {
   "cell_type": "code",
   "execution_count": 329,
   "id": "27a0161d",
   "metadata": {},
   "outputs": [
    {
     "name": "stderr",
     "output_type": "stream",
     "text": [
      "┌ Info: Listening on: 127.0.0.1:8098\n",
      "└ @ HTTP.Servers /home/mrkos/projects/D3Trees.jl/dev/HTTP/src/Servers.jl:268\n"
     ]
    },
    {
     "data": {
      "text/plain": [
       "Task (runnable) @0x00007efc3eb9d5a0"
      ]
     },
     "execution_count": 329,
     "metadata": {},
     "output_type": "execute_result"
    }
   ],
   "source": [
    "close(server)\n",
    "\n",
    "server = Sockets.listen(Sockets.localhost, UInt16(8098))\n",
    "@async HTTP.WebSockets.listen(\"1.0.0.1\", UInt16(1001); verbose=true, server = server) do ws\n",
    "    i=0\n",
    "    while !eof(ws) \n",
    "        i+=1\n",
    "        println(i)\n",
    "        data = readavailable(ws)  \n",
    "        read_data=String(data)\n",
    "        if length(read_data)>0\n",
    "            println(\"Msg (parsed): \", JSON.parse(read_data))\n",
    "        else\n",
    "            println(\"Zero length data: \", data)\n",
    "        end\n",
    "        response = json(Dict(\"response\"=>\"ok\"))\n",
    "        write(ws, response)\n",
    "    end\n",
    "end"
   ]
  },
  {
   "cell_type": "code",
   "execution_count": 332,
   "id": "c9e7950e",
   "metadata": {},
   "outputs": [
    {
     "name": "stdout",
     "output_type": "stream",
     "text": [
      "1\n",
      "Zero length data: UInt8[]\n"
     ]
    }
   ],
   "source": [
    "HTTP.WebSockets.open(\"ws://127.0.0.1:8098\") do ws\n",
    "    write(ws, json(Dict(\"message\"=>\"Hello\")))\n",
    "    x = readavailable(ws)\n",
    "    println(String(x))\n",
    "end;"
   ]
  },
  {
   "cell_type": "code",
   "execution_count": 287,
   "id": "6480d0b4",
   "metadata": {},
   "outputs": [
    {
     "name": "stdout",
     "output_type": "stream",
     "text": [
      "1\n",
      "Msg (parsed): Dict{String, Any}(\"message\" => \"Hi\")\n",
      "x = UInt8[0x7b, 0x22, 0x72, 0x65, 0x73, 0x70, 0x6f, 0x6e, 0x73, 0x65, 0x22, 0x3a, 0x22, 0x6f, 0x6b, 0x22, 0x7d]\n",
      "{\"response\":\"ok\"}\n",
      "2\n",
      "Zero length data: UInt8[]\n"
     ]
    }
   ],
   "source": [
    "HTTP.WebSockets.open(\"ws://127.0.0.1:8098\") do ws\n",
    "    write(ws, json(Dict(\"message\"=>\"Hi\")))\n",
    "    x = readavailable(ws)\n",
    "    @show x\n",
    "    println(String(x))\n",
    "end;"
   ]
  },
  {
   "cell_type": "code",
   "execution_count": 16,
   "id": "1723e323",
   "metadata": {},
   "outputs": [
    {
     "data": {
      "text/plain": [
       "\"/pes\""
      ]
     },
     "execution_count": 16,
     "metadata": {},
     "output_type": "execute_result"
    }
   ],
   "source": [
    "uri = HTTP.URI(\"http://localhost:8081/pes\")\n",
    "uri.path"
   ]
  },
  {
   "cell_type": "code",
   "execution_count": 153,
   "id": "4cbacc31",
   "metadata": {},
   "outputs": [],
   "source": [
    "tree_json = json(root)\n",
    "codeunits(tree_json);"
   ]
  },
  {
   "cell_type": "code",
   "execution_count": 123,
   "id": "1a34e560",
   "metadata": {},
   "outputs": [
    {
     "data": {
      "text/plain": [
       "1"
      ]
     },
     "execution_count": 123,
     "metadata": {},
     "output_type": "execute_result"
    }
   ],
   "source": [
    "vals = JSON.parse(string(tree_json))\n",
    "vals[\"id\"]"
   ]
  },
  {
   "cell_type": "code",
   "execution_count": 160,
   "id": "7a8e6333",
   "metadata": {},
   "outputs": [
    {
     "data": {
      "text/plain": [
       "Dict{String, Any} with 2 entries:\n",
       "  \"expand_depth\" => 2\n",
       "  \"id\"           => 1"
      ]
     },
     "execution_count": 160,
     "metadata": {},
     "output_type": "execute_result"
    }
   ],
   "source": [
    "JSON.parse(\"{\\\"id\\\":1,\\\"expand_depth\\\":2}\\n\")"
   ]
  },
  {
   "cell_type": "code",
   "execution_count": 16,
   "id": "bd2e2524",
   "metadata": {},
   "outputs": [
    {
     "data": {
      "text/plain": [
       "\"\""
      ]
     },
     "execution_count": 16,
     "metadata": {},
     "output_type": "execute_result"
    }
   ],
   "source": [
    "\"\""
   ]
  },
  {
   "cell_type": "code",
   "execution_count": null,
   "id": "b4d15c58",
   "metadata": {},
   "outputs": [],
   "source": [
    "ex = InterruptException()\n",
    "Base.throwto(server, ex)\n",
    "# close(http.sock)"
   ]
  },
  {
   "cell_type": "code",
   "execution_count": null,
   "id": "2bf6eff6",
   "metadata": {},
   "outputs": [],
   "source": [
    "@async print(\"aha\")"
   ]
  },
  {
   "cell_type": "code",
   "execution_count": 20,
   "id": "9a8e4b8e",
   "metadata": {
    "scrolled": true
   },
   "outputs": [
    {
     "data": {
      "text/plain": [
       "HTTP.Messages.Response:\n",
       "\"\"\"\n",
       "HTTP/1.1 101 Switching Protocols\r\n",
       "Upgrade: websocket\r\n",
       "Connection: Upgrade\r\n",
       "Sec-WebSocket-Accept: d/B9qloNmU3/rK/eOLmp9gThPEk=\r\n",
       "\r\n",
       "\"\"\""
      ]
     },
     "execution_count": 20,
     "metadata": {},
     "output_type": "execute_result"
    }
   ],
   "source": [
    "HTTP.WebSockets.open(\"ws://127.0.0.1:8082\") do ws\n",
    "    write(ws, \"Foo\")\n",
    "end"
   ]
  },
  {
   "cell_type": "code",
   "execution_count": 10,
   "id": "0812301f",
   "metadata": {},
   "outputs": [
    {
     "data": {
      "text/latex": [
       "No docstring or readme file found for module \\texttt{HTTP.WebSockets}.\n",
       "\n",
       "Module does not export any names.\n",
       "\n"
      ],
      "text/markdown": [
       "No docstring or readme file found for module `HTTP.WebSockets`.\n",
       "\n",
       "Module does not export any names.\n"
      ],
      "text/plain": [
       "  No docstring or readme file found for module \u001b[36mHTTP.WebSockets\u001b[39m.\n",
       "\n",
       "  Module does not export any names."
      ]
     },
     "execution_count": 10,
     "metadata": {},
     "output_type": "execute_result"
    }
   ],
   "source": [
    "?HTTP.WebSockets"
   ]
  },
  {
   "cell_type": "code",
   "execution_count": 20,
   "id": "2ec5ee99",
   "metadata": {},
   "outputs": [
    {
     "name": "stdout",
     "output_type": "stream",
     "text": [
      "done\n"
     ]
    },
    {
     "data": {
      "text/plain": [
       "Task (runnable) @0x00007f92c21da6e0"
      ]
     },
     "execution_count": 20,
     "metadata": {},
     "output_type": "execute_result"
    }
   ],
   "source": [
    "t = @task begin; sleep(1); println(\"done\"); end"
   ]
  },
  {
   "cell_type": "code",
   "execution_count": 12,
   "id": "643b8d30",
   "metadata": {},
   "outputs": [
    {
     "data": {
      "text/plain": [
       "Task (runnable) @0x00007f9293c755a0"
      ]
     },
     "execution_count": 12,
     "metadata": {},
     "output_type": "execute_result"
    }
   ],
   "source": [
    "t"
   ]
  },
  {
   "cell_type": "code",
   "execution_count": 19,
   "id": "f13cc302",
   "metadata": {},
   "outputs": [
    {
     "data": {
      "text/plain": [
       "Task (runnable) @0x00007f92c21da290"
      ]
     },
     "execution_count": 19,
     "metadata": {},
     "output_type": "execute_result"
    }
   ],
   "source": [
    "schedule(t)"
   ]
  },
  {
   "cell_type": "code",
   "execution_count": 220,
   "id": "59e9475e",
   "metadata": {},
   "outputs": [
    {
     "data": {
      "text/plain": [
       "Dict{String, Int64} with 1 entry:\n",
       "  \"a\" => 1"
      ]
     },
     "execution_count": 220,
     "metadata": {},
     "output_type": "execute_result"
    }
   ],
   "source": [
    "Dict(\"a\"=>1)"
   ]
  },
  {
   "cell_type": "code",
   "execution_count": 224,
   "id": "a34409c8",
   "metadata": {
    "scrolled": true
   },
   "outputs": [
    {
     "data": {
      "text/plain": [
       "\"{\\\"a\\\":1}\""
      ]
     },
     "execution_count": 224,
     "metadata": {},
     "output_type": "execute_result"
    }
   ],
   "source": [
    "json(Dict(\"a\"=>1))"
   ]
  },
  {
   "cell_type": "code",
   "execution_count": 241,
   "id": "ba54a133",
   "metadata": {},
   "outputs": [
    {
     "data": {
      "text/plain": [
       "2"
      ]
     },
     "execution_count": 241,
     "metadata": {},
     "output_type": "execute_result"
    }
   ],
   "source": [
    "length([1,2])"
   ]
  },
  {
   "cell_type": "code",
   "execution_count": 56,
   "id": "245f5609",
   "metadata": {
    "collapsed": true
   },
   "outputs": [
    {
     "name": "stdout",
     "output_type": "stream",
     "text": [
      "2\n",
      "1\n",
      "READY\n",
      "2\n",
      "1\n",
      "READY\n",
      "2\n",
      "1\n",
      "READY\n",
      "2\n",
      "1\n",
      "READY\n",
      "2\n",
      "1\n",
      "READY\n",
      "2\n",
      "1\n",
      "READY\n",
      "2\n",
      "1\n",
      "READY\n",
      "2\n",
      "1\n",
      "READY\n",
      "2\n",
      "1\n",
      "READY\n",
      "2\n",
      "1\n",
      "READY\n",
      "2\n",
      "1\n",
      "READY\n",
      "2\n",
      "1\n",
      "READY\n",
      "2\n",
      "1\n",
      "READY\n",
      "2\n",
      "1\n",
      "READY\n",
      "2\n",
      "1\n",
      "READY\n",
      "2\n",
      "1\n",
      "READY\n",
      "2\n",
      "1\n",
      "READY\n",
      "2\n",
      "1\n",
      "READY\n",
      "2\n",
      "1\n",
      "READY\n",
      "2\n",
      "1\n",
      "READY\n",
      "2\n",
      "1\n",
      "READY\n",
      "2\n",
      "1\n",
      "READY\n",
      "2\n",
      "1\n",
      "READY\n",
      "2\n",
      "1\n",
      "READY\n",
      "2\n",
      "1\n",
      "READY\n",
      "2\n",
      "1\n",
      "READY\n",
      "2\n",
      "1\n",
      "READY\n",
      "2\n",
      "1\n",
      "READY\n",
      "2\n",
      "1\n",
      "READY\n",
      "2\n",
      "1\n",
      "READY\n",
      "2\n",
      "1\n",
      "READY\n",
      "2\n",
      "1\n",
      "READY\n",
      "2\n",
      "1\n",
      "READY\n",
      "2\n",
      "1\n",
      "READY\n",
      "2\n",
      "1\n",
      "READY\n",
      "2\n",
      "1\n",
      "READY\n",
      "2\n",
      "1\n",
      "READY\n",
      "2\n",
      "1\n",
      "READY\n",
      "2\n",
      "1\n",
      "1\n",
      "1\n",
      "1\n",
      "READY\n",
      "2\n",
      "1\n",
      "READY\n",
      "2\n",
      "1\n",
      "READY\n",
      "2\n",
      "1\n",
      "READY\n",
      "2\n",
      "1\n",
      "READY\n",
      "2\n",
      "1\n",
      "READY\n",
      "2\n",
      "1\n",
      "READY\n",
      "2\n",
      "1\n",
      "READY\n",
      "2\n",
      "1\n",
      "READY\n",
      "2\n",
      "1\n",
      "READY\n",
      "2\n",
      "1\n",
      "READY\n",
      "x = UInt8[0x7b, 0x22, 0x6f, 0x6b, 0x22, 0x3a, 0x22, 0x79, 0x65, 0x73, 0x22, 0x7d]\n",
      "{\"ok\":\"yes\"}\n"
     ]
    },
    {
     "name": "stderr",
     "output_type": "stream",
     "text": [
      "┌ Error: error handling request\n",
      "│   exception = (HTTP.WebSockets.WebSocketError(0x03e9, \"Status: Going Away, Internal Code: \"), Base.StackTraces.StackFrame[_readframe(ws::HTTP.WebSockets.WebSocket{HTTP.ConnectionPool.Connection}) at WebSockets.jl:311, readmessage(ws::HTTP.WebSockets.WebSocket{HTTP.ConnectionPool.Connection}) at WebSockets.jl:260, readavailable at WebSockets.jl:257 [inlined], (::var\"#116#118\")(ws::HTTP.WebSockets.WebSocket{HTTP.ConnectionPool.Connection}) at In[55]:9, upgrade(f::var\"#116#118\", http::HTTP.Streams.Stream{HTTP.Messages.Request{Vector{UInt8}}, HTTP.ConnectionPool.Connection}; binary::Bool) at WebSockets.jl:160, upgrade at WebSockets.jl:142 [inlined], #6 at WebSockets.jl:136 [inlined], handle_transaction(f::HTTP.WebSockets.var\"#6#7\"{Bool, var\"#116#118\"}, c::HTTP.ConnectionPool.Connection, server::HTTP.Servers.Server{Nothing, Sockets.TCPServer}; final_transaction::Bool) at Servers.jl:416, (::HTTP.Servers.var\"#handle_transaction##kw\")(::NamedTuple{(:final_transaction,), Tuple{Bool}}, ::typeof(HTTP.Servers.handle_transaction), f::Function, c::HTTP.ConnectionPool.Connection, server::HTTP.Servers.Server{Nothing, Sockets.TCPServer}) at Servers.jl:387, handle_connection(f::Function, c::HTTP.ConnectionPool.Connection, server::HTTP.Servers.Server{Nothing, Sockets.TCPServer}, reuse_limit::Int64, readtimeout::Int64) at Servers.jl:348, (::HTTP.Servers.var\"#8#9\"{HTTP.WebSockets.var\"#6#7\"{Bool, var\"#116#118\"}, HTTP.Servers.Server{Nothing, Sockets.TCPServer}, Base.RefValue{Int64}, Int64, Int64, Bool, Base.Semaphore, HTTP.ConnectionPool.Connection})() at task.jl:423])\n",
      "└ @ HTTP.Servers /home/mrkos/projects/D3Trees.jl/dev/HTTP/src/Servers.jl:429\n",
      "┌ Error: error handling request\n",
      "│   exception = (HTTP.WebSockets.WebSocketError(0x03e9, \"Status: Going Away, Internal Code: \"), Base.StackTraces.StackFrame[_readframe(ws::HTTP.WebSockets.WebSocket{HTTP.ConnectionPool.Connection}) at WebSockets.jl:311, readmessage(ws::HTTP.WebSockets.WebSocket{HTTP.ConnectionPool.Connection}) at WebSockets.jl:260, readavailable at WebSockets.jl:257 [inlined], (::var\"#116#118\")(ws::HTTP.WebSockets.WebSocket{HTTP.ConnectionPool.Connection}) at In[55]:9, upgrade(f::var\"#116#118\", http::HTTP.Streams.Stream{HTTP.Messages.Request{Vector{UInt8}}, HTTP.ConnectionPool.Connection}; binary::Bool) at WebSockets.jl:160, upgrade at WebSockets.jl:142 [inlined], #6 at WebSockets.jl:136 [inlined], handle_transaction(f::HTTP.WebSockets.var\"#6#7\"{Bool, var\"#116#118\"}, c::HTTP.ConnectionPool.Connection, server::HTTP.Servers.Server{Nothing, Sockets.TCPServer}; final_transaction::Bool) at Servers.jl:416, (::HTTP.Servers.var\"#handle_transaction##kw\")(::NamedTuple{(:final_transaction,), Tuple{Bool}}, ::typeof(HTTP.Servers.handle_transaction), f::Function, c::HTTP.ConnectionPool.Connection, server::HTTP.Servers.Server{Nothing, Sockets.TCPServer}) at Servers.jl:387, handle_connection(f::Function, c::HTTP.ConnectionPool.Connection, server::HTTP.Servers.Server{Nothing, Sockets.TCPServer}, reuse_limit::Int64, readtimeout::Int64) at Servers.jl:348, (::HTTP.Servers.var\"#8#9\"{HTTP.WebSockets.var\"#6#7\"{Bool, var\"#116#118\"}, HTTP.Servers.Server{Nothing, Sockets.TCPServer}, Base.RefValue{Int64}, Int64, Int64, Bool, Base.Semaphore, HTTP.ConnectionPool.Connection})() at task.jl:423])\n",
      "└ @ HTTP.Servers /home/mrkos/projects/D3Trees.jl/dev/HTTP/src/Servers.jl:429\n",
      "┌ Error: error handling request\n",
      "│   exception = (HTTP.WebSockets.WebSocketError(0x03e9, \"Status: Going Away, Internal Code: \"), Base.StackTraces.StackFrame[_readframe(ws::HTTP.WebSockets.WebSocket{HTTP.ConnectionPool.Connection}) at WebSockets.jl:311, readmessage(ws::HTTP.WebSockets.WebSocket{HTTP.ConnectionPool.Connection}) at WebSockets.jl:260, readavailable at WebSockets.jl:257 [inlined], (::var\"#116#118\")(ws::HTTP.WebSockets.WebSocket{HTTP.ConnectionPool.Connection}) at In[55]:9, upgrade(f::var\"#116#118\", http::HTTP.Streams.Stream{HTTP.Messages.Request{Vector{UInt8}}, HTTP.ConnectionPool.Connection}; binary::Bool) at WebSockets.jl:160, upgrade at WebSockets.jl:142 [inlined], #6 at WebSockets.jl:136 [inlined], handle_transaction(f::HTTP.WebSockets.var\"#6#7\"{Bool, var\"#116#118\"}, c::HTTP.ConnectionPool.Connection, server::HTTP.Servers.Server{Nothing, Sockets.TCPServer}; final_transaction::Bool) at Servers.jl:416, (::HTTP.Servers.var\"#handle_transaction##kw\")(::NamedTuple{(:final_transaction,), Tuple{Bool}}, ::typeof(HTTP.Servers.handle_transaction), f::Function, c::HTTP.ConnectionPool.Connection, server::HTTP.Servers.Server{Nothing, Sockets.TCPServer}) at Servers.jl:387, handle_connection(f::Function, c::HTTP.ConnectionPool.Connection, server::HTTP.Servers.Server{Nothing, Sockets.TCPServer}, reuse_limit::Int64, readtimeout::Int64) at Servers.jl:348, (::HTTP.Servers.var\"#8#9\"{HTTP.WebSockets.var\"#6#7\"{Bool, var\"#116#118\"}, HTTP.Servers.Server{Nothing, Sockets.TCPServer}, Base.RefValue{Int64}, Int64, Int64, Bool, Base.Semaphore, HTTP.ConnectionPool.Connection})() at task.jl:423])\n",
      "└ @ HTTP.Servers /home/mrkos/projects/D3Trees.jl/dev/HTTP/src/Servers.jl:429\n"
     ]
    }
   ],
   "source": [
    "#WebSocket Examples\n",
    "port=8099\n",
    "@async HTTP.WebSockets.listen(\"127.0.0.1\", UInt16(port)) do ws\n",
    "    while !eof(ws)\n",
    "        data = readavailable(ws)\n",
    "        if length(data)>0\n",
    "            JSON.parse(String(data))\n",
    "        end\n",
    "        write(ws, json(Dict(\"ok\"=>\"yes\")))\n",
    "    end\n",
    "end\n",
    "\n",
    "HTTP.WebSockets.open(\"ws://127.0.0.1:$port\") do ws\n",
    "    write(ws, json(Dict(\"a\"=>1, \"b\"=>\"val\")))\n",
    "    x = readavailable(ws)\n",
    "    @show x\n",
    "    println(String(x))\n",
    "end;"
   ]
  },
  {
   "cell_type": "markdown",
   "id": "6cafbe8c",
   "metadata": {},
   "source": [
    "## POC: Pass json bidirectionally from julia to javascript\n",
    "exchange simple, static json files and parse them on both sides\n",
    "\n",
    "Reconnect websocket:\n",
    "\n",
    " - https://stackoverflow.com/questions/13797262/how-to-reconnect-to-websocket-after-close-connection\n",
    " - https://stackoverflow.com/questions/3780511/reconnection-of-client-when-server-reboots-in-websocket"
   ]
  },
  {
   "cell_type": "code",
   "execution_count": 9,
   "id": "ea8bd7f8",
   "metadata": {},
   "outputs": [
    {
     "data": {
      "text/plain": [
       "8081"
      ]
     },
     "execution_count": 9,
     "metadata": {},
     "output_type": "execute_result"
    }
   ],
   "source": [
    "PORT = 8081"
   ]
  },
  {
   "cell_type": "code",
   "execution_count": 38,
   "id": "42b9576f",
   "metadata": {},
   "outputs": [
    {
     "name": "stderr",
     "output_type": "stream",
     "text": [
      "┌ Info: Listening on: 127.0.0.1:8081\n",
      "└ @ HTTP.Servers /home/mrkos/projects/D3Trees.jl/dev/HTTP/src/Servers.jl:268\n"
     ]
    },
    {
     "data": {
      "text/plain": [
       "Task (runnable) @0x00007f75b680b540"
      ]
     },
     "execution_count": 38,
     "metadata": {},
     "output_type": "execute_result"
    },
    {
     "name": "stderr",
     "output_type": "stream",
     "text": [
      "┌ Error: error handling request\n",
      "│   exception = (HTTP.WebSockets.WebSocketError(0x03e9, \"Status: Going Away, Internal Code: \"), Base.StackTraces.StackFrame[_readframe(ws::HTTP.WebSockets.WebSocket{HTTP.ConnectionPool.Connection}) at WebSockets.jl:311, readmessage(ws::HTTP.WebSockets.WebSocket{HTTP.ConnectionPool.Connection}) at WebSockets.jl:260, readavailable at WebSockets.jl:257 [inlined], (::var\"#10#12\")(ws::HTTP.WebSockets.WebSocket{HTTP.ConnectionPool.Connection}) at In[36]:10, upgrade(f::var\"#10#12\", http::HTTP.Streams.Stream{HTTP.Messages.Request{Vector{UInt8}}, HTTP.ConnectionPool.Connection}; binary::Bool) at WebSockets.jl:160, upgrade at WebSockets.jl:142 [inlined], #6 at WebSockets.jl:136 [inlined], handle_transaction(f::HTTP.WebSockets.var\"#6#7\"{Bool, var\"#10#12\"}, c::HTTP.ConnectionPool.Connection, server::HTTP.Servers.Server{Nothing, Sockets.TCPServer}; final_transaction::Bool) at Servers.jl:416, (::HTTP.Servers.var\"#handle_transaction##kw\")(::NamedTuple{(:final_transaction,), Tuple{Bool}}, ::typeof(HTTP.Servers.handle_transaction), f::Function, c::HTTP.ConnectionPool.Connection, server::HTTP.Servers.Server{Nothing, Sockets.TCPServer}) at Servers.jl:387, handle_connection(f::Function, c::HTTP.ConnectionPool.Connection, server::HTTP.Servers.Server{Nothing, Sockets.TCPServer}, reuse_limit::Int64, readtimeout::Int64) at Servers.jl:348, (::HTTP.Servers.var\"#8#9\"{HTTP.WebSockets.var\"#6#7\"{Bool, var\"#10#12\"}, HTTP.Servers.Server{Nothing, Sockets.TCPServer}, Base.RefValue{Int64}, Int64, Int64, Bool, Base.Semaphore, HTTP.ConnectionPool.Connection})() at task.jl:423])\n",
      "└ @ HTTP.Servers /home/mrkos/projects/D3Trees.jl/dev/HTTP/src/Servers.jl:429\n",
      "┌ Error: error handling request\n",
      "│   exception = (HTTP.WebSockets.WebSocketError(0x03e9, \"Status: Going Away, Internal Code: \"), Base.StackTraces.StackFrame[_readframe(ws::HTTP.WebSockets.WebSocket{HTTP.ConnectionPool.Connection}) at WebSockets.jl:311, readmessage(ws::HTTP.WebSockets.WebSocket{HTTP.ConnectionPool.Connection}) at WebSockets.jl:260, readavailable at WebSockets.jl:257 [inlined], (::var\"#18#20\")(ws::HTTP.WebSockets.WebSocket{HTTP.ConnectionPool.Connection}) at In[38]:10, upgrade(f::var\"#18#20\", http::HTTP.Streams.Stream{HTTP.Messages.Request{Vector{UInt8}}, HTTP.ConnectionPool.Connection}; binary::Bool) at WebSockets.jl:160, upgrade at WebSockets.jl:142 [inlined], #6 at WebSockets.jl:136 [inlined], handle_transaction(f::HTTP.WebSockets.var\"#6#7\"{Bool, var\"#18#20\"}, c::HTTP.ConnectionPool.Connection, server::HTTP.Servers.Server{Nothing, Sockets.TCPServer}; final_transaction::Bool) at Servers.jl:416, (::HTTP.Servers.var\"#handle_transaction##kw\")(::NamedTuple{(:final_transaction,), Tuple{Bool}}, ::typeof(HTTP.Servers.handle_transaction), f::Function, c::HTTP.ConnectionPool.Connection, server::HTTP.Servers.Server{Nothing, Sockets.TCPServer}) at Servers.jl:387, handle_connection(f::Function, c::HTTP.ConnectionPool.Connection, server::HTTP.Servers.Server{Nothing, Sockets.TCPServer}, reuse_limit::Int64, readtimeout::Int64) at Servers.jl:348, (::HTTP.Servers.var\"#8#9\"{HTTP.WebSockets.var\"#6#7\"{Bool, var\"#18#20\"}, HTTP.Servers.Server{Nothing, Sockets.TCPServer}, Base.RefValue{Int64}, Int64, Int64, Bool, Base.Semaphore, HTTP.ConnectionPool.Connection})() at task.jl:423])\n",
      "└ @ HTTP.Servers /home/mrkos/projects/D3Trees.jl/dev/HTTP/src/Servers.jl:429\n",
      "┌ Error: error handling request\n",
      "│   exception = (HTTP.WebSockets.WebSocketError(0x03e9, \"Status: Going Away, Internal Code: \"), Base.StackTraces.StackFrame[_readframe(ws::HTTP.WebSockets.WebSocket{HTTP.ConnectionPool.Connection}) at WebSockets.jl:311, readmessage(ws::HTTP.WebSockets.WebSocket{HTTP.ConnectionPool.Connection}) at WebSockets.jl:260, readavailable at WebSockets.jl:257 [inlined], (::var\"#18#20\")(ws::HTTP.WebSockets.WebSocket{HTTP.ConnectionPool.Connection}) at In[38]:10, upgrade(f::var\"#18#20\", http::HTTP.Streams.Stream{HTTP.Messages.Request{Vector{UInt8}}, HTTP.ConnectionPool.Connection}; binary::Bool) at WebSockets.jl:160, upgrade at WebSockets.jl:142 [inlined], #6 at WebSockets.jl:136 [inlined], handle_transaction(f::HTTP.WebSockets.var\"#6#7\"{Bool, var\"#18#20\"}, c::HTTP.ConnectionPool.Connection, server::HTTP.Servers.Server{Nothing, Sockets.TCPServer}; final_transaction::Bool) at Servers.jl:416, (::HTTP.Servers.var\"#handle_transaction##kw\")(::NamedTuple{(:final_transaction,), Tuple{Bool}}, ::typeof(HTTP.Servers.handle_transaction), f::Function, c::HTTP.ConnectionPool.Connection, server::HTTP.Servers.Server{Nothing, Sockets.TCPServer}) at Servers.jl:387, handle_connection(f::Function, c::HTTP.ConnectionPool.Connection, server::HTTP.Servers.Server{Nothing, Sockets.TCPServer}, reuse_limit::Int64, readtimeout::Int64) at Servers.jl:348, (::HTTP.Servers.var\"#8#9\"{HTTP.WebSockets.var\"#6#7\"{Bool, var\"#18#20\"}, HTTP.Servers.Server{Nothing, Sockets.TCPServer}, Base.RefValue{Int64}, Int64, Int64, Bool, Base.Semaphore, HTTP.ConnectionPool.Connection})() at task.jl:423])\n",
      "└ @ HTTP.Servers /home/mrkos/projects/D3Trees.jl/dev/HTTP/src/Servers.jl:429\n",
      "┌ Error: error handling request\n",
      "│   exception = (HTTP.WebSockets.WebSocketError(0x03e9, \"Status: Going Away, Internal Code: \"), Base.StackTraces.StackFrame[_readframe(ws::HTTP.WebSockets.WebSocket{HTTP.ConnectionPool.Connection}) at WebSockets.jl:311, readmessage(ws::HTTP.WebSockets.WebSocket{HTTP.ConnectionPool.Connection}) at WebSockets.jl:260, readavailable at WebSockets.jl:257 [inlined], (::var\"#18#20\")(ws::HTTP.WebSockets.WebSocket{HTTP.ConnectionPool.Connection}) at In[38]:10, upgrade(f::var\"#18#20\", http::HTTP.Streams.Stream{HTTP.Messages.Request{Vector{UInt8}}, HTTP.ConnectionPool.Connection}; binary::Bool) at WebSockets.jl:160, upgrade at WebSockets.jl:142 [inlined], #6 at WebSockets.jl:136 [inlined], handle_transaction(f::HTTP.WebSockets.var\"#6#7\"{Bool, var\"#18#20\"}, c::HTTP.ConnectionPool.Connection, server::HTTP.Servers.Server{Nothing, Sockets.TCPServer}; final_transaction::Bool) at Servers.jl:416, (::HTTP.Servers.var\"#handle_transaction##kw\")(::NamedTuple{(:final_transaction,), Tuple{Bool}}, ::typeof(HTTP.Servers.handle_transaction), f::Function, c::HTTP.ConnectionPool.Connection, server::HTTP.Servers.Server{Nothing, Sockets.TCPServer}) at Servers.jl:387, handle_connection(f::Function, c::HTTP.ConnectionPool.Connection, server::HTTP.Servers.Server{Nothing, Sockets.TCPServer}, reuse_limit::Int64, readtimeout::Int64) at Servers.jl:348, (::HTTP.Servers.var\"#8#9\"{HTTP.WebSockets.var\"#6#7\"{Bool, var\"#18#20\"}, HTTP.Servers.Server{Nothing, Sockets.TCPServer}, Base.RefValue{Int64}, Int64, Int64, Bool, Base.Semaphore, HTTP.ConnectionPool.Connection})() at task.jl:423])\n",
      "└ @ HTTP.Servers /home/mrkos/projects/D3Trees.jl/dev/HTTP/src/Servers.jl:429\n",
      "┌ Error: error handling request\n",
      "│   exception = (HTTP.WebSockets.WebSocketError(0x03e9, \"Status: Going Away, Internal Code: \"), Base.StackTraces.StackFrame[_readframe(ws::HTTP.WebSockets.WebSocket{HTTP.ConnectionPool.Connection}) at WebSockets.jl:311, readmessage(ws::HTTP.WebSockets.WebSocket{HTTP.ConnectionPool.Connection}) at WebSockets.jl:260, readavailable at WebSockets.jl:257 [inlined], (::var\"#18#20\")(ws::HTTP.WebSockets.WebSocket{HTTP.ConnectionPool.Connection}) at In[38]:10, upgrade(f::var\"#18#20\", http::HTTP.Streams.Stream{HTTP.Messages.Request{Vector{UInt8}}, HTTP.ConnectionPool.Connection}; binary::Bool) at WebSockets.jl:160, upgrade at WebSockets.jl:142 [inlined], #6 at WebSockets.jl:136 [inlined], handle_transaction(f::HTTP.WebSockets.var\"#6#7\"{Bool, var\"#18#20\"}, c::HTTP.ConnectionPool.Connection, server::HTTP.Servers.Server{Nothing, Sockets.TCPServer}; final_transaction::Bool) at Servers.jl:416, (::HTTP.Servers.var\"#handle_transaction##kw\")(::NamedTuple{(:final_transaction,), Tuple{Bool}}, ::typeof(HTTP.Servers.handle_transaction), f::Function, c::HTTP.ConnectionPool.Connection, server::HTTP.Servers.Server{Nothing, Sockets.TCPServer}) at Servers.jl:387, handle_connection(f::Function, c::HTTP.ConnectionPool.Connection, server::HTTP.Servers.Server{Nothing, Sockets.TCPServer}, reuse_limit::Int64, readtimeout::Int64) at Servers.jl:348, (::HTTP.Servers.var\"#8#9\"{HTTP.WebSockets.var\"#6#7\"{Bool, var\"#18#20\"}, HTTP.Servers.Server{Nothing, Sockets.TCPServer}, Base.RefValue{Int64}, Int64, Int64, Bool, Base.Semaphore, HTTP.ConnectionPool.Connection})() at task.jl:423])\n",
      "└ @ HTTP.Servers /home/mrkos/projects/D3Trees.jl/dev/HTTP/src/Servers.jl:429\n",
      "┌ Error: error handling request\n",
      "│   exception = (HTTP.WebSockets.WebSocketError(0x03e9, \"Status: Going Away, Internal Code: \"), Base.StackTraces.StackFrame[_readframe(ws::HTTP.WebSockets.WebSocket{HTTP.ConnectionPool.Connection}) at WebSockets.jl:311, readmessage(ws::HTTP.WebSockets.WebSocket{HTTP.ConnectionPool.Connection}) at WebSockets.jl:260, readavailable at WebSockets.jl:257 [inlined], (::var\"#18#20\")(ws::HTTP.WebSockets.WebSocket{HTTP.ConnectionPool.Connection}) at In[38]:10, upgrade(f::var\"#18#20\", http::HTTP.Streams.Stream{HTTP.Messages.Request{Vector{UInt8}}, HTTP.ConnectionPool.Connection}; binary::Bool) at WebSockets.jl:160, upgrade at WebSockets.jl:142 [inlined], #6 at WebSockets.jl:136 [inlined], handle_transaction(f::HTTP.WebSockets.var\"#6#7\"{Bool, var\"#18#20\"}, c::HTTP.ConnectionPool.Connection, server::HTTP.Servers.Server{Nothing, Sockets.TCPServer}; final_transaction::Bool) at Servers.jl:416, (::HTTP.Servers.var\"#handle_transaction##kw\")(::NamedTuple{(:final_transaction,), Tuple{Bool}}, ::typeof(HTTP.Servers.handle_transaction), f::Function, c::HTTP.ConnectionPool.Connection, server::HTTP.Servers.Server{Nothing, Sockets.TCPServer}) at Servers.jl:387, handle_connection(f::Function, c::HTTP.ConnectionPool.Connection, server::HTTP.Servers.Server{Nothing, Sockets.TCPServer}, reuse_limit::Int64, readtimeout::Int64) at Servers.jl:348, (::HTTP.Servers.var\"#8#9\"{HTTP.WebSockets.var\"#6#7\"{Bool, var\"#18#20\"}, HTTP.Servers.Server{Nothing, Sockets.TCPServer}, Base.RefValue{Int64}, Int64, Int64, Bool, Base.Semaphore, HTTP.ConnectionPool.Connection})() at task.jl:423])\n",
      "└ @ HTTP.Servers /home/mrkos/projects/D3Trees.jl/dev/HTTP/src/Servers.jl:429\n",
      "┌ Error: error handling request\n",
      "│   exception = (HTTP.WebSockets.WebSocketError(0x03e9, \"Status: Going Away, Internal Code: \"), Base.StackTraces.StackFrame[_readframe(ws::HTTP.WebSockets.WebSocket{HTTP.ConnectionPool.Connection}) at WebSockets.jl:311, readmessage(ws::HTTP.WebSockets.WebSocket{HTTP.ConnectionPool.Connection}) at WebSockets.jl:260, readavailable at WebSockets.jl:257 [inlined], (::var\"#18#20\")(ws::HTTP.WebSockets.WebSocket{HTTP.ConnectionPool.Connection}) at In[38]:10, upgrade(f::var\"#18#20\", http::HTTP.Streams.Stream{HTTP.Messages.Request{Vector{UInt8}}, HTTP.ConnectionPool.Connection}; binary::Bool) at WebSockets.jl:160, upgrade at WebSockets.jl:142 [inlined], #6 at WebSockets.jl:136 [inlined], handle_transaction(f::HTTP.WebSockets.var\"#6#7\"{Bool, var\"#18#20\"}, c::HTTP.ConnectionPool.Connection, server::HTTP.Servers.Server{Nothing, Sockets.TCPServer}; final_transaction::Bool) at Servers.jl:416, (::HTTP.Servers.var\"#handle_transaction##kw\")(::NamedTuple{(:final_transaction,), Tuple{Bool}}, ::typeof(HTTP.Servers.handle_transaction), f::Function, c::HTTP.ConnectionPool.Connection, server::HTTP.Servers.Server{Nothing, Sockets.TCPServer}) at Servers.jl:387, handle_connection(f::Function, c::HTTP.ConnectionPool.Connection, server::HTTP.Servers.Server{Nothing, Sockets.TCPServer}, reuse_limit::Int64, readtimeout::Int64) at Servers.jl:348, (::HTTP.Servers.var\"#8#9\"{HTTP.WebSockets.var\"#6#7\"{Bool, var\"#18#20\"}, HTTP.Servers.Server{Nothing, Sockets.TCPServer}, Base.RefValue{Int64}, Int64, Int64, Bool, Base.Semaphore, HTTP.ConnectionPool.Connection})() at task.jl:423])\n",
      "└ @ HTTP.Servers /home/mrkos/projects/D3Trees.jl/dev/HTTP/src/Servers.jl:429\n"
     ]
    },
    {
     "name": "stderr",
     "output_type": "stream",
     "text": [
      "┌ Error: error handling request\n",
      "│   exception = (HTTP.WebSockets.WebSocketError(0x03e9, \"Status: Going Away, Internal Code: \"), Base.StackTraces.StackFrame[_readframe(ws::HTTP.WebSockets.WebSocket{HTTP.ConnectionPool.Connection}) at WebSockets.jl:311, readmessage(ws::HTTP.WebSockets.WebSocket{HTTP.ConnectionPool.Connection}) at WebSockets.jl:260, readavailable at WebSockets.jl:257 [inlined], (::var\"#18#20\")(ws::HTTP.WebSockets.WebSocket{HTTP.ConnectionPool.Connection}) at In[38]:10, upgrade(f::var\"#18#20\", http::HTTP.Streams.Stream{HTTP.Messages.Request{Vector{UInt8}}, HTTP.ConnectionPool.Connection}; binary::Bool) at WebSockets.jl:160, upgrade at WebSockets.jl:142 [inlined], #6 at WebSockets.jl:136 [inlined], handle_transaction(f::HTTP.WebSockets.var\"#6#7\"{Bool, var\"#18#20\"}, c::HTTP.ConnectionPool.Connection, server::HTTP.Servers.Server{Nothing, Sockets.TCPServer}; final_transaction::Bool) at Servers.jl:416, (::HTTP.Servers.var\"#handle_transaction##kw\")(::NamedTuple{(:final_transaction,), Tuple{Bool}}, ::typeof(HTTP.Servers.handle_transaction), f::Function, c::HTTP.ConnectionPool.Connection, server::HTTP.Servers.Server{Nothing, Sockets.TCPServer}) at Servers.jl:387, handle_connection(f::Function, c::HTTP.ConnectionPool.Connection, server::HTTP.Servers.Server{Nothing, Sockets.TCPServer}, reuse_limit::Int64, readtimeout::Int64) at Servers.jl:348, (::HTTP.Servers.var\"#8#9\"{HTTP.WebSockets.var\"#6#7\"{Bool, var\"#18#20\"}, HTTP.Servers.Server{Nothing, Sockets.TCPServer}, Base.RefValue{Int64}, Int64, Int64, Bool, Base.Semaphore, HTTP.ConnectionPool.Connection})() at task.jl:423])\n",
      "└ @ HTTP.Servers /home/mrkos/projects/D3Trees.jl/dev/HTTP/src/Servers.jl:429\n",
      "┌ Error: error handling request\n",
      "│   exception = (HTTP.WebSockets.WebSocketError(0x03e9, \"Status: Going Away, Internal Code: \"), Base.StackTraces.StackFrame[_readframe(ws::HTTP.WebSockets.WebSocket{HTTP.ConnectionPool.Connection}) at WebSockets.jl:311, readmessage(ws::HTTP.WebSockets.WebSocket{HTTP.ConnectionPool.Connection}) at WebSockets.jl:260, readavailable at WebSockets.jl:257 [inlined], (::var\"#18#20\")(ws::HTTP.WebSockets.WebSocket{HTTP.ConnectionPool.Connection}) at In[38]:10, upgrade(f::var\"#18#20\", http::HTTP.Streams.Stream{HTTP.Messages.Request{Vector{UInt8}}, HTTP.ConnectionPool.Connection}; binary::Bool) at WebSockets.jl:160, upgrade at WebSockets.jl:142 [inlined], #6 at WebSockets.jl:136 [inlined], handle_transaction(f::HTTP.WebSockets.var\"#6#7\"{Bool, var\"#18#20\"}, c::HTTP.ConnectionPool.Connection, server::HTTP.Servers.Server{Nothing, Sockets.TCPServer}; final_transaction::Bool) at Servers.jl:416, (::HTTP.Servers.var\"#handle_transaction##kw\")(::NamedTuple{(:final_transaction,), Tuple{Bool}}, ::typeof(HTTP.Servers.handle_transaction), f::Function, c::HTTP.ConnectionPool.Connection, server::HTTP.Servers.Server{Nothing, Sockets.TCPServer}) at Servers.jl:387, handle_connection(f::Function, c::HTTP.ConnectionPool.Connection, server::HTTP.Servers.Server{Nothing, Sockets.TCPServer}, reuse_limit::Int64, readtimeout::Int64) at Servers.jl:348, (::HTTP.Servers.var\"#8#9\"{HTTP.WebSockets.var\"#6#7\"{Bool, var\"#18#20\"}, HTTP.Servers.Server{Nothing, Sockets.TCPServer}, Base.RefValue{Int64}, Int64, Int64, Bool, Base.Semaphore, HTTP.ConnectionPool.Connection})() at task.jl:423])\n",
      "└ @ HTTP.Servers /home/mrkos/projects/D3Trees.jl/dev/HTTP/src/Servers.jl:429\n",
      "┌ Error: error handling request\n",
      "│   exception = (HTTP.WebSockets.WebSocketError(0x03e9, \"Status: Going Away, Internal Code: \"), Base.StackTraces.StackFrame[_readframe(ws::HTTP.WebSockets.WebSocket{HTTP.ConnectionPool.Connection}) at WebSockets.jl:311, readmessage(ws::HTTP.WebSockets.WebSocket{HTTP.ConnectionPool.Connection}) at WebSockets.jl:260, readavailable at WebSockets.jl:257 [inlined], (::var\"#18#20\")(ws::HTTP.WebSockets.WebSocket{HTTP.ConnectionPool.Connection}) at In[38]:10, upgrade(f::var\"#18#20\", http::HTTP.Streams.Stream{HTTP.Messages.Request{Vector{UInt8}}, HTTP.ConnectionPool.Connection}; binary::Bool) at WebSockets.jl:160, upgrade at WebSockets.jl:142 [inlined], #6 at WebSockets.jl:136 [inlined], handle_transaction(f::HTTP.WebSockets.var\"#6#7\"{Bool, var\"#18#20\"}, c::HTTP.ConnectionPool.Connection, server::HTTP.Servers.Server{Nothing, Sockets.TCPServer}; final_transaction::Bool) at Servers.jl:416, (::HTTP.Servers.var\"#handle_transaction##kw\")(::NamedTuple{(:final_transaction,), Tuple{Bool}}, ::typeof(HTTP.Servers.handle_transaction), f::Function, c::HTTP.ConnectionPool.Connection, server::HTTP.Servers.Server{Nothing, Sockets.TCPServer}) at Servers.jl:387, handle_connection(f::Function, c::HTTP.ConnectionPool.Connection, server::HTTP.Servers.Server{Nothing, Sockets.TCPServer}, reuse_limit::Int64, readtimeout::Int64) at Servers.jl:348, (::HTTP.Servers.var\"#8#9\"{HTTP.WebSockets.var\"#6#7\"{Bool, var\"#18#20\"}, HTTP.Servers.Server{Nothing, Sockets.TCPServer}, Base.RefValue{Int64}, Int64, Int64, Bool, Base.Semaphore, HTTP.ConnectionPool.Connection})() at task.jl:423])\n",
      "└ @ HTTP.Servers /home/mrkos/projects/D3Trees.jl/dev/HTTP/src/Servers.jl:429\n",
      "┌ Error: error handling request\n",
      "│   exception = (HTTP.WebSockets.WebSocketError(0x03e9, \"Status: Going Away, Internal Code: \"), Base.StackTraces.StackFrame[_readframe(ws::HTTP.WebSockets.WebSocket{HTTP.ConnectionPool.Connection}) at WebSockets.jl:311, readmessage(ws::HTTP.WebSockets.WebSocket{HTTP.ConnectionPool.Connection}) at WebSockets.jl:260, readavailable at WebSockets.jl:257 [inlined], (::var\"#18#20\")(ws::HTTP.WebSockets.WebSocket{HTTP.ConnectionPool.Connection}) at In[38]:10, upgrade(f::var\"#18#20\", http::HTTP.Streams.Stream{HTTP.Messages.Request{Vector{UInt8}}, HTTP.ConnectionPool.Connection}; binary::Bool) at WebSockets.jl:160, upgrade at WebSockets.jl:142 [inlined], #6 at WebSockets.jl:136 [inlined], handle_transaction(f::HTTP.WebSockets.var\"#6#7\"{Bool, var\"#18#20\"}, c::HTTP.ConnectionPool.Connection, server::HTTP.Servers.Server{Nothing, Sockets.TCPServer}; final_transaction::Bool) at Servers.jl:416, (::HTTP.Servers.var\"#handle_transaction##kw\")(::NamedTuple{(:final_transaction,), Tuple{Bool}}, ::typeof(HTTP.Servers.handle_transaction), f::Function, c::HTTP.ConnectionPool.Connection, server::HTTP.Servers.Server{Nothing, Sockets.TCPServer}) at Servers.jl:387, handle_connection(f::Function, c::HTTP.ConnectionPool.Connection, server::HTTP.Servers.Server{Nothing, Sockets.TCPServer}, reuse_limit::Int64, readtimeout::Int64) at Servers.jl:348, (::HTTP.Servers.var\"#8#9\"{HTTP.WebSockets.var\"#6#7\"{Bool, var\"#18#20\"}, HTTP.Servers.Server{Nothing, Sockets.TCPServer}, Base.RefValue{Int64}, Int64, Int64, Bool, Base.Semaphore, HTTP.ConnectionPool.Connection})() at task.jl:423])\n",
      "└ @ HTTP.Servers /home/mrkos/projects/D3Trees.jl/dev/HTTP/src/Servers.jl:429\n",
      "┌ Error: error handling request\n",
      "│   exception = (HTTP.WebSockets.WebSocketError(0x03e9, \"Status: Going Away, Internal Code: \"), Base.StackTraces.StackFrame[_readframe(ws::HTTP.WebSockets.WebSocket{HTTP.ConnectionPool.Connection}) at WebSockets.jl:311, readmessage(ws::HTTP.WebSockets.WebSocket{HTTP.ConnectionPool.Connection}) at WebSockets.jl:260, readavailable at WebSockets.jl:257 [inlined], (::var\"#18#20\")(ws::HTTP.WebSockets.WebSocket{HTTP.ConnectionPool.Connection}) at In[38]:10, upgrade(f::var\"#18#20\", http::HTTP.Streams.Stream{HTTP.Messages.Request{Vector{UInt8}}, HTTP.ConnectionPool.Connection}; binary::Bool) at WebSockets.jl:160, upgrade at WebSockets.jl:142 [inlined], #6 at WebSockets.jl:136 [inlined], handle_transaction(f::HTTP.WebSockets.var\"#6#7\"{Bool, var\"#18#20\"}, c::HTTP.ConnectionPool.Connection, server::HTTP.Servers.Server{Nothing, Sockets.TCPServer}; final_transaction::Bool) at Servers.jl:416, (::HTTP.Servers.var\"#handle_transaction##kw\")(::NamedTuple{(:final_transaction,), Tuple{Bool}}, ::typeof(HTTP.Servers.handle_transaction), f::Function, c::HTTP.ConnectionPool.Connection, server::HTTP.Servers.Server{Nothing, Sockets.TCPServer}) at Servers.jl:387, handle_connection(f::Function, c::HTTP.ConnectionPool.Connection, server::HTTP.Servers.Server{Nothing, Sockets.TCPServer}, reuse_limit::Int64, readtimeout::Int64) at Servers.jl:348, (::HTTP.Servers.var\"#8#9\"{HTTP.WebSockets.var\"#6#7\"{Bool, var\"#18#20\"}, HTTP.Servers.Server{Nothing, Sockets.TCPServer}, Base.RefValue{Int64}, Int64, Int64, Bool, Base.Semaphore, HTTP.ConnectionPool.Connection})() at task.jl:423])\n",
      "└ @ HTTP.Servers /home/mrkos/projects/D3Trees.jl/dev/HTTP/src/Servers.jl:429\n",
      "┌ Error: error handling request\n",
      "│   exception = (HTTP.WebSockets.WebSocketError(0x03e9, \"Status: Going Away, Internal Code: \"), Base.StackTraces.StackFrame[_readframe(ws::HTTP.WebSockets.WebSocket{HTTP.ConnectionPool.Connection}) at WebSockets.jl:311, readmessage(ws::HTTP.WebSockets.WebSocket{HTTP.ConnectionPool.Connection}) at WebSockets.jl:260, readavailable at WebSockets.jl:257 [inlined], (::var\"#18#20\")(ws::HTTP.WebSockets.WebSocket{HTTP.ConnectionPool.Connection}) at In[38]:10, upgrade(f::var\"#18#20\", http::HTTP.Streams.Stream{HTTP.Messages.Request{Vector{UInt8}}, HTTP.ConnectionPool.Connection}; binary::Bool) at WebSockets.jl:160, upgrade at WebSockets.jl:142 [inlined], #6 at WebSockets.jl:136 [inlined], handle_transaction(f::HTTP.WebSockets.var\"#6#7\"{Bool, var\"#18#20\"}, c::HTTP.ConnectionPool.Connection, server::HTTP.Servers.Server{Nothing, Sockets.TCPServer}; final_transaction::Bool) at Servers.jl:416, (::HTTP.Servers.var\"#handle_transaction##kw\")(::NamedTuple{(:final_transaction,), Tuple{Bool}}, ::typeof(HTTP.Servers.handle_transaction), f::Function, c::HTTP.ConnectionPool.Connection, server::HTTP.Servers.Server{Nothing, Sockets.TCPServer}) at Servers.jl:387, handle_connection(f::Function, c::HTTP.ConnectionPool.Connection, server::HTTP.Servers.Server{Nothing, Sockets.TCPServer}, reuse_limit::Int64, readtimeout::Int64) at Servers.jl:348, (::HTTP.Servers.var\"#8#9\"{HTTP.WebSockets.var\"#6#7\"{Bool, var\"#18#20\"}, HTTP.Servers.Server{Nothing, Sockets.TCPServer}, Base.RefValue{Int64}, Int64, Int64, Bool, Base.Semaphore, HTTP.ConnectionPool.Connection})() at task.jl:423])\n",
      "└ @ HTTP.Servers /home/mrkos/projects/D3Trees.jl/dev/HTTP/src/Servers.jl:429\n",
      "┌ Error: error handling request\n",
      "│   exception = (HTTP.WebSockets.WebSocketError(0x03e9, \"Status: Going Away, Internal Code: \"), Base.StackTraces.StackFrame[_readframe(ws::HTTP.WebSockets.WebSocket{HTTP.ConnectionPool.Connection}) at WebSockets.jl:311, readmessage(ws::HTTP.WebSockets.WebSocket{HTTP.ConnectionPool.Connection}) at WebSockets.jl:260, readavailable at WebSockets.jl:257 [inlined], (::var\"#18#20\")(ws::HTTP.WebSockets.WebSocket{HTTP.ConnectionPool.Connection}) at In[38]:10, upgrade(f::var\"#18#20\", http::HTTP.Streams.Stream{HTTP.Messages.Request{Vector{UInt8}}, HTTP.ConnectionPool.Connection}; binary::Bool) at WebSockets.jl:160, upgrade at WebSockets.jl:142 [inlined], #6 at WebSockets.jl:136 [inlined], handle_transaction(f::HTTP.WebSockets.var\"#6#7\"{Bool, var\"#18#20\"}, c::HTTP.ConnectionPool.Connection, server::HTTP.Servers.Server{Nothing, Sockets.TCPServer}; final_transaction::Bool) at Servers.jl:416, (::HTTP.Servers.var\"#handle_transaction##kw\")(::NamedTuple{(:final_transaction,), Tuple{Bool}}, ::typeof(HTTP.Servers.handle_transaction), f::Function, c::HTTP.ConnectionPool.Connection, server::HTTP.Servers.Server{Nothing, Sockets.TCPServer}) at Servers.jl:387, handle_connection(f::Function, c::HTTP.ConnectionPool.Connection, server::HTTP.Servers.Server{Nothing, Sockets.TCPServer}, reuse_limit::Int64, readtimeout::Int64) at Servers.jl:348, (::HTTP.Servers.var\"#8#9\"{HTTP.WebSockets.var\"#6#7\"{Bool, var\"#18#20\"}, HTTP.Servers.Server{Nothing, Sockets.TCPServer}, Base.RefValue{Int64}, Int64, Int64, Bool, Base.Semaphore, HTTP.ConnectionPool.Connection})() at task.jl:423])\n",
      "└ @ HTTP.Servers /home/mrkos/projects/D3Trees.jl/dev/HTTP/src/Servers.jl:429\n"
     ]
    },
    {
     "name": "stderr",
     "output_type": "stream",
     "text": [
      "┌ Error: error handling request\n",
      "│   exception = (HTTP.WebSockets.WebSocketError(0x03e9, \"Status: Going Away, Internal Code: \"), Base.StackTraces.StackFrame[_readframe(ws::HTTP.WebSockets.WebSocket{HTTP.ConnectionPool.Connection}) at WebSockets.jl:311, readmessage(ws::HTTP.WebSockets.WebSocket{HTTP.ConnectionPool.Connection}) at WebSockets.jl:260, readavailable at WebSockets.jl:257 [inlined], (::var\"#18#20\")(ws::HTTP.WebSockets.WebSocket{HTTP.ConnectionPool.Connection}) at In[38]:10, upgrade(f::var\"#18#20\", http::HTTP.Streams.Stream{HTTP.Messages.Request{Vector{UInt8}}, HTTP.ConnectionPool.Connection}; binary::Bool) at WebSockets.jl:160, upgrade at WebSockets.jl:142 [inlined], #6 at WebSockets.jl:136 [inlined], handle_transaction(f::HTTP.WebSockets.var\"#6#7\"{Bool, var\"#18#20\"}, c::HTTP.ConnectionPool.Connection, server::HTTP.Servers.Server{Nothing, Sockets.TCPServer}; final_transaction::Bool) at Servers.jl:416, (::HTTP.Servers.var\"#handle_transaction##kw\")(::NamedTuple{(:final_transaction,), Tuple{Bool}}, ::typeof(HTTP.Servers.handle_transaction), f::Function, c::HTTP.ConnectionPool.Connection, server::HTTP.Servers.Server{Nothing, Sockets.TCPServer}) at Servers.jl:387, handle_connection(f::Function, c::HTTP.ConnectionPool.Connection, server::HTTP.Servers.Server{Nothing, Sockets.TCPServer}, reuse_limit::Int64, readtimeout::Int64) at Servers.jl:348, (::HTTP.Servers.var\"#8#9\"{HTTP.WebSockets.var\"#6#7\"{Bool, var\"#18#20\"}, HTTP.Servers.Server{Nothing, Sockets.TCPServer}, Base.RefValue{Int64}, Int64, Int64, Bool, Base.Semaphore, HTTP.ConnectionPool.Connection})() at task.jl:423])\n",
      "└ @ HTTP.Servers /home/mrkos/projects/D3Trees.jl/dev/HTTP/src/Servers.jl:429\n",
      "┌ Error: error handling request\n",
      "│   exception = (HTTP.WebSockets.WebSocketError(0x03e9, \"Status: Going Away, Internal Code: \"), Base.StackTraces.StackFrame[_readframe(ws::HTTP.WebSockets.WebSocket{HTTP.ConnectionPool.Connection}) at WebSockets.jl:311, readmessage(ws::HTTP.WebSockets.WebSocket{HTTP.ConnectionPool.Connection}) at WebSockets.jl:260, readavailable at WebSockets.jl:257 [inlined], (::var\"#18#20\")(ws::HTTP.WebSockets.WebSocket{HTTP.ConnectionPool.Connection}) at In[38]:10, upgrade(f::var\"#18#20\", http::HTTP.Streams.Stream{HTTP.Messages.Request{Vector{UInt8}}, HTTP.ConnectionPool.Connection}; binary::Bool) at WebSockets.jl:160, upgrade at WebSockets.jl:142 [inlined], #6 at WebSockets.jl:136 [inlined], handle_transaction(f::HTTP.WebSockets.var\"#6#7\"{Bool, var\"#18#20\"}, c::HTTP.ConnectionPool.Connection, server::HTTP.Servers.Server{Nothing, Sockets.TCPServer}; final_transaction::Bool) at Servers.jl:416, (::HTTP.Servers.var\"#handle_transaction##kw\")(::NamedTuple{(:final_transaction,), Tuple{Bool}}, ::typeof(HTTP.Servers.handle_transaction), f::Function, c::HTTP.ConnectionPool.Connection, server::HTTP.Servers.Server{Nothing, Sockets.TCPServer}) at Servers.jl:387, handle_connection(f::Function, c::HTTP.ConnectionPool.Connection, server::HTTP.Servers.Server{Nothing, Sockets.TCPServer}, reuse_limit::Int64, readtimeout::Int64) at Servers.jl:348, (::HTTP.Servers.var\"#8#9\"{HTTP.WebSockets.var\"#6#7\"{Bool, var\"#18#20\"}, HTTP.Servers.Server{Nothing, Sockets.TCPServer}, Base.RefValue{Int64}, Int64, Int64, Bool, Base.Semaphore, HTTP.ConnectionPool.Connection})() at task.jl:423])\n",
      "└ @ HTTP.Servers /home/mrkos/projects/D3Trees.jl/dev/HTTP/src/Servers.jl:429\n",
      "┌ Error: error handling request\n",
      "│   exception = (HTTP.WebSockets.WebSocketError(0x03e9, \"Status: Going Away, Internal Code: \"), Base.StackTraces.StackFrame[_readframe(ws::HTTP.WebSockets.WebSocket{HTTP.ConnectionPool.Connection}) at WebSockets.jl:311, readmessage(ws::HTTP.WebSockets.WebSocket{HTTP.ConnectionPool.Connection}) at WebSockets.jl:260, readavailable at WebSockets.jl:257 [inlined], (::var\"#18#20\")(ws::HTTP.WebSockets.WebSocket{HTTP.ConnectionPool.Connection}) at In[38]:10, upgrade(f::var\"#18#20\", http::HTTP.Streams.Stream{HTTP.Messages.Request{Vector{UInt8}}, HTTP.ConnectionPool.Connection}; binary::Bool) at WebSockets.jl:160, upgrade at WebSockets.jl:142 [inlined], #6 at WebSockets.jl:136 [inlined], handle_transaction(f::HTTP.WebSockets.var\"#6#7\"{Bool, var\"#18#20\"}, c::HTTP.ConnectionPool.Connection, server::HTTP.Servers.Server{Nothing, Sockets.TCPServer}; final_transaction::Bool) at Servers.jl:416, (::HTTP.Servers.var\"#handle_transaction##kw\")(::NamedTuple{(:final_transaction,), Tuple{Bool}}, ::typeof(HTTP.Servers.handle_transaction), f::Function, c::HTTP.ConnectionPool.Connection, server::HTTP.Servers.Server{Nothing, Sockets.TCPServer}) at Servers.jl:387, handle_connection(f::Function, c::HTTP.ConnectionPool.Connection, server::HTTP.Servers.Server{Nothing, Sockets.TCPServer}, reuse_limit::Int64, readtimeout::Int64) at Servers.jl:348, (::HTTP.Servers.var\"#8#9\"{HTTP.WebSockets.var\"#6#7\"{Bool, var\"#18#20\"}, HTTP.Servers.Server{Nothing, Sockets.TCPServer}, Base.RefValue{Int64}, Int64, Int64, Bool, Base.Semaphore, HTTP.ConnectionPool.Connection})() at task.jl:423])\n",
      "└ @ HTTP.Servers /home/mrkos/projects/D3Trees.jl/dev/HTTP/src/Servers.jl:429\n",
      "┌ Error: error handling request\n",
      "│   exception = (HTTP.WebSockets.WebSocketError(0x03e9, \"Status: Going Away, Internal Code: \"), Base.StackTraces.StackFrame[_readframe(ws::HTTP.WebSockets.WebSocket{HTTP.ConnectionPool.Connection}) at WebSockets.jl:311, readmessage(ws::HTTP.WebSockets.WebSocket{HTTP.ConnectionPool.Connection}) at WebSockets.jl:260, readavailable at WebSockets.jl:257 [inlined], (::var\"#18#20\")(ws::HTTP.WebSockets.WebSocket{HTTP.ConnectionPool.Connection}) at In[38]:10, upgrade(f::var\"#18#20\", http::HTTP.Streams.Stream{HTTP.Messages.Request{Vector{UInt8}}, HTTP.ConnectionPool.Connection}; binary::Bool) at WebSockets.jl:160, upgrade at WebSockets.jl:142 [inlined], #6 at WebSockets.jl:136 [inlined], handle_transaction(f::HTTP.WebSockets.var\"#6#7\"{Bool, var\"#18#20\"}, c::HTTP.ConnectionPool.Connection, server::HTTP.Servers.Server{Nothing, Sockets.TCPServer}; final_transaction::Bool) at Servers.jl:416, (::HTTP.Servers.var\"#handle_transaction##kw\")(::NamedTuple{(:final_transaction,), Tuple{Bool}}, ::typeof(HTTP.Servers.handle_transaction), f::Function, c::HTTP.ConnectionPool.Connection, server::HTTP.Servers.Server{Nothing, Sockets.TCPServer}) at Servers.jl:387, handle_connection(f::Function, c::HTTP.ConnectionPool.Connection, server::HTTP.Servers.Server{Nothing, Sockets.TCPServer}, reuse_limit::Int64, readtimeout::Int64) at Servers.jl:348, (::HTTP.Servers.var\"#8#9\"{HTTP.WebSockets.var\"#6#7\"{Bool, var\"#18#20\"}, HTTP.Servers.Server{Nothing, Sockets.TCPServer}, Base.RefValue{Int64}, Int64, Int64, Bool, Base.Semaphore, HTTP.ConnectionPool.Connection})() at task.jl:423])\n",
      "└ @ HTTP.Servers /home/mrkos/projects/D3Trees.jl/dev/HTTP/src/Servers.jl:429\n",
      "┌ Error: error handling request\n",
      "│   exception = (HTTP.WebSockets.WebSocketError(0x03e9, \"Status: Going Away, Internal Code: \"), Base.StackTraces.StackFrame[_readframe(ws::HTTP.WebSockets.WebSocket{HTTP.ConnectionPool.Connection}) at WebSockets.jl:311, readmessage(ws::HTTP.WebSockets.WebSocket{HTTP.ConnectionPool.Connection}) at WebSockets.jl:260, readavailable at WebSockets.jl:257 [inlined], (::var\"#18#20\")(ws::HTTP.WebSockets.WebSocket{HTTP.ConnectionPool.Connection}) at In[38]:10, upgrade(f::var\"#18#20\", http::HTTP.Streams.Stream{HTTP.Messages.Request{Vector{UInt8}}, HTTP.ConnectionPool.Connection}; binary::Bool) at WebSockets.jl:160, upgrade at WebSockets.jl:142 [inlined], #6 at WebSockets.jl:136 [inlined], handle_transaction(f::HTTP.WebSockets.var\"#6#7\"{Bool, var\"#18#20\"}, c::HTTP.ConnectionPool.Connection, server::HTTP.Servers.Server{Nothing, Sockets.TCPServer}; final_transaction::Bool) at Servers.jl:416, (::HTTP.Servers.var\"#handle_transaction##kw\")(::NamedTuple{(:final_transaction,), Tuple{Bool}}, ::typeof(HTTP.Servers.handle_transaction), f::Function, c::HTTP.ConnectionPool.Connection, server::HTTP.Servers.Server{Nothing, Sockets.TCPServer}) at Servers.jl:387, handle_connection(f::Function, c::HTTP.ConnectionPool.Connection, server::HTTP.Servers.Server{Nothing, Sockets.TCPServer}, reuse_limit::Int64, readtimeout::Int64) at Servers.jl:348, (::HTTP.Servers.var\"#8#9\"{HTTP.WebSockets.var\"#6#7\"{Bool, var\"#18#20\"}, HTTP.Servers.Server{Nothing, Sockets.TCPServer}, Base.RefValue{Int64}, Int64, Int64, Bool, Base.Semaphore, HTTP.ConnectionPool.Connection})() at task.jl:423])\n",
      "└ @ HTTP.Servers /home/mrkos/projects/D3Trees.jl/dev/HTTP/src/Servers.jl:429\n",
      "┌ Error: error handling request\n",
      "│   exception = (HTTP.WebSockets.WebSocketError(0x03e9, \"Status: Going Away, Internal Code: \"), Base.StackTraces.StackFrame[_readframe(ws::HTTP.WebSockets.WebSocket{HTTP.ConnectionPool.Connection}) at WebSockets.jl:311, readmessage(ws::HTTP.WebSockets.WebSocket{HTTP.ConnectionPool.Connection}) at WebSockets.jl:260, readavailable at WebSockets.jl:257 [inlined], (::var\"#18#20\")(ws::HTTP.WebSockets.WebSocket{HTTP.ConnectionPool.Connection}) at In[38]:10, upgrade(f::var\"#18#20\", http::HTTP.Streams.Stream{HTTP.Messages.Request{Vector{UInt8}}, HTTP.ConnectionPool.Connection}; binary::Bool) at WebSockets.jl:160, upgrade at WebSockets.jl:142 [inlined], #6 at WebSockets.jl:136 [inlined], handle_transaction(f::HTTP.WebSockets.var\"#6#7\"{Bool, var\"#18#20\"}, c::HTTP.ConnectionPool.Connection, server::HTTP.Servers.Server{Nothing, Sockets.TCPServer}; final_transaction::Bool) at Servers.jl:416, (::HTTP.Servers.var\"#handle_transaction##kw\")(::NamedTuple{(:final_transaction,), Tuple{Bool}}, ::typeof(HTTP.Servers.handle_transaction), f::Function, c::HTTP.ConnectionPool.Connection, server::HTTP.Servers.Server{Nothing, Sockets.TCPServer}) at Servers.jl:387, handle_connection(f::Function, c::HTTP.ConnectionPool.Connection, server::HTTP.Servers.Server{Nothing, Sockets.TCPServer}, reuse_limit::Int64, readtimeout::Int64) at Servers.jl:348, (::HTTP.Servers.var\"#8#9\"{HTTP.WebSockets.var\"#6#7\"{Bool, var\"#18#20\"}, HTTP.Servers.Server{Nothing, Sockets.TCPServer}, Base.RefValue{Int64}, Int64, Int64, Bool, Base.Semaphore, HTTP.ConnectionPool.Connection})() at task.jl:423])\n",
      "└ @ HTTP.Servers /home/mrkos/projects/D3Trees.jl/dev/HTTP/src/Servers.jl:429\n",
      "┌ Error: error handling request\n",
      "│   exception = (HTTP.WebSockets.WebSocketError(0x03e9, \"Status: Going Away, Internal Code: \"), Base.StackTraces.StackFrame[_readframe(ws::HTTP.WebSockets.WebSocket{HTTP.ConnectionPool.Connection}) at WebSockets.jl:311, readmessage(ws::HTTP.WebSockets.WebSocket{HTTP.ConnectionPool.Connection}) at WebSockets.jl:260, readavailable at WebSockets.jl:257 [inlined], (::var\"#18#20\")(ws::HTTP.WebSockets.WebSocket{HTTP.ConnectionPool.Connection}) at In[38]:10, upgrade(f::var\"#18#20\", http::HTTP.Streams.Stream{HTTP.Messages.Request{Vector{UInt8}}, HTTP.ConnectionPool.Connection}; binary::Bool) at WebSockets.jl:160, upgrade at WebSockets.jl:142 [inlined], #6 at WebSockets.jl:136 [inlined], handle_transaction(f::HTTP.WebSockets.var\"#6#7\"{Bool, var\"#18#20\"}, c::HTTP.ConnectionPool.Connection, server::HTTP.Servers.Server{Nothing, Sockets.TCPServer}; final_transaction::Bool) at Servers.jl:416, (::HTTP.Servers.var\"#handle_transaction##kw\")(::NamedTuple{(:final_transaction,), Tuple{Bool}}, ::typeof(HTTP.Servers.handle_transaction), f::Function, c::HTTP.ConnectionPool.Connection, server::HTTP.Servers.Server{Nothing, Sockets.TCPServer}) at Servers.jl:387, handle_connection(f::Function, c::HTTP.ConnectionPool.Connection, server::HTTP.Servers.Server{Nothing, Sockets.TCPServer}, reuse_limit::Int64, readtimeout::Int64) at Servers.jl:348, (::HTTP.Servers.var\"#8#9\"{HTTP.WebSockets.var\"#6#7\"{Bool, var\"#18#20\"}, HTTP.Servers.Server{Nothing, Sockets.TCPServer}, Base.RefValue{Int64}, Int64, Int64, Bool, Base.Semaphore, HTTP.ConnectionPool.Connection})() at task.jl:423])\n",
      "└ @ HTTP.Servers /home/mrkos/projects/D3Trees.jl/dev/HTTP/src/Servers.jl:429\n"
     ]
    },
    {
     "name": "stderr",
     "output_type": "stream",
     "text": [
      "┌ Error: error handling request\n",
      "│   exception = (HTTP.WebSockets.WebSocketError(0x03e9, \"Status: Going Away, Internal Code: \"), Base.StackTraces.StackFrame[_readframe(ws::HTTP.WebSockets.WebSocket{HTTP.ConnectionPool.Connection}) at WebSockets.jl:311, readmessage(ws::HTTP.WebSockets.WebSocket{HTTP.ConnectionPool.Connection}) at WebSockets.jl:260, readavailable at WebSockets.jl:257 [inlined], (::var\"#18#20\")(ws::HTTP.WebSockets.WebSocket{HTTP.ConnectionPool.Connection}) at In[38]:10, upgrade(f::var\"#18#20\", http::HTTP.Streams.Stream{HTTP.Messages.Request{Vector{UInt8}}, HTTP.ConnectionPool.Connection}; binary::Bool) at WebSockets.jl:160, upgrade at WebSockets.jl:142 [inlined], #6 at WebSockets.jl:136 [inlined], handle_transaction(f::HTTP.WebSockets.var\"#6#7\"{Bool, var\"#18#20\"}, c::HTTP.ConnectionPool.Connection, server::HTTP.Servers.Server{Nothing, Sockets.TCPServer}; final_transaction::Bool) at Servers.jl:416, (::HTTP.Servers.var\"#handle_transaction##kw\")(::NamedTuple{(:final_transaction,), Tuple{Bool}}, ::typeof(HTTP.Servers.handle_transaction), f::Function, c::HTTP.ConnectionPool.Connection, server::HTTP.Servers.Server{Nothing, Sockets.TCPServer}) at Servers.jl:387, handle_connection(f::Function, c::HTTP.ConnectionPool.Connection, server::HTTP.Servers.Server{Nothing, Sockets.TCPServer}, reuse_limit::Int64, readtimeout::Int64) at Servers.jl:348, (::HTTP.Servers.var\"#8#9\"{HTTP.WebSockets.var\"#6#7\"{Bool, var\"#18#20\"}, HTTP.Servers.Server{Nothing, Sockets.TCPServer}, Base.RefValue{Int64}, Int64, Int64, Bool, Base.Semaphore, HTTP.ConnectionPool.Connection})() at task.jl:423])\n",
      "└ @ HTTP.Servers /home/mrkos/projects/D3Trees.jl/dev/HTTP/src/Servers.jl:429\n",
      "┌ Error: error handling request\n",
      "│   exception = (HTTP.WebSockets.WebSocketError(0x03e9, \"Status: Going Away, Internal Code: \"), Base.StackTraces.StackFrame[_readframe(ws::HTTP.WebSockets.WebSocket{HTTP.ConnectionPool.Connection}) at WebSockets.jl:311, readmessage(ws::HTTP.WebSockets.WebSocket{HTTP.ConnectionPool.Connection}) at WebSockets.jl:260, readavailable at WebSockets.jl:257 [inlined], (::var\"#18#20\")(ws::HTTP.WebSockets.WebSocket{HTTP.ConnectionPool.Connection}) at In[38]:10, upgrade(f::var\"#18#20\", http::HTTP.Streams.Stream{HTTP.Messages.Request{Vector{UInt8}}, HTTP.ConnectionPool.Connection}; binary::Bool) at WebSockets.jl:160, upgrade at WebSockets.jl:142 [inlined], #6 at WebSockets.jl:136 [inlined], handle_transaction(f::HTTP.WebSockets.var\"#6#7\"{Bool, var\"#18#20\"}, c::HTTP.ConnectionPool.Connection, server::HTTP.Servers.Server{Nothing, Sockets.TCPServer}; final_transaction::Bool) at Servers.jl:416, (::HTTP.Servers.var\"#handle_transaction##kw\")(::NamedTuple{(:final_transaction,), Tuple{Bool}}, ::typeof(HTTP.Servers.handle_transaction), f::Function, c::HTTP.ConnectionPool.Connection, server::HTTP.Servers.Server{Nothing, Sockets.TCPServer}) at Servers.jl:387, handle_connection(f::Function, c::HTTP.ConnectionPool.Connection, server::HTTP.Servers.Server{Nothing, Sockets.TCPServer}, reuse_limit::Int64, readtimeout::Int64) at Servers.jl:348, (::HTTP.Servers.var\"#8#9\"{HTTP.WebSockets.var\"#6#7\"{Bool, var\"#18#20\"}, HTTP.Servers.Server{Nothing, Sockets.TCPServer}, Base.RefValue{Int64}, Int64, Int64, Bool, Base.Semaphore, HTTP.ConnectionPool.Connection})() at task.jl:423])\n",
      "└ @ HTTP.Servers /home/mrkos/projects/D3Trees.jl/dev/HTTP/src/Servers.jl:429\n",
      "┌ Error: error handling request\n",
      "│   exception = (HTTP.WebSockets.WebSocketError(0x03e9, \"Status: Going Away, Internal Code: \"), Base.StackTraces.StackFrame[_readframe(ws::HTTP.WebSockets.WebSocket{HTTP.ConnectionPool.Connection}) at WebSockets.jl:311, readmessage(ws::HTTP.WebSockets.WebSocket{HTTP.ConnectionPool.Connection}) at WebSockets.jl:260, readavailable at WebSockets.jl:257 [inlined], (::var\"#18#20\")(ws::HTTP.WebSockets.WebSocket{HTTP.ConnectionPool.Connection}) at In[38]:10, upgrade(f::var\"#18#20\", http::HTTP.Streams.Stream{HTTP.Messages.Request{Vector{UInt8}}, HTTP.ConnectionPool.Connection}; binary::Bool) at WebSockets.jl:160, upgrade at WebSockets.jl:142 [inlined], #6 at WebSockets.jl:136 [inlined], handle_transaction(f::HTTP.WebSockets.var\"#6#7\"{Bool, var\"#18#20\"}, c::HTTP.ConnectionPool.Connection, server::HTTP.Servers.Server{Nothing, Sockets.TCPServer}; final_transaction::Bool) at Servers.jl:416, (::HTTP.Servers.var\"#handle_transaction##kw\")(::NamedTuple{(:final_transaction,), Tuple{Bool}}, ::typeof(HTTP.Servers.handle_transaction), f::Function, c::HTTP.ConnectionPool.Connection, server::HTTP.Servers.Server{Nothing, Sockets.TCPServer}) at Servers.jl:387, handle_connection(f::Function, c::HTTP.ConnectionPool.Connection, server::HTTP.Servers.Server{Nothing, Sockets.TCPServer}, reuse_limit::Int64, readtimeout::Int64) at Servers.jl:348, (::HTTP.Servers.var\"#8#9\"{HTTP.WebSockets.var\"#6#7\"{Bool, var\"#18#20\"}, HTTP.Servers.Server{Nothing, Sockets.TCPServer}, Base.RefValue{Int64}, Int64, Int64, Bool, Base.Semaphore, HTTP.ConnectionPool.Connection})() at task.jl:423])\n",
      "└ @ HTTP.Servers /home/mrkos/projects/D3Trees.jl/dev/HTTP/src/Servers.jl:429\n",
      "┌ Error: error handling request\n",
      "│   exception = (HTTP.WebSockets.WebSocketError(0x03e9, \"Status: Going Away, Internal Code: \"), Base.StackTraces.StackFrame[_readframe(ws::HTTP.WebSockets.WebSocket{HTTP.ConnectionPool.Connection}) at WebSockets.jl:311, readmessage(ws::HTTP.WebSockets.WebSocket{HTTP.ConnectionPool.Connection}) at WebSockets.jl:260, readavailable at WebSockets.jl:257 [inlined], (::var\"#18#20\")(ws::HTTP.WebSockets.WebSocket{HTTP.ConnectionPool.Connection}) at In[38]:10, upgrade(f::var\"#18#20\", http::HTTP.Streams.Stream{HTTP.Messages.Request{Vector{UInt8}}, HTTP.ConnectionPool.Connection}; binary::Bool) at WebSockets.jl:160, upgrade at WebSockets.jl:142 [inlined], #6 at WebSockets.jl:136 [inlined], handle_transaction(f::HTTP.WebSockets.var\"#6#7\"{Bool, var\"#18#20\"}, c::HTTP.ConnectionPool.Connection, server::HTTP.Servers.Server{Nothing, Sockets.TCPServer}; final_transaction::Bool) at Servers.jl:416, (::HTTP.Servers.var\"#handle_transaction##kw\")(::NamedTuple{(:final_transaction,), Tuple{Bool}}, ::typeof(HTTP.Servers.handle_transaction), f::Function, c::HTTP.ConnectionPool.Connection, server::HTTP.Servers.Server{Nothing, Sockets.TCPServer}) at Servers.jl:387, handle_connection(f::Function, c::HTTP.ConnectionPool.Connection, server::HTTP.Servers.Server{Nothing, Sockets.TCPServer}, reuse_limit::Int64, readtimeout::Int64) at Servers.jl:348, (::HTTP.Servers.var\"#8#9\"{HTTP.WebSockets.var\"#6#7\"{Bool, var\"#18#20\"}, HTTP.Servers.Server{Nothing, Sockets.TCPServer}, Base.RefValue{Int64}, Int64, Int64, Bool, Base.Semaphore, HTTP.ConnectionPool.Connection})() at task.jl:423])\n",
      "└ @ HTTP.Servers /home/mrkos/projects/D3Trees.jl/dev/HTTP/src/Servers.jl:429\n",
      "┌ Error: error handling request\n",
      "│   exception = (HTTP.WebSockets.WebSocketError(0x03e9, \"Status: Going Away, Internal Code: \"), Base.StackTraces.StackFrame[_readframe(ws::HTTP.WebSockets.WebSocket{HTTP.ConnectionPool.Connection}) at WebSockets.jl:311, readmessage(ws::HTTP.WebSockets.WebSocket{HTTP.ConnectionPool.Connection}) at WebSockets.jl:260, readavailable at WebSockets.jl:257 [inlined], (::var\"#18#20\")(ws::HTTP.WebSockets.WebSocket{HTTP.ConnectionPool.Connection}) at In[38]:10, upgrade(f::var\"#18#20\", http::HTTP.Streams.Stream{HTTP.Messages.Request{Vector{UInt8}}, HTTP.ConnectionPool.Connection}; binary::Bool) at WebSockets.jl:160, upgrade at WebSockets.jl:142 [inlined], #6 at WebSockets.jl:136 [inlined], handle_transaction(f::HTTP.WebSockets.var\"#6#7\"{Bool, var\"#18#20\"}, c::HTTP.ConnectionPool.Connection, server::HTTP.Servers.Server{Nothing, Sockets.TCPServer}; final_transaction::Bool) at Servers.jl:416, (::HTTP.Servers.var\"#handle_transaction##kw\")(::NamedTuple{(:final_transaction,), Tuple{Bool}}, ::typeof(HTTP.Servers.handle_transaction), f::Function, c::HTTP.ConnectionPool.Connection, server::HTTP.Servers.Server{Nothing, Sockets.TCPServer}) at Servers.jl:387, handle_connection(f::Function, c::HTTP.ConnectionPool.Connection, server::HTTP.Servers.Server{Nothing, Sockets.TCPServer}, reuse_limit::Int64, readtimeout::Int64) at Servers.jl:348, (::HTTP.Servers.var\"#8#9\"{HTTP.WebSockets.var\"#6#7\"{Bool, var\"#18#20\"}, HTTP.Servers.Server{Nothing, Sockets.TCPServer}, Base.RefValue{Int64}, Int64, Int64, Bool, Base.Semaphore, HTTP.ConnectionPool.Connection})() at task.jl:423])\n",
      "└ @ HTTP.Servers /home/mrkos/projects/D3Trees.jl/dev/HTTP/src/Servers.jl:429\n",
      "┌ Error: error handling request\n",
      "│   exception = (HTTP.WebSockets.WebSocketError(0x03e9, \"Status: Going Away, Internal Code: \"), Base.StackTraces.StackFrame[_readframe(ws::HTTP.WebSockets.WebSocket{HTTP.ConnectionPool.Connection}) at WebSockets.jl:311, readmessage(ws::HTTP.WebSockets.WebSocket{HTTP.ConnectionPool.Connection}) at WebSockets.jl:260, readavailable at WebSockets.jl:257 [inlined], (::var\"#18#20\")(ws::HTTP.WebSockets.WebSocket{HTTP.ConnectionPool.Connection}) at In[38]:10, upgrade(f::var\"#18#20\", http::HTTP.Streams.Stream{HTTP.Messages.Request{Vector{UInt8}}, HTTP.ConnectionPool.Connection}; binary::Bool) at WebSockets.jl:160, upgrade at WebSockets.jl:142 [inlined], #6 at WebSockets.jl:136 [inlined], handle_transaction(f::HTTP.WebSockets.var\"#6#7\"{Bool, var\"#18#20\"}, c::HTTP.ConnectionPool.Connection, server::HTTP.Servers.Server{Nothing, Sockets.TCPServer}; final_transaction::Bool) at Servers.jl:416, (::HTTP.Servers.var\"#handle_transaction##kw\")(::NamedTuple{(:final_transaction,), Tuple{Bool}}, ::typeof(HTTP.Servers.handle_transaction), f::Function, c::HTTP.ConnectionPool.Connection, server::HTTP.Servers.Server{Nothing, Sockets.TCPServer}) at Servers.jl:387, handle_connection(f::Function, c::HTTP.ConnectionPool.Connection, server::HTTP.Servers.Server{Nothing, Sockets.TCPServer}, reuse_limit::Int64, readtimeout::Int64) at Servers.jl:348, (::HTTP.Servers.var\"#8#9\"{HTTP.WebSockets.var\"#6#7\"{Bool, var\"#18#20\"}, HTTP.Servers.Server{Nothing, Sockets.TCPServer}, Base.RefValue{Int64}, Int64, Int64, Bool, Base.Semaphore, HTTP.ConnectionPool.Connection})() at task.jl:423])\n",
      "└ @ HTTP.Servers /home/mrkos/projects/D3Trees.jl/dev/HTTP/src/Servers.jl:429\n",
      "┌ Error: error handling request\n",
      "│   exception = (HTTP.WebSockets.WebSocketError(0x03e9, \"Status: Going Away, Internal Code: \"), Base.StackTraces.StackFrame[_readframe(ws::HTTP.WebSockets.WebSocket{HTTP.ConnectionPool.Connection}) at WebSockets.jl:311, readmessage(ws::HTTP.WebSockets.WebSocket{HTTP.ConnectionPool.Connection}) at WebSockets.jl:260, readavailable at WebSockets.jl:257 [inlined], (::var\"#18#20\")(ws::HTTP.WebSockets.WebSocket{HTTP.ConnectionPool.Connection}) at In[38]:10, upgrade(f::var\"#18#20\", http::HTTP.Streams.Stream{HTTP.Messages.Request{Vector{UInt8}}, HTTP.ConnectionPool.Connection}; binary::Bool) at WebSockets.jl:160, upgrade at WebSockets.jl:142 [inlined], #6 at WebSockets.jl:136 [inlined], handle_transaction(f::HTTP.WebSockets.var\"#6#7\"{Bool, var\"#18#20\"}, c::HTTP.ConnectionPool.Connection, server::HTTP.Servers.Server{Nothing, Sockets.TCPServer}; final_transaction::Bool) at Servers.jl:416, (::HTTP.Servers.var\"#handle_transaction##kw\")(::NamedTuple{(:final_transaction,), Tuple{Bool}}, ::typeof(HTTP.Servers.handle_transaction), f::Function, c::HTTP.ConnectionPool.Connection, server::HTTP.Servers.Server{Nothing, Sockets.TCPServer}) at Servers.jl:387, handle_connection(f::Function, c::HTTP.ConnectionPool.Connection, server::HTTP.Servers.Server{Nothing, Sockets.TCPServer}, reuse_limit::Int64, readtimeout::Int64) at Servers.jl:348, (::HTTP.Servers.var\"#8#9\"{HTTP.WebSockets.var\"#6#7\"{Bool, var\"#18#20\"}, HTTP.Servers.Server{Nothing, Sockets.TCPServer}, Base.RefValue{Int64}, Int64, Int64, Bool, Base.Semaphore, HTTP.ConnectionPool.Connection})() at task.jl:423])\n",
      "└ @ HTTP.Servers /home/mrkos/projects/D3Trees.jl/dev/HTTP/src/Servers.jl:429\n"
     ]
    },
    {
     "name": "stderr",
     "output_type": "stream",
     "text": [
      "┌ Error: error handling request\n",
      "│   exception = (HTTP.WebSockets.WebSocketError(0x03e9, \"Status: Going Away, Internal Code: \"), Base.StackTraces.StackFrame[_readframe(ws::HTTP.WebSockets.WebSocket{HTTP.ConnectionPool.Connection}) at WebSockets.jl:311, readmessage(ws::HTTP.WebSockets.WebSocket{HTTP.ConnectionPool.Connection}) at WebSockets.jl:260, readavailable at WebSockets.jl:257 [inlined], (::var\"#18#20\")(ws::HTTP.WebSockets.WebSocket{HTTP.ConnectionPool.Connection}) at In[38]:10, upgrade(f::var\"#18#20\", http::HTTP.Streams.Stream{HTTP.Messages.Request{Vector{UInt8}}, HTTP.ConnectionPool.Connection}; binary::Bool) at WebSockets.jl:160, upgrade at WebSockets.jl:142 [inlined], #6 at WebSockets.jl:136 [inlined], handle_transaction(f::HTTP.WebSockets.var\"#6#7\"{Bool, var\"#18#20\"}, c::HTTP.ConnectionPool.Connection, server::HTTP.Servers.Server{Nothing, Sockets.TCPServer}; final_transaction::Bool) at Servers.jl:416, (::HTTP.Servers.var\"#handle_transaction##kw\")(::NamedTuple{(:final_transaction,), Tuple{Bool}}, ::typeof(HTTP.Servers.handle_transaction), f::Function, c::HTTP.ConnectionPool.Connection, server::HTTP.Servers.Server{Nothing, Sockets.TCPServer}) at Servers.jl:387, handle_connection(f::Function, c::HTTP.ConnectionPool.Connection, server::HTTP.Servers.Server{Nothing, Sockets.TCPServer}, reuse_limit::Int64, readtimeout::Int64) at Servers.jl:348, (::HTTP.Servers.var\"#8#9\"{HTTP.WebSockets.var\"#6#7\"{Bool, var\"#18#20\"}, HTTP.Servers.Server{Nothing, Sockets.TCPServer}, Base.RefValue{Int64}, Int64, Int64, Bool, Base.Semaphore, HTTP.ConnectionPool.Connection})() at task.jl:423])\n",
      "└ @ HTTP.Servers /home/mrkos/projects/D3Trees.jl/dev/HTTP/src/Servers.jl:429\n",
      "┌ Error: error handling request\n",
      "│   exception = (HTTP.WebSockets.WebSocketError(0x03e9, \"Status: Going Away, Internal Code: \"), Base.StackTraces.StackFrame[_readframe(ws::HTTP.WebSockets.WebSocket{HTTP.ConnectionPool.Connection}) at WebSockets.jl:311, readmessage(ws::HTTP.WebSockets.WebSocket{HTTP.ConnectionPool.Connection}) at WebSockets.jl:260, readavailable at WebSockets.jl:257 [inlined], (::var\"#18#20\")(ws::HTTP.WebSockets.WebSocket{HTTP.ConnectionPool.Connection}) at In[38]:10, upgrade(f::var\"#18#20\", http::HTTP.Streams.Stream{HTTP.Messages.Request{Vector{UInt8}}, HTTP.ConnectionPool.Connection}; binary::Bool) at WebSockets.jl:160, upgrade at WebSockets.jl:142 [inlined], #6 at WebSockets.jl:136 [inlined], handle_transaction(f::HTTP.WebSockets.var\"#6#7\"{Bool, var\"#18#20\"}, c::HTTP.ConnectionPool.Connection, server::HTTP.Servers.Server{Nothing, Sockets.TCPServer}; final_transaction::Bool) at Servers.jl:416, (::HTTP.Servers.var\"#handle_transaction##kw\")(::NamedTuple{(:final_transaction,), Tuple{Bool}}, ::typeof(HTTP.Servers.handle_transaction), f::Function, c::HTTP.ConnectionPool.Connection, server::HTTP.Servers.Server{Nothing, Sockets.TCPServer}) at Servers.jl:387, handle_connection(f::Function, c::HTTP.ConnectionPool.Connection, server::HTTP.Servers.Server{Nothing, Sockets.TCPServer}, reuse_limit::Int64, readtimeout::Int64) at Servers.jl:348, (::HTTP.Servers.var\"#8#9\"{HTTP.WebSockets.var\"#6#7\"{Bool, var\"#18#20\"}, HTTP.Servers.Server{Nothing, Sockets.TCPServer}, Base.RefValue{Int64}, Int64, Int64, Bool, Base.Semaphore, HTTP.ConnectionPool.Connection})() at task.jl:423])\n",
      "└ @ HTTP.Servers /home/mrkos/projects/D3Trees.jl/dev/HTTP/src/Servers.jl:429\n",
      "┌ Error: error handling request\n",
      "│   exception = (HTTP.WebSockets.WebSocketError(0x03e9, \"Status: Going Away, Internal Code: \"), Base.StackTraces.StackFrame[_readframe(ws::HTTP.WebSockets.WebSocket{HTTP.ConnectionPool.Connection}) at WebSockets.jl:311, readmessage(ws::HTTP.WebSockets.WebSocket{HTTP.ConnectionPool.Connection}) at WebSockets.jl:260, readavailable at WebSockets.jl:257 [inlined], (::var\"#18#20\")(ws::HTTP.WebSockets.WebSocket{HTTP.ConnectionPool.Connection}) at In[38]:10, upgrade(f::var\"#18#20\", http::HTTP.Streams.Stream{HTTP.Messages.Request{Vector{UInt8}}, HTTP.ConnectionPool.Connection}; binary::Bool) at WebSockets.jl:160, upgrade at WebSockets.jl:142 [inlined], #6 at WebSockets.jl:136 [inlined], handle_transaction(f::HTTP.WebSockets.var\"#6#7\"{Bool, var\"#18#20\"}, c::HTTP.ConnectionPool.Connection, server::HTTP.Servers.Server{Nothing, Sockets.TCPServer}; final_transaction::Bool) at Servers.jl:416, (::HTTP.Servers.var\"#handle_transaction##kw\")(::NamedTuple{(:final_transaction,), Tuple{Bool}}, ::typeof(HTTP.Servers.handle_transaction), f::Function, c::HTTP.ConnectionPool.Connection, server::HTTP.Servers.Server{Nothing, Sockets.TCPServer}) at Servers.jl:387, handle_connection(f::Function, c::HTTP.ConnectionPool.Connection, server::HTTP.Servers.Server{Nothing, Sockets.TCPServer}, reuse_limit::Int64, readtimeout::Int64) at Servers.jl:348, (::HTTP.Servers.var\"#8#9\"{HTTP.WebSockets.var\"#6#7\"{Bool, var\"#18#20\"}, HTTP.Servers.Server{Nothing, Sockets.TCPServer}, Base.RefValue{Int64}, Int64, Int64, Bool, Base.Semaphore, HTTP.ConnectionPool.Connection})() at task.jl:423])\n",
      "└ @ HTTP.Servers /home/mrkos/projects/D3Trees.jl/dev/HTTP/src/Servers.jl:429\n",
      "┌ Error: error handling request\n",
      "│   exception = (HTTP.WebSockets.WebSocketError(0x03e9, \"Status: Going Away, Internal Code: \"), Base.StackTraces.StackFrame[_readframe(ws::HTTP.WebSockets.WebSocket{HTTP.ConnectionPool.Connection}) at WebSockets.jl:311, readmessage(ws::HTTP.WebSockets.WebSocket{HTTP.ConnectionPool.Connection}) at WebSockets.jl:260, readavailable at WebSockets.jl:257 [inlined], (::var\"#18#20\")(ws::HTTP.WebSockets.WebSocket{HTTP.ConnectionPool.Connection}) at In[38]:10, upgrade(f::var\"#18#20\", http::HTTP.Streams.Stream{HTTP.Messages.Request{Vector{UInt8}}, HTTP.ConnectionPool.Connection}; binary::Bool) at WebSockets.jl:160, upgrade at WebSockets.jl:142 [inlined], #6 at WebSockets.jl:136 [inlined], handle_transaction(f::HTTP.WebSockets.var\"#6#7\"{Bool, var\"#18#20\"}, c::HTTP.ConnectionPool.Connection, server::HTTP.Servers.Server{Nothing, Sockets.TCPServer}; final_transaction::Bool) at Servers.jl:416, (::HTTP.Servers.var\"#handle_transaction##kw\")(::NamedTuple{(:final_transaction,), Tuple{Bool}}, ::typeof(HTTP.Servers.handle_transaction), f::Function, c::HTTP.ConnectionPool.Connection, server::HTTP.Servers.Server{Nothing, Sockets.TCPServer}) at Servers.jl:387, handle_connection(f::Function, c::HTTP.ConnectionPool.Connection, server::HTTP.Servers.Server{Nothing, Sockets.TCPServer}, reuse_limit::Int64, readtimeout::Int64) at Servers.jl:348, (::HTTP.Servers.var\"#8#9\"{HTTP.WebSockets.var\"#6#7\"{Bool, var\"#18#20\"}, HTTP.Servers.Server{Nothing, Sockets.TCPServer}, Base.RefValue{Int64}, Int64, Int64, Bool, Base.Semaphore, HTTP.ConnectionPool.Connection})() at task.jl:423])\n",
      "└ @ HTTP.Servers /home/mrkos/projects/D3Trees.jl/dev/HTTP/src/Servers.jl:429\n",
      "┌ Error: error handling request\n",
      "│   exception = (HTTP.WebSockets.WebSocketError(0x03e9, \"Status: Going Away, Internal Code: \"), Base.StackTraces.StackFrame[_readframe(ws::HTTP.WebSockets.WebSocket{HTTP.ConnectionPool.Connection}) at WebSockets.jl:311, readmessage(ws::HTTP.WebSockets.WebSocket{HTTP.ConnectionPool.Connection}) at WebSockets.jl:260, readavailable at WebSockets.jl:257 [inlined], (::var\"#18#20\")(ws::HTTP.WebSockets.WebSocket{HTTP.ConnectionPool.Connection}) at In[38]:10, upgrade(f::var\"#18#20\", http::HTTP.Streams.Stream{HTTP.Messages.Request{Vector{UInt8}}, HTTP.ConnectionPool.Connection}; binary::Bool) at WebSockets.jl:160, upgrade at WebSockets.jl:142 [inlined], #6 at WebSockets.jl:136 [inlined], handle_transaction(f::HTTP.WebSockets.var\"#6#7\"{Bool, var\"#18#20\"}, c::HTTP.ConnectionPool.Connection, server::HTTP.Servers.Server{Nothing, Sockets.TCPServer}; final_transaction::Bool) at Servers.jl:416, (::HTTP.Servers.var\"#handle_transaction##kw\")(::NamedTuple{(:final_transaction,), Tuple{Bool}}, ::typeof(HTTP.Servers.handle_transaction), f::Function, c::HTTP.ConnectionPool.Connection, server::HTTP.Servers.Server{Nothing, Sockets.TCPServer}) at Servers.jl:387, handle_connection(f::Function, c::HTTP.ConnectionPool.Connection, server::HTTP.Servers.Server{Nothing, Sockets.TCPServer}, reuse_limit::Int64, readtimeout::Int64) at Servers.jl:348, (::HTTP.Servers.var\"#8#9\"{HTTP.WebSockets.var\"#6#7\"{Bool, var\"#18#20\"}, HTTP.Servers.Server{Nothing, Sockets.TCPServer}, Base.RefValue{Int64}, Int64, Int64, Bool, Base.Semaphore, HTTP.ConnectionPool.Connection})() at task.jl:423])\n",
      "└ @ HTTP.Servers /home/mrkos/projects/D3Trees.jl/dev/HTTP/src/Servers.jl:429\n",
      "┌ Error: error handling request\n",
      "│   exception = (HTTP.WebSockets.WebSocketError(0x03e9, \"Status: Going Away, Internal Code: \"), Base.StackTraces.StackFrame[_readframe(ws::HTTP.WebSockets.WebSocket{HTTP.ConnectionPool.Connection}) at WebSockets.jl:311, readmessage(ws::HTTP.WebSockets.WebSocket{HTTP.ConnectionPool.Connection}) at WebSockets.jl:260, readavailable at WebSockets.jl:257 [inlined], (::var\"#18#20\")(ws::HTTP.WebSockets.WebSocket{HTTP.ConnectionPool.Connection}) at In[38]:10, upgrade(f::var\"#18#20\", http::HTTP.Streams.Stream{HTTP.Messages.Request{Vector{UInt8}}, HTTP.ConnectionPool.Connection}; binary::Bool) at WebSockets.jl:160, upgrade at WebSockets.jl:142 [inlined], #6 at WebSockets.jl:136 [inlined], handle_transaction(f::HTTP.WebSockets.var\"#6#7\"{Bool, var\"#18#20\"}, c::HTTP.ConnectionPool.Connection, server::HTTP.Servers.Server{Nothing, Sockets.TCPServer}; final_transaction::Bool) at Servers.jl:416, (::HTTP.Servers.var\"#handle_transaction##kw\")(::NamedTuple{(:final_transaction,), Tuple{Bool}}, ::typeof(HTTP.Servers.handle_transaction), f::Function, c::HTTP.ConnectionPool.Connection, server::HTTP.Servers.Server{Nothing, Sockets.TCPServer}) at Servers.jl:387, handle_connection(f::Function, c::HTTP.ConnectionPool.Connection, server::HTTP.Servers.Server{Nothing, Sockets.TCPServer}, reuse_limit::Int64, readtimeout::Int64) at Servers.jl:348, (::HTTP.Servers.var\"#8#9\"{HTTP.WebSockets.var\"#6#7\"{Bool, var\"#18#20\"}, HTTP.Servers.Server{Nothing, Sockets.TCPServer}, Base.RefValue{Int64}, Int64, Int64, Bool, Base.Semaphore, HTTP.ConnectionPool.Connection})() at task.jl:423])\n",
      "└ @ HTTP.Servers /home/mrkos/projects/D3Trees.jl/dev/HTTP/src/Servers.jl:429\n",
      "┌ Error: error handling request\n",
      "│   exception = (HTTP.WebSockets.WebSocketError(0x03e9, \"Status: Going Away, Internal Code: \"), Base.StackTraces.StackFrame[_readframe(ws::HTTP.WebSockets.WebSocket{HTTP.ConnectionPool.Connection}) at WebSockets.jl:311, readmessage(ws::HTTP.WebSockets.WebSocket{HTTP.ConnectionPool.Connection}) at WebSockets.jl:260, readavailable at WebSockets.jl:257 [inlined], (::var\"#18#20\")(ws::HTTP.WebSockets.WebSocket{HTTP.ConnectionPool.Connection}) at In[38]:10, upgrade(f::var\"#18#20\", http::HTTP.Streams.Stream{HTTP.Messages.Request{Vector{UInt8}}, HTTP.ConnectionPool.Connection}; binary::Bool) at WebSockets.jl:160, upgrade at WebSockets.jl:142 [inlined], #6 at WebSockets.jl:136 [inlined], handle_transaction(f::HTTP.WebSockets.var\"#6#7\"{Bool, var\"#18#20\"}, c::HTTP.ConnectionPool.Connection, server::HTTP.Servers.Server{Nothing, Sockets.TCPServer}; final_transaction::Bool) at Servers.jl:416, (::HTTP.Servers.var\"#handle_transaction##kw\")(::NamedTuple{(:final_transaction,), Tuple{Bool}}, ::typeof(HTTP.Servers.handle_transaction), f::Function, c::HTTP.ConnectionPool.Connection, server::HTTP.Servers.Server{Nothing, Sockets.TCPServer}) at Servers.jl:387, handle_connection(f::Function, c::HTTP.ConnectionPool.Connection, server::HTTP.Servers.Server{Nothing, Sockets.TCPServer}, reuse_limit::Int64, readtimeout::Int64) at Servers.jl:348, (::HTTP.Servers.var\"#8#9\"{HTTP.WebSockets.var\"#6#7\"{Bool, var\"#18#20\"}, HTTP.Servers.Server{Nothing, Sockets.TCPServer}, Base.RefValue{Int64}, Int64, Int64, Bool, Base.Semaphore, HTTP.ConnectionPool.Connection})() at task.jl:423])\n",
      "└ @ HTTP.Servers /home/mrkos/projects/D3Trees.jl/dev/HTTP/src/Servers.jl:429\n"
     ]
    },
    {
     "name": "stderr",
     "output_type": "stream",
     "text": [
      "┌ Error: error handling request\n",
      "│   exception = (HTTP.WebSockets.WebSocketError(0x03e9, \"Status: Going Away, Internal Code: \"), Base.StackTraces.StackFrame[_readframe(ws::HTTP.WebSockets.WebSocket{HTTP.ConnectionPool.Connection}) at WebSockets.jl:311, readmessage(ws::HTTP.WebSockets.WebSocket{HTTP.ConnectionPool.Connection}) at WebSockets.jl:260, readavailable at WebSockets.jl:257 [inlined], (::var\"#18#20\")(ws::HTTP.WebSockets.WebSocket{HTTP.ConnectionPool.Connection}) at In[38]:10, upgrade(f::var\"#18#20\", http::HTTP.Streams.Stream{HTTP.Messages.Request{Vector{UInt8}}, HTTP.ConnectionPool.Connection}; binary::Bool) at WebSockets.jl:160, upgrade at WebSockets.jl:142 [inlined], #6 at WebSockets.jl:136 [inlined], handle_transaction(f::HTTP.WebSockets.var\"#6#7\"{Bool, var\"#18#20\"}, c::HTTP.ConnectionPool.Connection, server::HTTP.Servers.Server{Nothing, Sockets.TCPServer}; final_transaction::Bool) at Servers.jl:416, (::HTTP.Servers.var\"#handle_transaction##kw\")(::NamedTuple{(:final_transaction,), Tuple{Bool}}, ::typeof(HTTP.Servers.handle_transaction), f::Function, c::HTTP.ConnectionPool.Connection, server::HTTP.Servers.Server{Nothing, Sockets.TCPServer}) at Servers.jl:387, handle_connection(f::Function, c::HTTP.ConnectionPool.Connection, server::HTTP.Servers.Server{Nothing, Sockets.TCPServer}, reuse_limit::Int64, readtimeout::Int64) at Servers.jl:348, (::HTTP.Servers.var\"#8#9\"{HTTP.WebSockets.var\"#6#7\"{Bool, var\"#18#20\"}, HTTP.Servers.Server{Nothing, Sockets.TCPServer}, Base.RefValue{Int64}, Int64, Int64, Bool, Base.Semaphore, HTTP.ConnectionPool.Connection})() at task.jl:423])\n",
      "└ @ HTTP.Servers /home/mrkos/projects/D3Trees.jl/dev/HTTP/src/Servers.jl:429\n",
      "┌ Error: error handling request\n",
      "│   exception = (HTTP.WebSockets.WebSocketError(0x03e9, \"Status: Going Away, Internal Code: \"), Base.StackTraces.StackFrame[_readframe(ws::HTTP.WebSockets.WebSocket{HTTP.ConnectionPool.Connection}) at WebSockets.jl:311, readmessage(ws::HTTP.WebSockets.WebSocket{HTTP.ConnectionPool.Connection}) at WebSockets.jl:260, readavailable at WebSockets.jl:257 [inlined], (::var\"#18#20\")(ws::HTTP.WebSockets.WebSocket{HTTP.ConnectionPool.Connection}) at In[38]:10, upgrade(f::var\"#18#20\", http::HTTP.Streams.Stream{HTTP.Messages.Request{Vector{UInt8}}, HTTP.ConnectionPool.Connection}; binary::Bool) at WebSockets.jl:160, upgrade at WebSockets.jl:142 [inlined], #6 at WebSockets.jl:136 [inlined], handle_transaction(f::HTTP.WebSockets.var\"#6#7\"{Bool, var\"#18#20\"}, c::HTTP.ConnectionPool.Connection, server::HTTP.Servers.Server{Nothing, Sockets.TCPServer}; final_transaction::Bool) at Servers.jl:416, (::HTTP.Servers.var\"#handle_transaction##kw\")(::NamedTuple{(:final_transaction,), Tuple{Bool}}, ::typeof(HTTP.Servers.handle_transaction), f::Function, c::HTTP.ConnectionPool.Connection, server::HTTP.Servers.Server{Nothing, Sockets.TCPServer}) at Servers.jl:387, handle_connection(f::Function, c::HTTP.ConnectionPool.Connection, server::HTTP.Servers.Server{Nothing, Sockets.TCPServer}, reuse_limit::Int64, readtimeout::Int64) at Servers.jl:348, (::HTTP.Servers.var\"#8#9\"{HTTP.WebSockets.var\"#6#7\"{Bool, var\"#18#20\"}, HTTP.Servers.Server{Nothing, Sockets.TCPServer}, Base.RefValue{Int64}, Int64, Int64, Bool, Base.Semaphore, HTTP.ConnectionPool.Connection})() at task.jl:423])\n",
      "└ @ HTTP.Servers /home/mrkos/projects/D3Trees.jl/dev/HTTP/src/Servers.jl:429\n",
      "┌ Error: error handling request\n",
      "│   exception = (HTTP.WebSockets.WebSocketError(0x03e9, \"Status: Going Away, Internal Code: \"), Base.StackTraces.StackFrame[_readframe(ws::HTTP.WebSockets.WebSocket{HTTP.ConnectionPool.Connection}) at WebSockets.jl:311, readmessage(ws::HTTP.WebSockets.WebSocket{HTTP.ConnectionPool.Connection}) at WebSockets.jl:260, readavailable at WebSockets.jl:257 [inlined], (::var\"#18#20\")(ws::HTTP.WebSockets.WebSocket{HTTP.ConnectionPool.Connection}) at In[38]:10, upgrade(f::var\"#18#20\", http::HTTP.Streams.Stream{HTTP.Messages.Request{Vector{UInt8}}, HTTP.ConnectionPool.Connection}; binary::Bool) at WebSockets.jl:160, upgrade at WebSockets.jl:142 [inlined], #6 at WebSockets.jl:136 [inlined], handle_transaction(f::HTTP.WebSockets.var\"#6#7\"{Bool, var\"#18#20\"}, c::HTTP.ConnectionPool.Connection, server::HTTP.Servers.Server{Nothing, Sockets.TCPServer}; final_transaction::Bool) at Servers.jl:416, (::HTTP.Servers.var\"#handle_transaction##kw\")(::NamedTuple{(:final_transaction,), Tuple{Bool}}, ::typeof(HTTP.Servers.handle_transaction), f::Function, c::HTTP.ConnectionPool.Connection, server::HTTP.Servers.Server{Nothing, Sockets.TCPServer}) at Servers.jl:387, handle_connection(f::Function, c::HTTP.ConnectionPool.Connection, server::HTTP.Servers.Server{Nothing, Sockets.TCPServer}, reuse_limit::Int64, readtimeout::Int64) at Servers.jl:348, (::HTTP.Servers.var\"#8#9\"{HTTP.WebSockets.var\"#6#7\"{Bool, var\"#18#20\"}, HTTP.Servers.Server{Nothing, Sockets.TCPServer}, Base.RefValue{Int64}, Int64, Int64, Bool, Base.Semaphore, HTTP.ConnectionPool.Connection})() at task.jl:423])\n",
      "└ @ HTTP.Servers /home/mrkos/projects/D3Trees.jl/dev/HTTP/src/Servers.jl:429\n",
      "┌ Error: error handling request\n",
      "│   exception = (HTTP.WebSockets.WebSocketError(0x03e9, \"Status: Going Away, Internal Code: \"), Base.StackTraces.StackFrame[_readframe(ws::HTTP.WebSockets.WebSocket{HTTP.ConnectionPool.Connection}) at WebSockets.jl:311, readmessage(ws::HTTP.WebSockets.WebSocket{HTTP.ConnectionPool.Connection}) at WebSockets.jl:260, readavailable at WebSockets.jl:257 [inlined], (::var\"#18#20\")(ws::HTTP.WebSockets.WebSocket{HTTP.ConnectionPool.Connection}) at In[38]:10, upgrade(f::var\"#18#20\", http::HTTP.Streams.Stream{HTTP.Messages.Request{Vector{UInt8}}, HTTP.ConnectionPool.Connection}; binary::Bool) at WebSockets.jl:160, upgrade at WebSockets.jl:142 [inlined], #6 at WebSockets.jl:136 [inlined], handle_transaction(f::HTTP.WebSockets.var\"#6#7\"{Bool, var\"#18#20\"}, c::HTTP.ConnectionPool.Connection, server::HTTP.Servers.Server{Nothing, Sockets.TCPServer}; final_transaction::Bool) at Servers.jl:416, (::HTTP.Servers.var\"#handle_transaction##kw\")(::NamedTuple{(:final_transaction,), Tuple{Bool}}, ::typeof(HTTP.Servers.handle_transaction), f::Function, c::HTTP.ConnectionPool.Connection, server::HTTP.Servers.Server{Nothing, Sockets.TCPServer}) at Servers.jl:387, handle_connection(f::Function, c::HTTP.ConnectionPool.Connection, server::HTTP.Servers.Server{Nothing, Sockets.TCPServer}, reuse_limit::Int64, readtimeout::Int64) at Servers.jl:348, (::HTTP.Servers.var\"#8#9\"{HTTP.WebSockets.var\"#6#7\"{Bool, var\"#18#20\"}, HTTP.Servers.Server{Nothing, Sockets.TCPServer}, Base.RefValue{Int64}, Int64, Int64, Bool, Base.Semaphore, HTTP.ConnectionPool.Connection})() at task.jl:423])\n",
      "└ @ HTTP.Servers /home/mrkos/projects/D3Trees.jl/dev/HTTP/src/Servers.jl:429\n",
      "┌ Error: error handling request\n",
      "│   exception = (HTTP.WebSockets.WebSocketError(0x03e9, \"Status: Going Away, Internal Code: \"), Base.StackTraces.StackFrame[_readframe(ws::HTTP.WebSockets.WebSocket{HTTP.ConnectionPool.Connection}) at WebSockets.jl:311, readmessage(ws::HTTP.WebSockets.WebSocket{HTTP.ConnectionPool.Connection}) at WebSockets.jl:260, readavailable at WebSockets.jl:257 [inlined], (::var\"#18#20\")(ws::HTTP.WebSockets.WebSocket{HTTP.ConnectionPool.Connection}) at In[38]:10, upgrade(f::var\"#18#20\", http::HTTP.Streams.Stream{HTTP.Messages.Request{Vector{UInt8}}, HTTP.ConnectionPool.Connection}; binary::Bool) at WebSockets.jl:160, upgrade at WebSockets.jl:142 [inlined], #6 at WebSockets.jl:136 [inlined], handle_transaction(f::HTTP.WebSockets.var\"#6#7\"{Bool, var\"#18#20\"}, c::HTTP.ConnectionPool.Connection, server::HTTP.Servers.Server{Nothing, Sockets.TCPServer}; final_transaction::Bool) at Servers.jl:416, (::HTTP.Servers.var\"#handle_transaction##kw\")(::NamedTuple{(:final_transaction,), Tuple{Bool}}, ::typeof(HTTP.Servers.handle_transaction), f::Function, c::HTTP.ConnectionPool.Connection, server::HTTP.Servers.Server{Nothing, Sockets.TCPServer}) at Servers.jl:387, handle_connection(f::Function, c::HTTP.ConnectionPool.Connection, server::HTTP.Servers.Server{Nothing, Sockets.TCPServer}, reuse_limit::Int64, readtimeout::Int64) at Servers.jl:348, (::HTTP.Servers.var\"#8#9\"{HTTP.WebSockets.var\"#6#7\"{Bool, var\"#18#20\"}, HTTP.Servers.Server{Nothing, Sockets.TCPServer}, Base.RefValue{Int64}, Int64, Int64, Bool, Base.Semaphore, HTTP.ConnectionPool.Connection})() at task.jl:423])\n",
      "└ @ HTTP.Servers /home/mrkos/projects/D3Trees.jl/dev/HTTP/src/Servers.jl:429\n",
      "┌ Error: error handling request\n",
      "│   exception = (HTTP.WebSockets.WebSocketError(0x03e9, \"Status: Going Away, Internal Code: \"), Base.StackTraces.StackFrame[_readframe(ws::HTTP.WebSockets.WebSocket{HTTP.ConnectionPool.Connection}) at WebSockets.jl:311, readmessage(ws::HTTP.WebSockets.WebSocket{HTTP.ConnectionPool.Connection}) at WebSockets.jl:260, readavailable at WebSockets.jl:257 [inlined], (::var\"#18#20\")(ws::HTTP.WebSockets.WebSocket{HTTP.ConnectionPool.Connection}) at In[38]:10, upgrade(f::var\"#18#20\", http::HTTP.Streams.Stream{HTTP.Messages.Request{Vector{UInt8}}, HTTP.ConnectionPool.Connection}; binary::Bool) at WebSockets.jl:160, upgrade at WebSockets.jl:142 [inlined], #6 at WebSockets.jl:136 [inlined], handle_transaction(f::HTTP.WebSockets.var\"#6#7\"{Bool, var\"#18#20\"}, c::HTTP.ConnectionPool.Connection, server::HTTP.Servers.Server{Nothing, Sockets.TCPServer}; final_transaction::Bool) at Servers.jl:416, (::HTTP.Servers.var\"#handle_transaction##kw\")(::NamedTuple{(:final_transaction,), Tuple{Bool}}, ::typeof(HTTP.Servers.handle_transaction), f::Function, c::HTTP.ConnectionPool.Connection, server::HTTP.Servers.Server{Nothing, Sockets.TCPServer}) at Servers.jl:387, handle_connection(f::Function, c::HTTP.ConnectionPool.Connection, server::HTTP.Servers.Server{Nothing, Sockets.TCPServer}, reuse_limit::Int64, readtimeout::Int64) at Servers.jl:348, (::HTTP.Servers.var\"#8#9\"{HTTP.WebSockets.var\"#6#7\"{Bool, var\"#18#20\"}, HTTP.Servers.Server{Nothing, Sockets.TCPServer}, Base.RefValue{Int64}, Int64, Int64, Bool, Base.Semaphore, HTTP.ConnectionPool.Connection})() at task.jl:423])\n",
      "└ @ HTTP.Servers /home/mrkos/projects/D3Trees.jl/dev/HTTP/src/Servers.jl:429\n",
      "┌ Error: error handling request\n",
      "│   exception = (HTTP.WebSockets.WebSocketError(0x03e9, \"Status: Going Away, Internal Code: \"), Base.StackTraces.StackFrame[_readframe(ws::HTTP.WebSockets.WebSocket{HTTP.ConnectionPool.Connection}) at WebSockets.jl:311, readmessage(ws::HTTP.WebSockets.WebSocket{HTTP.ConnectionPool.Connection}) at WebSockets.jl:260, readavailable at WebSockets.jl:257 [inlined], (::var\"#18#20\")(ws::HTTP.WebSockets.WebSocket{HTTP.ConnectionPool.Connection}) at In[38]:10, upgrade(f::var\"#18#20\", http::HTTP.Streams.Stream{HTTP.Messages.Request{Vector{UInt8}}, HTTP.ConnectionPool.Connection}; binary::Bool) at WebSockets.jl:160, upgrade at WebSockets.jl:142 [inlined], #6 at WebSockets.jl:136 [inlined], handle_transaction(f::HTTP.WebSockets.var\"#6#7\"{Bool, var\"#18#20\"}, c::HTTP.ConnectionPool.Connection, server::HTTP.Servers.Server{Nothing, Sockets.TCPServer}; final_transaction::Bool) at Servers.jl:416, (::HTTP.Servers.var\"#handle_transaction##kw\")(::NamedTuple{(:final_transaction,), Tuple{Bool}}, ::typeof(HTTP.Servers.handle_transaction), f::Function, c::HTTP.ConnectionPool.Connection, server::HTTP.Servers.Server{Nothing, Sockets.TCPServer}) at Servers.jl:387, handle_connection(f::Function, c::HTTP.ConnectionPool.Connection, server::HTTP.Servers.Server{Nothing, Sockets.TCPServer}, reuse_limit::Int64, readtimeout::Int64) at Servers.jl:348, (::HTTP.Servers.var\"#8#9\"{HTTP.WebSockets.var\"#6#7\"{Bool, var\"#18#20\"}, HTTP.Servers.Server{Nothing, Sockets.TCPServer}, Base.RefValue{Int64}, Int64, Int64, Bool, Base.Semaphore, HTTP.ConnectionPool.Connection})() at task.jl:423])\n",
      "└ @ HTTP.Servers /home/mrkos/projects/D3Trees.jl/dev/HTTP/src/Servers.jl:429\n"
     ]
    },
    {
     "name": "stderr",
     "output_type": "stream",
     "text": [
      "┌ Error: error handling request\n",
      "│   exception = (HTTP.WebSockets.WebSocketError(0x03e9, \"Status: Going Away, Internal Code: \"), Base.StackTraces.StackFrame[_readframe(ws::HTTP.WebSockets.WebSocket{HTTP.ConnectionPool.Connection}) at WebSockets.jl:311, readmessage(ws::HTTP.WebSockets.WebSocket{HTTP.ConnectionPool.Connection}) at WebSockets.jl:260, readavailable at WebSockets.jl:257 [inlined], (::var\"#18#20\")(ws::HTTP.WebSockets.WebSocket{HTTP.ConnectionPool.Connection}) at In[38]:10, upgrade(f::var\"#18#20\", http::HTTP.Streams.Stream{HTTP.Messages.Request{Vector{UInt8}}, HTTP.ConnectionPool.Connection}; binary::Bool) at WebSockets.jl:160, upgrade at WebSockets.jl:142 [inlined], #6 at WebSockets.jl:136 [inlined], handle_transaction(f::HTTP.WebSockets.var\"#6#7\"{Bool, var\"#18#20\"}, c::HTTP.ConnectionPool.Connection, server::HTTP.Servers.Server{Nothing, Sockets.TCPServer}; final_transaction::Bool) at Servers.jl:416, (::HTTP.Servers.var\"#handle_transaction##kw\")(::NamedTuple{(:final_transaction,), Tuple{Bool}}, ::typeof(HTTP.Servers.handle_transaction), f::Function, c::HTTP.ConnectionPool.Connection, server::HTTP.Servers.Server{Nothing, Sockets.TCPServer}) at Servers.jl:387, handle_connection(f::Function, c::HTTP.ConnectionPool.Connection, server::HTTP.Servers.Server{Nothing, Sockets.TCPServer}, reuse_limit::Int64, readtimeout::Int64) at Servers.jl:348, (::HTTP.Servers.var\"#8#9\"{HTTP.WebSockets.var\"#6#7\"{Bool, var\"#18#20\"}, HTTP.Servers.Server{Nothing, Sockets.TCPServer}, Base.RefValue{Int64}, Int64, Int64, Bool, Base.Semaphore, HTTP.ConnectionPool.Connection})() at task.jl:423])\n",
      "└ @ HTTP.Servers /home/mrkos/projects/D3Trees.jl/dev/HTTP/src/Servers.jl:429\n",
      "┌ Error: error handling request\n",
      "│   exception = (HTTP.WebSockets.WebSocketError(0x03e9, \"Status: Going Away, Internal Code: \"), Base.StackTraces.StackFrame[_readframe(ws::HTTP.WebSockets.WebSocket{HTTP.ConnectionPool.Connection}) at WebSockets.jl:311, readmessage(ws::HTTP.WebSockets.WebSocket{HTTP.ConnectionPool.Connection}) at WebSockets.jl:260, readavailable at WebSockets.jl:257 [inlined], (::var\"#18#20\")(ws::HTTP.WebSockets.WebSocket{HTTP.ConnectionPool.Connection}) at In[38]:10, upgrade(f::var\"#18#20\", http::HTTP.Streams.Stream{HTTP.Messages.Request{Vector{UInt8}}, HTTP.ConnectionPool.Connection}; binary::Bool) at WebSockets.jl:160, upgrade at WebSockets.jl:142 [inlined], #6 at WebSockets.jl:136 [inlined], handle_transaction(f::HTTP.WebSockets.var\"#6#7\"{Bool, var\"#18#20\"}, c::HTTP.ConnectionPool.Connection, server::HTTP.Servers.Server{Nothing, Sockets.TCPServer}; final_transaction::Bool) at Servers.jl:416, (::HTTP.Servers.var\"#handle_transaction##kw\")(::NamedTuple{(:final_transaction,), Tuple{Bool}}, ::typeof(HTTP.Servers.handle_transaction), f::Function, c::HTTP.ConnectionPool.Connection, server::HTTP.Servers.Server{Nothing, Sockets.TCPServer}) at Servers.jl:387, handle_connection(f::Function, c::HTTP.ConnectionPool.Connection, server::HTTP.Servers.Server{Nothing, Sockets.TCPServer}, reuse_limit::Int64, readtimeout::Int64) at Servers.jl:348, (::HTTP.Servers.var\"#8#9\"{HTTP.WebSockets.var\"#6#7\"{Bool, var\"#18#20\"}, HTTP.Servers.Server{Nothing, Sockets.TCPServer}, Base.RefValue{Int64}, Int64, Int64, Bool, Base.Semaphore, HTTP.ConnectionPool.Connection})() at task.jl:423])\n",
      "└ @ HTTP.Servers /home/mrkos/projects/D3Trees.jl/dev/HTTP/src/Servers.jl:429\n",
      "┌ Error: error handling request\n",
      "│   exception = (HTTP.WebSockets.WebSocketError(0x03e9, \"Status: Going Away, Internal Code: \"), Base.StackTraces.StackFrame[_readframe(ws::HTTP.WebSockets.WebSocket{HTTP.ConnectionPool.Connection}) at WebSockets.jl:311, readmessage(ws::HTTP.WebSockets.WebSocket{HTTP.ConnectionPool.Connection}) at WebSockets.jl:260, readavailable at WebSockets.jl:257 [inlined], (::var\"#18#20\")(ws::HTTP.WebSockets.WebSocket{HTTP.ConnectionPool.Connection}) at In[38]:10, upgrade(f::var\"#18#20\", http::HTTP.Streams.Stream{HTTP.Messages.Request{Vector{UInt8}}, HTTP.ConnectionPool.Connection}; binary::Bool) at WebSockets.jl:160, upgrade at WebSockets.jl:142 [inlined], #6 at WebSockets.jl:136 [inlined], handle_transaction(f::HTTP.WebSockets.var\"#6#7\"{Bool, var\"#18#20\"}, c::HTTP.ConnectionPool.Connection, server::HTTP.Servers.Server{Nothing, Sockets.TCPServer}; final_transaction::Bool) at Servers.jl:416, (::HTTP.Servers.var\"#handle_transaction##kw\")(::NamedTuple{(:final_transaction,), Tuple{Bool}}, ::typeof(HTTP.Servers.handle_transaction), f::Function, c::HTTP.ConnectionPool.Connection, server::HTTP.Servers.Server{Nothing, Sockets.TCPServer}) at Servers.jl:387, handle_connection(f::Function, c::HTTP.ConnectionPool.Connection, server::HTTP.Servers.Server{Nothing, Sockets.TCPServer}, reuse_limit::Int64, readtimeout::Int64) at Servers.jl:348, (::HTTP.Servers.var\"#8#9\"{HTTP.WebSockets.var\"#6#7\"{Bool, var\"#18#20\"}, HTTP.Servers.Server{Nothing, Sockets.TCPServer}, Base.RefValue{Int64}, Int64, Int64, Bool, Base.Semaphore, HTTP.ConnectionPool.Connection})() at task.jl:423])\n",
      "└ @ HTTP.Servers /home/mrkos/projects/D3Trees.jl/dev/HTTP/src/Servers.jl:429\n",
      "┌ Error: error handling request\n",
      "│   exception = (HTTP.WebSockets.WebSocketError(0x03e9, \"Status: Going Away, Internal Code: \"), Base.StackTraces.StackFrame[_readframe(ws::HTTP.WebSockets.WebSocket{HTTP.ConnectionPool.Connection}) at WebSockets.jl:311, readmessage(ws::HTTP.WebSockets.WebSocket{HTTP.ConnectionPool.Connection}) at WebSockets.jl:260, readavailable at WebSockets.jl:257 [inlined], (::var\"#18#20\")(ws::HTTP.WebSockets.WebSocket{HTTP.ConnectionPool.Connection}) at In[38]:10, upgrade(f::var\"#18#20\", http::HTTP.Streams.Stream{HTTP.Messages.Request{Vector{UInt8}}, HTTP.ConnectionPool.Connection}; binary::Bool) at WebSockets.jl:160, upgrade at WebSockets.jl:142 [inlined], #6 at WebSockets.jl:136 [inlined], handle_transaction(f::HTTP.WebSockets.var\"#6#7\"{Bool, var\"#18#20\"}, c::HTTP.ConnectionPool.Connection, server::HTTP.Servers.Server{Nothing, Sockets.TCPServer}; final_transaction::Bool) at Servers.jl:416, (::HTTP.Servers.var\"#handle_transaction##kw\")(::NamedTuple{(:final_transaction,), Tuple{Bool}}, ::typeof(HTTP.Servers.handle_transaction), f::Function, c::HTTP.ConnectionPool.Connection, server::HTTP.Servers.Server{Nothing, Sockets.TCPServer}) at Servers.jl:387, handle_connection(f::Function, c::HTTP.ConnectionPool.Connection, server::HTTP.Servers.Server{Nothing, Sockets.TCPServer}, reuse_limit::Int64, readtimeout::Int64) at Servers.jl:348, (::HTTP.Servers.var\"#8#9\"{HTTP.WebSockets.var\"#6#7\"{Bool, var\"#18#20\"}, HTTP.Servers.Server{Nothing, Sockets.TCPServer}, Base.RefValue{Int64}, Int64, Int64, Bool, Base.Semaphore, HTTP.ConnectionPool.Connection})() at task.jl:423])\n",
      "└ @ HTTP.Servers /home/mrkos/projects/D3Trees.jl/dev/HTTP/src/Servers.jl:429\n",
      "┌ Error: error handling request\n",
      "│   exception = (HTTP.WebSockets.WebSocketError(0x03e9, \"Status: Going Away, Internal Code: \"), Base.StackTraces.StackFrame[_readframe(ws::HTTP.WebSockets.WebSocket{HTTP.ConnectionPool.Connection}) at WebSockets.jl:311, readmessage(ws::HTTP.WebSockets.WebSocket{HTTP.ConnectionPool.Connection}) at WebSockets.jl:260, readavailable at WebSockets.jl:257 [inlined], (::var\"#18#20\")(ws::HTTP.WebSockets.WebSocket{HTTP.ConnectionPool.Connection}) at In[38]:10, upgrade(f::var\"#18#20\", http::HTTP.Streams.Stream{HTTP.Messages.Request{Vector{UInt8}}, HTTP.ConnectionPool.Connection}; binary::Bool) at WebSockets.jl:160, upgrade at WebSockets.jl:142 [inlined], #6 at WebSockets.jl:136 [inlined], handle_transaction(f::HTTP.WebSockets.var\"#6#7\"{Bool, var\"#18#20\"}, c::HTTP.ConnectionPool.Connection, server::HTTP.Servers.Server{Nothing, Sockets.TCPServer}; final_transaction::Bool) at Servers.jl:416, (::HTTP.Servers.var\"#handle_transaction##kw\")(::NamedTuple{(:final_transaction,), Tuple{Bool}}, ::typeof(HTTP.Servers.handle_transaction), f::Function, c::HTTP.ConnectionPool.Connection, server::HTTP.Servers.Server{Nothing, Sockets.TCPServer}) at Servers.jl:387, handle_connection(f::Function, c::HTTP.ConnectionPool.Connection, server::HTTP.Servers.Server{Nothing, Sockets.TCPServer}, reuse_limit::Int64, readtimeout::Int64) at Servers.jl:348, (::HTTP.Servers.var\"#8#9\"{HTTP.WebSockets.var\"#6#7\"{Bool, var\"#18#20\"}, HTTP.Servers.Server{Nothing, Sockets.TCPServer}, Base.RefValue{Int64}, Int64, Int64, Bool, Base.Semaphore, HTTP.ConnectionPool.Connection})() at task.jl:423])\n",
      "└ @ HTTP.Servers /home/mrkos/projects/D3Trees.jl/dev/HTTP/src/Servers.jl:429\n",
      "┌ Error: error handling request\n",
      "│   exception = (HTTP.WebSockets.WebSocketError(0x03e9, \"Status: Going Away, Internal Code: \"), Base.StackTraces.StackFrame[_readframe(ws::HTTP.WebSockets.WebSocket{HTTP.ConnectionPool.Connection}) at WebSockets.jl:311, readmessage(ws::HTTP.WebSockets.WebSocket{HTTP.ConnectionPool.Connection}) at WebSockets.jl:260, readavailable at WebSockets.jl:257 [inlined], (::var\"#18#20\")(ws::HTTP.WebSockets.WebSocket{HTTP.ConnectionPool.Connection}) at In[38]:10, upgrade(f::var\"#18#20\", http::HTTP.Streams.Stream{HTTP.Messages.Request{Vector{UInt8}}, HTTP.ConnectionPool.Connection}; binary::Bool) at WebSockets.jl:160, upgrade at WebSockets.jl:142 [inlined], #6 at WebSockets.jl:136 [inlined], handle_transaction(f::HTTP.WebSockets.var\"#6#7\"{Bool, var\"#18#20\"}, c::HTTP.ConnectionPool.Connection, server::HTTP.Servers.Server{Nothing, Sockets.TCPServer}; final_transaction::Bool) at Servers.jl:416, (::HTTP.Servers.var\"#handle_transaction##kw\")(::NamedTuple{(:final_transaction,), Tuple{Bool}}, ::typeof(HTTP.Servers.handle_transaction), f::Function, c::HTTP.ConnectionPool.Connection, server::HTTP.Servers.Server{Nothing, Sockets.TCPServer}) at Servers.jl:387, handle_connection(f::Function, c::HTTP.ConnectionPool.Connection, server::HTTP.Servers.Server{Nothing, Sockets.TCPServer}, reuse_limit::Int64, readtimeout::Int64) at Servers.jl:348, (::HTTP.Servers.var\"#8#9\"{HTTP.WebSockets.var\"#6#7\"{Bool, var\"#18#20\"}, HTTP.Servers.Server{Nothing, Sockets.TCPServer}, Base.RefValue{Int64}, Int64, Int64, Bool, Base.Semaphore, HTTP.ConnectionPool.Connection})() at task.jl:423])\n",
      "└ @ HTTP.Servers /home/mrkos/projects/D3Trees.jl/dev/HTTP/src/Servers.jl:429\n",
      "┌ Error: error handling request\n",
      "│   exception = (HTTP.WebSockets.WebSocketError(0x03e9, \"Status: Going Away, Internal Code: \"), Base.StackTraces.StackFrame[_readframe(ws::HTTP.WebSockets.WebSocket{HTTP.ConnectionPool.Connection}) at WebSockets.jl:311, readmessage(ws::HTTP.WebSockets.WebSocket{HTTP.ConnectionPool.Connection}) at WebSockets.jl:260, readavailable at WebSockets.jl:257 [inlined], (::var\"#18#20\")(ws::HTTP.WebSockets.WebSocket{HTTP.ConnectionPool.Connection}) at In[38]:10, upgrade(f::var\"#18#20\", http::HTTP.Streams.Stream{HTTP.Messages.Request{Vector{UInt8}}, HTTP.ConnectionPool.Connection}; binary::Bool) at WebSockets.jl:160, upgrade at WebSockets.jl:142 [inlined], #6 at WebSockets.jl:136 [inlined], handle_transaction(f::HTTP.WebSockets.var\"#6#7\"{Bool, var\"#18#20\"}, c::HTTP.ConnectionPool.Connection, server::HTTP.Servers.Server{Nothing, Sockets.TCPServer}; final_transaction::Bool) at Servers.jl:416, (::HTTP.Servers.var\"#handle_transaction##kw\")(::NamedTuple{(:final_transaction,), Tuple{Bool}}, ::typeof(HTTP.Servers.handle_transaction), f::Function, c::HTTP.ConnectionPool.Connection, server::HTTP.Servers.Server{Nothing, Sockets.TCPServer}) at Servers.jl:387, handle_connection(f::Function, c::HTTP.ConnectionPool.Connection, server::HTTP.Servers.Server{Nothing, Sockets.TCPServer}, reuse_limit::Int64, readtimeout::Int64) at Servers.jl:348, (::HTTP.Servers.var\"#8#9\"{HTTP.WebSockets.var\"#6#7\"{Bool, var\"#18#20\"}, HTTP.Servers.Server{Nothing, Sockets.TCPServer}, Base.RefValue{Int64}, Int64, Int64, Bool, Base.Semaphore, HTTP.ConnectionPool.Connection})() at task.jl:423])\n",
      "└ @ HTTP.Servers /home/mrkos/projects/D3Trees.jl/dev/HTTP/src/Servers.jl:429\n"
     ]
    },
    {
     "name": "stderr",
     "output_type": "stream",
     "text": [
      "┌ Error: error handling request\n",
      "│   exception = (HTTP.WebSockets.WebSocketError(0x03e9, \"Status: Going Away, Internal Code: \"), Base.StackTraces.StackFrame[_readframe(ws::HTTP.WebSockets.WebSocket{HTTP.ConnectionPool.Connection}) at WebSockets.jl:311, readmessage(ws::HTTP.WebSockets.WebSocket{HTTP.ConnectionPool.Connection}) at WebSockets.jl:260, readavailable at WebSockets.jl:257 [inlined], (::var\"#18#20\")(ws::HTTP.WebSockets.WebSocket{HTTP.ConnectionPool.Connection}) at In[38]:10, upgrade(f::var\"#18#20\", http::HTTP.Streams.Stream{HTTP.Messages.Request{Vector{UInt8}}, HTTP.ConnectionPool.Connection}; binary::Bool) at WebSockets.jl:160, upgrade at WebSockets.jl:142 [inlined], #6 at WebSockets.jl:136 [inlined], handle_transaction(f::HTTP.WebSockets.var\"#6#7\"{Bool, var\"#18#20\"}, c::HTTP.ConnectionPool.Connection, server::HTTP.Servers.Server{Nothing, Sockets.TCPServer}; final_transaction::Bool) at Servers.jl:416, (::HTTP.Servers.var\"#handle_transaction##kw\")(::NamedTuple{(:final_transaction,), Tuple{Bool}}, ::typeof(HTTP.Servers.handle_transaction), f::Function, c::HTTP.ConnectionPool.Connection, server::HTTP.Servers.Server{Nothing, Sockets.TCPServer}) at Servers.jl:387, handle_connection(f::Function, c::HTTP.ConnectionPool.Connection, server::HTTP.Servers.Server{Nothing, Sockets.TCPServer}, reuse_limit::Int64, readtimeout::Int64) at Servers.jl:348, (::HTTP.Servers.var\"#8#9\"{HTTP.WebSockets.var\"#6#7\"{Bool, var\"#18#20\"}, HTTP.Servers.Server{Nothing, Sockets.TCPServer}, Base.RefValue{Int64}, Int64, Int64, Bool, Base.Semaphore, HTTP.ConnectionPool.Connection})() at task.jl:423])\n",
      "└ @ HTTP.Servers /home/mrkos/projects/D3Trees.jl/dev/HTTP/src/Servers.jl:429\n",
      "┌ Error: error handling request\n",
      "│   exception = (HTTP.WebSockets.WebSocketError(0x03e9, \"Status: Going Away, Internal Code: \"), Base.StackTraces.StackFrame[_readframe(ws::HTTP.WebSockets.WebSocket{HTTP.ConnectionPool.Connection}) at WebSockets.jl:311, readmessage(ws::HTTP.WebSockets.WebSocket{HTTP.ConnectionPool.Connection}) at WebSockets.jl:260, readavailable at WebSockets.jl:257 [inlined], (::var\"#18#20\")(ws::HTTP.WebSockets.WebSocket{HTTP.ConnectionPool.Connection}) at In[38]:10, upgrade(f::var\"#18#20\", http::HTTP.Streams.Stream{HTTP.Messages.Request{Vector{UInt8}}, HTTP.ConnectionPool.Connection}; binary::Bool) at WebSockets.jl:160, upgrade at WebSockets.jl:142 [inlined], #6 at WebSockets.jl:136 [inlined], handle_transaction(f::HTTP.WebSockets.var\"#6#7\"{Bool, var\"#18#20\"}, c::HTTP.ConnectionPool.Connection, server::HTTP.Servers.Server{Nothing, Sockets.TCPServer}; final_transaction::Bool) at Servers.jl:416, (::HTTP.Servers.var\"#handle_transaction##kw\")(::NamedTuple{(:final_transaction,), Tuple{Bool}}, ::typeof(HTTP.Servers.handle_transaction), f::Function, c::HTTP.ConnectionPool.Connection, server::HTTP.Servers.Server{Nothing, Sockets.TCPServer}) at Servers.jl:387, handle_connection(f::Function, c::HTTP.ConnectionPool.Connection, server::HTTP.Servers.Server{Nothing, Sockets.TCPServer}, reuse_limit::Int64, readtimeout::Int64) at Servers.jl:348, (::HTTP.Servers.var\"#8#9\"{HTTP.WebSockets.var\"#6#7\"{Bool, var\"#18#20\"}, HTTP.Servers.Server{Nothing, Sockets.TCPServer}, Base.RefValue{Int64}, Int64, Int64, Bool, Base.Semaphore, HTTP.ConnectionPool.Connection})() at task.jl:423])\n",
      "└ @ HTTP.Servers /home/mrkos/projects/D3Trees.jl/dev/HTTP/src/Servers.jl:429\n",
      "┌ Error: error handling request\n",
      "│   exception = (HTTP.WebSockets.WebSocketError(0x03e9, \"Status: Going Away, Internal Code: \"), Base.StackTraces.StackFrame[_readframe(ws::HTTP.WebSockets.WebSocket{HTTP.ConnectionPool.Connection}) at WebSockets.jl:311, readmessage(ws::HTTP.WebSockets.WebSocket{HTTP.ConnectionPool.Connection}) at WebSockets.jl:260, readavailable at WebSockets.jl:257 [inlined], (::var\"#18#20\")(ws::HTTP.WebSockets.WebSocket{HTTP.ConnectionPool.Connection}) at In[38]:10, upgrade(f::var\"#18#20\", http::HTTP.Streams.Stream{HTTP.Messages.Request{Vector{UInt8}}, HTTP.ConnectionPool.Connection}; binary::Bool) at WebSockets.jl:160, upgrade at WebSockets.jl:142 [inlined], #6 at WebSockets.jl:136 [inlined], handle_transaction(f::HTTP.WebSockets.var\"#6#7\"{Bool, var\"#18#20\"}, c::HTTP.ConnectionPool.Connection, server::HTTP.Servers.Server{Nothing, Sockets.TCPServer}; final_transaction::Bool) at Servers.jl:416, (::HTTP.Servers.var\"#handle_transaction##kw\")(::NamedTuple{(:final_transaction,), Tuple{Bool}}, ::typeof(HTTP.Servers.handle_transaction), f::Function, c::HTTP.ConnectionPool.Connection, server::HTTP.Servers.Server{Nothing, Sockets.TCPServer}) at Servers.jl:387, handle_connection(f::Function, c::HTTP.ConnectionPool.Connection, server::HTTP.Servers.Server{Nothing, Sockets.TCPServer}, reuse_limit::Int64, readtimeout::Int64) at Servers.jl:348, (::HTTP.Servers.var\"#8#9\"{HTTP.WebSockets.var\"#6#7\"{Bool, var\"#18#20\"}, HTTP.Servers.Server{Nothing, Sockets.TCPServer}, Base.RefValue{Int64}, Int64, Int64, Bool, Base.Semaphore, HTTP.ConnectionPool.Connection})() at task.jl:423])\n",
      "└ @ HTTP.Servers /home/mrkos/projects/D3Trees.jl/dev/HTTP/src/Servers.jl:429\n",
      "┌ Error: error handling request\n",
      "│   exception = (HTTP.WebSockets.WebSocketError(0x03e9, \"Status: Going Away, Internal Code: \"), Base.StackTraces.StackFrame[_readframe(ws::HTTP.WebSockets.WebSocket{HTTP.ConnectionPool.Connection}) at WebSockets.jl:311, readmessage(ws::HTTP.WebSockets.WebSocket{HTTP.ConnectionPool.Connection}) at WebSockets.jl:260, readavailable at WebSockets.jl:257 [inlined], (::var\"#18#20\")(ws::HTTP.WebSockets.WebSocket{HTTP.ConnectionPool.Connection}) at In[38]:10, upgrade(f::var\"#18#20\", http::HTTP.Streams.Stream{HTTP.Messages.Request{Vector{UInt8}}, HTTP.ConnectionPool.Connection}; binary::Bool) at WebSockets.jl:160, upgrade at WebSockets.jl:142 [inlined], #6 at WebSockets.jl:136 [inlined], handle_transaction(f::HTTP.WebSockets.var\"#6#7\"{Bool, var\"#18#20\"}, c::HTTP.ConnectionPool.Connection, server::HTTP.Servers.Server{Nothing, Sockets.TCPServer}; final_transaction::Bool) at Servers.jl:416, (::HTTP.Servers.var\"#handle_transaction##kw\")(::NamedTuple{(:final_transaction,), Tuple{Bool}}, ::typeof(HTTP.Servers.handle_transaction), f::Function, c::HTTP.ConnectionPool.Connection, server::HTTP.Servers.Server{Nothing, Sockets.TCPServer}) at Servers.jl:387, handle_connection(f::Function, c::HTTP.ConnectionPool.Connection, server::HTTP.Servers.Server{Nothing, Sockets.TCPServer}, reuse_limit::Int64, readtimeout::Int64) at Servers.jl:348, (::HTTP.Servers.var\"#8#9\"{HTTP.WebSockets.var\"#6#7\"{Bool, var\"#18#20\"}, HTTP.Servers.Server{Nothing, Sockets.TCPServer}, Base.RefValue{Int64}, Int64, Int64, Bool, Base.Semaphore, HTTP.ConnectionPool.Connection})() at task.jl:423])\n",
      "└ @ HTTP.Servers /home/mrkos/projects/D3Trees.jl/dev/HTTP/src/Servers.jl:429\n",
      "┌ Error: error handling request\n",
      "│   exception = (HTTP.WebSockets.WebSocketError(0x03e9, \"Status: Going Away, Internal Code: \"), Base.StackTraces.StackFrame[_readframe(ws::HTTP.WebSockets.WebSocket{HTTP.ConnectionPool.Connection}) at WebSockets.jl:311, readmessage(ws::HTTP.WebSockets.WebSocket{HTTP.ConnectionPool.Connection}) at WebSockets.jl:260, readavailable at WebSockets.jl:257 [inlined], (::var\"#18#20\")(ws::HTTP.WebSockets.WebSocket{HTTP.ConnectionPool.Connection}) at In[38]:10, upgrade(f::var\"#18#20\", http::HTTP.Streams.Stream{HTTP.Messages.Request{Vector{UInt8}}, HTTP.ConnectionPool.Connection}; binary::Bool) at WebSockets.jl:160, upgrade at WebSockets.jl:142 [inlined], #6 at WebSockets.jl:136 [inlined], handle_transaction(f::HTTP.WebSockets.var\"#6#7\"{Bool, var\"#18#20\"}, c::HTTP.ConnectionPool.Connection, server::HTTP.Servers.Server{Nothing, Sockets.TCPServer}; final_transaction::Bool) at Servers.jl:416, (::HTTP.Servers.var\"#handle_transaction##kw\")(::NamedTuple{(:final_transaction,), Tuple{Bool}}, ::typeof(HTTP.Servers.handle_transaction), f::Function, c::HTTP.ConnectionPool.Connection, server::HTTP.Servers.Server{Nothing, Sockets.TCPServer}) at Servers.jl:387, handle_connection(f::Function, c::HTTP.ConnectionPool.Connection, server::HTTP.Servers.Server{Nothing, Sockets.TCPServer}, reuse_limit::Int64, readtimeout::Int64) at Servers.jl:348, (::HTTP.Servers.var\"#8#9\"{HTTP.WebSockets.var\"#6#7\"{Bool, var\"#18#20\"}, HTTP.Servers.Server{Nothing, Sockets.TCPServer}, Base.RefValue{Int64}, Int64, Int64, Bool, Base.Semaphore, HTTP.ConnectionPool.Connection})() at task.jl:423])\n",
      "└ @ HTTP.Servers /home/mrkos/projects/D3Trees.jl/dev/HTTP/src/Servers.jl:429\n",
      "┌ Error: error handling request\n",
      "│   exception = (HTTP.WebSockets.WebSocketError(0x03e9, \"Status: Going Away, Internal Code: \"), Base.StackTraces.StackFrame[_readframe(ws::HTTP.WebSockets.WebSocket{HTTP.ConnectionPool.Connection}) at WebSockets.jl:311, readmessage(ws::HTTP.WebSockets.WebSocket{HTTP.ConnectionPool.Connection}) at WebSockets.jl:260, readavailable at WebSockets.jl:257 [inlined], (::var\"#18#20\")(ws::HTTP.WebSockets.WebSocket{HTTP.ConnectionPool.Connection}) at In[38]:10, upgrade(f::var\"#18#20\", http::HTTP.Streams.Stream{HTTP.Messages.Request{Vector{UInt8}}, HTTP.ConnectionPool.Connection}; binary::Bool) at WebSockets.jl:160, upgrade at WebSockets.jl:142 [inlined], #6 at WebSockets.jl:136 [inlined], handle_transaction(f::HTTP.WebSockets.var\"#6#7\"{Bool, var\"#18#20\"}, c::HTTP.ConnectionPool.Connection, server::HTTP.Servers.Server{Nothing, Sockets.TCPServer}; final_transaction::Bool) at Servers.jl:416, (::HTTP.Servers.var\"#handle_transaction##kw\")(::NamedTuple{(:final_transaction,), Tuple{Bool}}, ::typeof(HTTP.Servers.handle_transaction), f::Function, c::HTTP.ConnectionPool.Connection, server::HTTP.Servers.Server{Nothing, Sockets.TCPServer}) at Servers.jl:387, handle_connection(f::Function, c::HTTP.ConnectionPool.Connection, server::HTTP.Servers.Server{Nothing, Sockets.TCPServer}, reuse_limit::Int64, readtimeout::Int64) at Servers.jl:348, (::HTTP.Servers.var\"#8#9\"{HTTP.WebSockets.var\"#6#7\"{Bool, var\"#18#20\"}, HTTP.Servers.Server{Nothing, Sockets.TCPServer}, Base.RefValue{Int64}, Int64, Int64, Bool, Base.Semaphore, HTTP.ConnectionPool.Connection})() at task.jl:423])\n",
      "└ @ HTTP.Servers /home/mrkos/projects/D3Trees.jl/dev/HTTP/src/Servers.jl:429\n",
      "┌ Error: error handling request\n",
      "│   exception = (HTTP.WebSockets.WebSocketError(0x03e9, \"Status: Going Away, Internal Code: \"), Base.StackTraces.StackFrame[_readframe(ws::HTTP.WebSockets.WebSocket{HTTP.ConnectionPool.Connection}) at WebSockets.jl:311, readmessage(ws::HTTP.WebSockets.WebSocket{HTTP.ConnectionPool.Connection}) at WebSockets.jl:260, readavailable at WebSockets.jl:257 [inlined], (::var\"#18#20\")(ws::HTTP.WebSockets.WebSocket{HTTP.ConnectionPool.Connection}) at In[38]:10, upgrade(f::var\"#18#20\", http::HTTP.Streams.Stream{HTTP.Messages.Request{Vector{UInt8}}, HTTP.ConnectionPool.Connection}; binary::Bool) at WebSockets.jl:160, upgrade at WebSockets.jl:142 [inlined], #6 at WebSockets.jl:136 [inlined], handle_transaction(f::HTTP.WebSockets.var\"#6#7\"{Bool, var\"#18#20\"}, c::HTTP.ConnectionPool.Connection, server::HTTP.Servers.Server{Nothing, Sockets.TCPServer}; final_transaction::Bool) at Servers.jl:416, (::HTTP.Servers.var\"#handle_transaction##kw\")(::NamedTuple{(:final_transaction,), Tuple{Bool}}, ::typeof(HTTP.Servers.handle_transaction), f::Function, c::HTTP.ConnectionPool.Connection, server::HTTP.Servers.Server{Nothing, Sockets.TCPServer}) at Servers.jl:387, handle_connection(f::Function, c::HTTP.ConnectionPool.Connection, server::HTTP.Servers.Server{Nothing, Sockets.TCPServer}, reuse_limit::Int64, readtimeout::Int64) at Servers.jl:348, (::HTTP.Servers.var\"#8#9\"{HTTP.WebSockets.var\"#6#7\"{Bool, var\"#18#20\"}, HTTP.Servers.Server{Nothing, Sockets.TCPServer}, Base.RefValue{Int64}, Int64, Int64, Bool, Base.Semaphore, HTTP.ConnectionPool.Connection})() at task.jl:423])\n",
      "└ @ HTTP.Servers /home/mrkos/projects/D3Trees.jl/dev/HTTP/src/Servers.jl:429\n"
     ]
    }
   ],
   "source": [
    "close(server)\n",
    "c = Channel(100)\n",
    "\n",
    "server = Sockets.listen(Sockets.localhost, UInt16(PORT))\n",
    "@async HTTP.WebSockets.listen(\"0.0.0.0\", UInt16(1001); verbose=true, server = server) do ws\n",
    "    i=0\n",
    "    while !eof(ws) \n",
    "        i+=1\n",
    "        println(i)\n",
    "        data = readavailable(ws)  \n",
    "        read_data=String(data)\n",
    "        println(read_data)\n",
    "        put!(c, read_data)\n",
    "#         printnln(read_data)\n",
    "#         if data==\"READY\"\n",
    "#             println(\"\\tReady message parsed!\")\n",
    "#         elseif length(read_data)>0\n",
    "#             println(\"Json received (parsed): \", JSON.parse(read_data))\n",
    "#         else\n",
    "#             println(\"Zero length data: \", data)\n",
    "#         end\n",
    "        response = json(Dict(\"response\"=>\"ok\", \"i\"=>i))\n",
    "        write(ws, response)\n",
    "    end\n",
    "end"
   ]
  },
  {
   "cell_type": "code",
   "execution_count": 31,
   "id": "5a4e30d4",
   "metadata": {
    "collapsed": true
   },
   "outputs": [
    {
     "name": "stdout",
     "output_type": "stream",
     "text": [
      "3\n",
      "{\"name\":\"aha\",\"depth\":3,\"j\":2}\n"
     ]
    },
    {
     "data": {
      "text/plain": [
       "\"{\\\"name\\\":\\\"aha\\\",\\\"depth\\\":3,\\\"j\\\":2}\""
      ]
     },
     "execution_count": 31,
     "metadata": {},
     "output_type": "execute_result"
    },
    {
     "name": "stdout",
     "output_type": "stream",
     "text": [
      "4\n",
      "1\n",
      "READY\n",
      "2\n",
      "1\n",
      "READY\n",
      "2\n",
      "1\n",
      "READY\n",
      "2\n"
     ]
    },
    {
     "name": "stderr",
     "output_type": "stream",
     "text": [
      "┌ Error: error handling request\n",
      "│   exception = (HTTP.WebSockets.WebSocketError(0x03e9, \"Status: Going Away, Internal Code: \"), Base.StackTraces.StackFrame[_readframe(ws::HTTP.WebSockets.WebSocket{HTTP.ConnectionPool.Connection}) at WebSockets.jl:311, readmessage(ws::HTTP.WebSockets.WebSocket{HTTP.ConnectionPool.Connection}) at WebSockets.jl:260, readavailable at WebSockets.jl:257 [inlined], (::var\"#6#8\")(ws::HTTP.WebSockets.WebSocket{HTTP.ConnectionPool.Connection}) at In[28]:10, upgrade(f::var\"#6#8\", http::HTTP.Streams.Stream{HTTP.Messages.Request{Vector{UInt8}}, HTTP.ConnectionPool.Connection}; binary::Bool) at WebSockets.jl:160, upgrade at WebSockets.jl:142 [inlined], #6 at WebSockets.jl:136 [inlined], handle_transaction(f::HTTP.WebSockets.var\"#6#7\"{Bool, var\"#6#8\"}, c::HTTP.ConnectionPool.Connection, server::HTTP.Servers.Server{Nothing, Sockets.TCPServer}; final_transaction::Bool) at Servers.jl:416, (::HTTP.Servers.var\"#handle_transaction##kw\")(::NamedTuple{(:final_transaction,), Tuple{Bool}}, ::typeof(HTTP.Servers.handle_transaction), f::Function, c::HTTP.ConnectionPool.Connection, server::HTTP.Servers.Server{Nothing, Sockets.TCPServer}) at Servers.jl:387, handle_connection(f::Function, c::HTTP.ConnectionPool.Connection, server::HTTP.Servers.Server{Nothing, Sockets.TCPServer}, reuse_limit::Int64, readtimeout::Int64) at Servers.jl:348, (::HTTP.Servers.var\"#8#9\"{HTTP.WebSockets.var\"#6#7\"{Bool, var\"#6#8\"}, HTTP.Servers.Server{Nothing, Sockets.TCPServer}, Base.RefValue{Int64}, Int64, Int64, Bool, Base.Semaphore, HTTP.ConnectionPool.Connection})() at task.jl:423])\n",
      "└ @ HTTP.Servers /home/mrkos/projects/D3Trees.jl/dev/HTTP/src/Servers.jl:429\n",
      "┌ Error: error handling request\n",
      "│   exception = (HTTP.WebSockets.WebSocketError(0x03e9, \"Status: Going Away, Internal Code: \"), Base.StackTraces.StackFrame[_readframe(ws::HTTP.WebSockets.WebSocket{HTTP.ConnectionPool.Connection}) at WebSockets.jl:311, readmessage(ws::HTTP.WebSockets.WebSocket{HTTP.ConnectionPool.Connection}) at WebSockets.jl:260, readavailable at WebSockets.jl:257 [inlined], (::var\"#6#8\")(ws::HTTP.WebSockets.WebSocket{HTTP.ConnectionPool.Connection}) at In[28]:10, upgrade(f::var\"#6#8\", http::HTTP.Streams.Stream{HTTP.Messages.Request{Vector{UInt8}}, HTTP.ConnectionPool.Connection}; binary::Bool) at WebSockets.jl:160, upgrade at WebSockets.jl:142 [inlined], #6 at WebSockets.jl:136 [inlined], handle_transaction(f::HTTP.WebSockets.var\"#6#7\"{Bool, var\"#6#8\"}, c::HTTP.ConnectionPool.Connection, server::HTTP.Servers.Server{Nothing, Sockets.TCPServer}; final_transaction::Bool) at Servers.jl:416, (::HTTP.Servers.var\"#handle_transaction##kw\")(::NamedTuple{(:final_transaction,), Tuple{Bool}}, ::typeof(HTTP.Servers.handle_transaction), f::Function, c::HTTP.ConnectionPool.Connection, server::HTTP.Servers.Server{Nothing, Sockets.TCPServer}) at Servers.jl:387, handle_connection(f::Function, c::HTTP.ConnectionPool.Connection, server::HTTP.Servers.Server{Nothing, Sockets.TCPServer}, reuse_limit::Int64, readtimeout::Int64) at Servers.jl:348, (::HTTP.Servers.var\"#8#9\"{HTTP.WebSockets.var\"#6#7\"{Bool, var\"#6#8\"}, HTTP.Servers.Server{Nothing, Sockets.TCPServer}, Base.RefValue{Int64}, Int64, Int64, Bool, Base.Semaphore, HTTP.ConnectionPool.Connection})() at task.jl:423])\n",
      "└ @ HTTP.Servers /home/mrkos/projects/D3Trees.jl/dev/HTTP/src/Servers.jl:429\n",
      "┌ Error: error handling request\n",
      "│   exception = (HTTP.WebSockets.WebSocketError(0x03e9, \"Status: Going Away, Internal Code: \"), Base.StackTraces.StackFrame[_readframe(ws::HTTP.WebSockets.WebSocket{HTTP.ConnectionPool.Connection}) at WebSockets.jl:311, readmessage(ws::HTTP.WebSockets.WebSocket{HTTP.ConnectionPool.Connection}) at WebSockets.jl:260, readavailable at WebSockets.jl:257 [inlined], (::var\"#6#8\")(ws::HTTP.WebSockets.WebSocket{HTTP.ConnectionPool.Connection}) at In[28]:10, upgrade(f::var\"#6#8\", http::HTTP.Streams.Stream{HTTP.Messages.Request{Vector{UInt8}}, HTTP.ConnectionPool.Connection}; binary::Bool) at WebSockets.jl:160, upgrade at WebSockets.jl:142 [inlined], #6 at WebSockets.jl:136 [inlined], handle_transaction(f::HTTP.WebSockets.var\"#6#7\"{Bool, var\"#6#8\"}, c::HTTP.ConnectionPool.Connection, server::HTTP.Servers.Server{Nothing, Sockets.TCPServer}; final_transaction::Bool) at Servers.jl:416, (::HTTP.Servers.var\"#handle_transaction##kw\")(::NamedTuple{(:final_transaction,), Tuple{Bool}}, ::typeof(HTTP.Servers.handle_transaction), f::Function, c::HTTP.ConnectionPool.Connection, server::HTTP.Servers.Server{Nothing, Sockets.TCPServer}) at Servers.jl:387, handle_connection(f::Function, c::HTTP.ConnectionPool.Connection, server::HTTP.Servers.Server{Nothing, Sockets.TCPServer}, reuse_limit::Int64, readtimeout::Int64) at Servers.jl:348, (::HTTP.Servers.var\"#8#9\"{HTTP.WebSockets.var\"#6#7\"{Bool, var\"#6#8\"}, HTTP.Servers.Server{Nothing, Sockets.TCPServer}, Base.RefValue{Int64}, Int64, Int64, Bool, Base.Semaphore, HTTP.ConnectionPool.Connection})() at task.jl:423])\n",
      "└ @ HTTP.Servers /home/mrkos/projects/D3Trees.jl/dev/HTTP/src/Servers.jl:429\n",
      "┌ Error: error handling request\n",
      "│   exception = (HTTP.WebSockets.WebSocketError(0x03e9, \"Status: Going Away, Internal Code: \"), Base.StackTraces.StackFrame[_readframe(ws::HTTP.WebSockets.WebSocket{HTTP.ConnectionPool.Connection}) at WebSockets.jl:311, readmessage(ws::HTTP.WebSockets.WebSocket{HTTP.ConnectionPool.Connection}) at WebSockets.jl:260, readavailable at WebSockets.jl:257 [inlined], (::var\"#6#8\")(ws::HTTP.WebSockets.WebSocket{HTTP.ConnectionPool.Connection}) at In[28]:10, upgrade(f::var\"#6#8\", http::HTTP.Streams.Stream{HTTP.Messages.Request{Vector{UInt8}}, HTTP.ConnectionPool.Connection}; binary::Bool) at WebSockets.jl:160, upgrade at WebSockets.jl:142 [inlined], #6 at WebSockets.jl:136 [inlined], handle_transaction(f::HTTP.WebSockets.var\"#6#7\"{Bool, var\"#6#8\"}, c::HTTP.ConnectionPool.Connection, server::HTTP.Servers.Server{Nothing, Sockets.TCPServer}; final_transaction::Bool) at Servers.jl:416, (::HTTP.Servers.var\"#handle_transaction##kw\")(::NamedTuple{(:final_transaction,), Tuple{Bool}}, ::typeof(HTTP.Servers.handle_transaction), f::Function, c::HTTP.ConnectionPool.Connection, server::HTTP.Servers.Server{Nothing, Sockets.TCPServer}) at Servers.jl:387, handle_connection(f::Function, c::HTTP.ConnectionPool.Connection, server::HTTP.Servers.Server{Nothing, Sockets.TCPServer}, reuse_limit::Int64, readtimeout::Int64) at Servers.jl:348, (::HTTP.Servers.var\"#8#9\"{HTTP.WebSockets.var\"#6#7\"{Bool, var\"#6#8\"}, HTTP.Servers.Server{Nothing, Sockets.TCPServer}, Base.RefValue{Int64}, Int64, Int64, Bool, Base.Semaphore, HTTP.ConnectionPool.Connection})() at task.jl:423])\n",
      "└ @ HTTP.Servers /home/mrkos/projects/D3Trees.jl/dev/HTTP/src/Servers.jl:429\n"
     ]
    }
   ],
   "source": [
    "take!(c)"
   ]
  },
  {
   "cell_type": "code",
   "execution_count": 61,
   "id": "48164687",
   "metadata": {
    "scrolled": true
   },
   "outputs": [
    {
     "name": "stdout",
     "output_type": "stream",
     "text": [
      "1\n",
      "{\"b\":\"val\",\"a\":1}\n",
      "x = UInt8[0x7b, 0x22, 0x72, 0x65, 0x73, 0x70, 0x6f, 0x6e, 0x73, 0x65, 0x22, 0x3a, 0x22, 0x6f, 0x6b, 0x22, 0x2c, 0x22, 0x69, 0x22, 0x3a, 0x31, 0x7d]\n",
      "{\"response\":\"ok\",\"i\":1}\n",
      "2\n",
      "\n"
     ]
    }
   ],
   "source": [
    "HTTP.WebSockets.open(\"ws://127.0.0.1:$PORT\") do ws\n",
    "    write(ws, json(Dict(\"a\"=>1, \"b\"=>\"val\")))\n",
    "    x = readavailable(ws)\n",
    "    @show x\n",
    "    println(String(x))\n",
    "end;"
   ]
  },
  {
   "cell_type": "code",
   "execution_count": 47,
   "id": "76c5af2a",
   "metadata": {},
   "outputs": [
    {
     "data": {
      "text/html": [
       "<html>\n",
       "<body>\n",
       "\n",
       "<script>\n",
       "\n",
       "function setDisplay(message) {\n",
       "    document.getElementById(\"myDisplay\").innerHTML=message;\n",
       "}    \n",
       "\n",
       "var socket = new WebSocket('ws://127.0.0.1:8081');\n",
       "\n",
       "// Connect\n",
       "socket.addEventListener('open', function (event) {\n",
       "    socket.send('READY');\n",
       "    setDisplay(\"Open\");\n",
       "});\n",
       "\n",
       "// Handle server messages\n",
       "socket.addEventListener('message', function (event) {\n",
       "    alert(['Message from server ', event.data]);\n",
       "    setDisplay(\"Data received.\");\n",
       "});\n",
       "\n",
       "function sendStuff() {\n",
       "    let obj = new Object();\n",
       "    obj.name=\"aha\";\n",
       "    obj.depth=3;\n",
       "    socket.send(JSON.stringify(obj));\n",
       "\n",
       "}\n",
       "\n",
       "function closeSocket() {\n",
       "    document.getElementById(\"myDisplay\").innerHTML=\"Close?\";\n",
       "}\n",
       "</script>\n",
       "    \n",
       "<button type=\"button\" onclick=\"sendStuff()\">\n",
       "    Send!\n",
       "</button>\n",
       "\n",
       "<button type=\"button\" onclick=\"closeSocket()\">\n",
       "    Close socket.\n",
       "</button>\n",
       "\n",
       "<p id=\"myDisplay\">\n",
       "    Initializing...\n",
       "</p>\n",
       "\n",
       "\n",
       "</body>\n",
       "</html>\n",
       "\n"
      ],
      "text/plain": [
       "2: d=1, [4, 5]"
      ]
     },
     "execution_count": 47,
     "metadata": {},
     "output_type": "execute_result"
    },
    {
     "name": "stderr",
     "output_type": "stream",
     "text": [
      "┌ Error: error handling request\n",
      "│   exception = (HTTP.WebSockets.WebSocketError(0x03e9, \"Status: Going Away, Internal Code: \"), Base.StackTraces.StackFrame[_readframe(ws::HTTP.WebSockets.WebSocket{HTTP.ConnectionPool.Connection}) at WebSockets.jl:311, readmessage(ws::HTTP.WebSockets.WebSocket{HTTP.ConnectionPool.Connection}) at WebSockets.jl:260, readavailable at WebSockets.jl:257 [inlined], (::var\"#84#86\")(ws::HTTP.WebSockets.WebSocket{HTTP.ConnectionPool.Connection}) at In[42]:9, upgrade(f::var\"#84#86\", http::HTTP.Streams.Stream{HTTP.Messages.Request{Vector{UInt8}}, HTTP.ConnectionPool.Connection}; binary::Bool) at WebSockets.jl:160, upgrade at WebSockets.jl:142 [inlined], #6 at WebSockets.jl:136 [inlined], handle_transaction(f::HTTP.WebSockets.var\"#6#7\"{Bool, var\"#84#86\"}, c::HTTP.ConnectionPool.Connection, server::HTTP.Servers.Server{Nothing, Sockets.TCPServer}; final_transaction::Bool) at Servers.jl:416, (::HTTP.Servers.var\"#handle_transaction##kw\")(::NamedTuple{(:final_transaction,), Tuple{Bool}}, ::typeof(HTTP.Servers.handle_transaction), f::Function, c::HTTP.ConnectionPool.Connection, server::HTTP.Servers.Server{Nothing, Sockets.TCPServer}) at Servers.jl:387, handle_connection(f::Function, c::HTTP.ConnectionPool.Connection, server::HTTP.Servers.Server{Nothing, Sockets.TCPServer}, reuse_limit::Int64, readtimeout::Int64) at Servers.jl:348, (::HTTP.Servers.var\"#8#9\"{HTTP.WebSockets.var\"#6#7\"{Bool, var\"#84#86\"}, HTTP.Servers.Server{Nothing, Sockets.TCPServer}, Base.RefValue{Int64}, Int64, Int64, Bool, Base.Semaphore, HTTP.ConnectionPool.Connection})() at task.jl:423])\n",
      "└ @ HTTP.Servers /home/mrkos/projects/D3Trees.jl/dev/HTTP/src/Servers.jl:429\n",
      "┌ Error: error handling request\n",
      "│   exception = (HTTP.WebSockets.WebSocketError(0x03e9, \"Status: Going Away, Internal Code: \"), Base.StackTraces.StackFrame[_readframe(ws::HTTP.WebSockets.WebSocket{HTTP.ConnectionPool.Connection}) at WebSockets.jl:311, readmessage(ws::HTTP.WebSockets.WebSocket{HTTP.ConnectionPool.Connection}) at WebSockets.jl:260, readavailable at WebSockets.jl:257 [inlined], (::var\"#84#86\")(ws::HTTP.WebSockets.WebSocket{HTTP.ConnectionPool.Connection}) at In[42]:9, upgrade(f::var\"#84#86\", http::HTTP.Streams.Stream{HTTP.Messages.Request{Vector{UInt8}}, HTTP.ConnectionPool.Connection}; binary::Bool) at WebSockets.jl:160, upgrade at WebSockets.jl:142 [inlined], #6 at WebSockets.jl:136 [inlined], handle_transaction(f::HTTP.WebSockets.var\"#6#7\"{Bool, var\"#84#86\"}, c::HTTP.ConnectionPool.Connection, server::HTTP.Servers.Server{Nothing, Sockets.TCPServer}; final_transaction::Bool) at Servers.jl:416, (::HTTP.Servers.var\"#handle_transaction##kw\")(::NamedTuple{(:final_transaction,), Tuple{Bool}}, ::typeof(HTTP.Servers.handle_transaction), f::Function, c::HTTP.ConnectionPool.Connection, server::HTTP.Servers.Server{Nothing, Sockets.TCPServer}) at Servers.jl:387, handle_connection(f::Function, c::HTTP.ConnectionPool.Connection, server::HTTP.Servers.Server{Nothing, Sockets.TCPServer}, reuse_limit::Int64, readtimeout::Int64) at Servers.jl:348, (::HTTP.Servers.var\"#8#9\"{HTTP.WebSockets.var\"#6#7\"{Bool, var\"#84#86\"}, HTTP.Servers.Server{Nothing, Sockets.TCPServer}, Base.RefValue{Int64}, Int64, Int64, Bool, Base.Semaphore, HTTP.ConnectionPool.Connection})() at task.jl:423])\n",
      "└ @ HTTP.Servers /home/mrkos/projects/D3Trees.jl/dev/HTTP/src/Servers.jl:429\n",
      "┌ Error: error handling request\n",
      "│   exception = (HTTP.WebSockets.WebSocketError(0x03e9, \"Status: Going Away, Internal Code: \"), Base.StackTraces.StackFrame[_readframe(ws::HTTP.WebSockets.WebSocket{HTTP.ConnectionPool.Connection}) at WebSockets.jl:311, readmessage(ws::HTTP.WebSockets.WebSocket{HTTP.ConnectionPool.Connection}) at WebSockets.jl:260, readavailable at WebSockets.jl:257 [inlined], (::var\"#84#86\")(ws::HTTP.WebSockets.WebSocket{HTTP.ConnectionPool.Connection}) at In[42]:9, upgrade(f::var\"#84#86\", http::HTTP.Streams.Stream{HTTP.Messages.Request{Vector{UInt8}}, HTTP.ConnectionPool.Connection}; binary::Bool) at WebSockets.jl:160, upgrade at WebSockets.jl:142 [inlined], #6 at WebSockets.jl:136 [inlined], handle_transaction(f::HTTP.WebSockets.var\"#6#7\"{Bool, var\"#84#86\"}, c::HTTP.ConnectionPool.Connection, server::HTTP.Servers.Server{Nothing, Sockets.TCPServer}; final_transaction::Bool) at Servers.jl:416, (::HTTP.Servers.var\"#handle_transaction##kw\")(::NamedTuple{(:final_transaction,), Tuple{Bool}}, ::typeof(HTTP.Servers.handle_transaction), f::Function, c::HTTP.ConnectionPool.Connection, server::HTTP.Servers.Server{Nothing, Sockets.TCPServer}) at Servers.jl:387, handle_connection(f::Function, c::HTTP.ConnectionPool.Connection, server::HTTP.Servers.Server{Nothing, Sockets.TCPServer}, reuse_limit::Int64, readtimeout::Int64) at Servers.jl:348, (::HTTP.Servers.var\"#8#9\"{HTTP.WebSockets.var\"#6#7\"{Bool, var\"#84#86\"}, HTTP.Servers.Server{Nothing, Sockets.TCPServer}, Base.RefValue{Int64}, Int64, Int64, Bool, Base.Semaphore, HTTP.ConnectionPool.Connection})() at task.jl:423])\n",
      "└ @ HTTP.Servers /home/mrkos/projects/D3Trees.jl/dev/HTTP/src/Servers.jl:429\n",
      "┌ Error: error handling request\n",
      "│   exception = (HTTP.WebSockets.WebSocketError(0x03e9, \"Status: Going Away, Internal Code: \"), Base.StackTraces.StackFrame[_readframe(ws::HTTP.WebSockets.WebSocket{HTTP.ConnectionPool.Connection}) at WebSockets.jl:311, readmessage(ws::HTTP.WebSockets.WebSocket{HTTP.ConnectionPool.Connection}) at WebSockets.jl:260, readavailable at WebSockets.jl:257 [inlined], (::var\"#84#86\")(ws::HTTP.WebSockets.WebSocket{HTTP.ConnectionPool.Connection}) at In[42]:9, upgrade(f::var\"#84#86\", http::HTTP.Streams.Stream{HTTP.Messages.Request{Vector{UInt8}}, HTTP.ConnectionPool.Connection}; binary::Bool) at WebSockets.jl:160, upgrade at WebSockets.jl:142 [inlined], #6 at WebSockets.jl:136 [inlined], handle_transaction(f::HTTP.WebSockets.var\"#6#7\"{Bool, var\"#84#86\"}, c::HTTP.ConnectionPool.Connection, server::HTTP.Servers.Server{Nothing, Sockets.TCPServer}; final_transaction::Bool) at Servers.jl:416, (::HTTP.Servers.var\"#handle_transaction##kw\")(::NamedTuple{(:final_transaction,), Tuple{Bool}}, ::typeof(HTTP.Servers.handle_transaction), f::Function, c::HTTP.ConnectionPool.Connection, server::HTTP.Servers.Server{Nothing, Sockets.TCPServer}) at Servers.jl:387, handle_connection(f::Function, c::HTTP.ConnectionPool.Connection, server::HTTP.Servers.Server{Nothing, Sockets.TCPServer}, reuse_limit::Int64, readtimeout::Int64) at Servers.jl:348, (::HTTP.Servers.var\"#8#9\"{HTTP.WebSockets.var\"#6#7\"{Bool, var\"#84#86\"}, HTTP.Servers.Server{Nothing, Sockets.TCPServer}, Base.RefValue{Int64}, Int64, Int64, Bool, Base.Semaphore, HTTP.ConnectionPool.Connection})() at task.jl:423])\n",
      "└ @ HTTP.Servers /home/mrkos/projects/D3Trees.jl/dev/HTTP/src/Servers.jl:429\n",
      "┌ Error: error handling request\n",
      "│   exception = (HTTP.WebSockets.WebSocketError(0x03e9, \"Status: Going Away, Internal Code: \"), Base.StackTraces.StackFrame[_readframe(ws::HTTP.WebSockets.WebSocket{HTTP.ConnectionPool.Connection}) at WebSockets.jl:311, readmessage(ws::HTTP.WebSockets.WebSocket{HTTP.ConnectionPool.Connection}) at WebSockets.jl:260, readavailable at WebSockets.jl:257 [inlined], (::var\"#84#86\")(ws::HTTP.WebSockets.WebSocket{HTTP.ConnectionPool.Connection}) at In[42]:9, upgrade(f::var\"#84#86\", http::HTTP.Streams.Stream{HTTP.Messages.Request{Vector{UInt8}}, HTTP.ConnectionPool.Connection}; binary::Bool) at WebSockets.jl:160, upgrade at WebSockets.jl:142 [inlined], #6 at WebSockets.jl:136 [inlined], handle_transaction(f::HTTP.WebSockets.var\"#6#7\"{Bool, var\"#84#86\"}, c::HTTP.ConnectionPool.Connection, server::HTTP.Servers.Server{Nothing, Sockets.TCPServer}; final_transaction::Bool) at Servers.jl:416, (::HTTP.Servers.var\"#handle_transaction##kw\")(::NamedTuple{(:final_transaction,), Tuple{Bool}}, ::typeof(HTTP.Servers.handle_transaction), f::Function, c::HTTP.ConnectionPool.Connection, server::HTTP.Servers.Server{Nothing, Sockets.TCPServer}) at Servers.jl:387, handle_connection(f::Function, c::HTTP.ConnectionPool.Connection, server::HTTP.Servers.Server{Nothing, Sockets.TCPServer}, reuse_limit::Int64, readtimeout::Int64) at Servers.jl:348, (::HTTP.Servers.var\"#8#9\"{HTTP.WebSockets.var\"#6#7\"{Bool, var\"#84#86\"}, HTTP.Servers.Server{Nothing, Sockets.TCPServer}, Base.RefValue{Int64}, Int64, Int64, Bool, Base.Semaphore, HTTP.ConnectionPool.Connection})() at task.jl:423])\n",
      "└ @ HTTP.Servers /home/mrkos/projects/D3Trees.jl/dev/HTTP/src/Servers.jl:429\n",
      "┌ Error: error handling request\n",
      "│   exception = (HTTP.WebSockets.WebSocketError(0x03e9, \"Status: Going Away, Internal Code: \"), Base.StackTraces.StackFrame[_readframe(ws::HTTP.WebSockets.WebSocket{HTTP.ConnectionPool.Connection}) at WebSockets.jl:311, readmessage(ws::HTTP.WebSockets.WebSocket{HTTP.ConnectionPool.Connection}) at WebSockets.jl:260, readavailable at WebSockets.jl:257 [inlined], (::var\"#84#86\")(ws::HTTP.WebSockets.WebSocket{HTTP.ConnectionPool.Connection}) at In[42]:9, upgrade(f::var\"#84#86\", http::HTTP.Streams.Stream{HTTP.Messages.Request{Vector{UInt8}}, HTTP.ConnectionPool.Connection}; binary::Bool) at WebSockets.jl:160, upgrade at WebSockets.jl:142 [inlined], #6 at WebSockets.jl:136 [inlined], handle_transaction(f::HTTP.WebSockets.var\"#6#7\"{Bool, var\"#84#86\"}, c::HTTP.ConnectionPool.Connection, server::HTTP.Servers.Server{Nothing, Sockets.TCPServer}; final_transaction::Bool) at Servers.jl:416, (::HTTP.Servers.var\"#handle_transaction##kw\")(::NamedTuple{(:final_transaction,), Tuple{Bool}}, ::typeof(HTTP.Servers.handle_transaction), f::Function, c::HTTP.ConnectionPool.Connection, server::HTTP.Servers.Server{Nothing, Sockets.TCPServer}) at Servers.jl:387, handle_connection(f::Function, c::HTTP.ConnectionPool.Connection, server::HTTP.Servers.Server{Nothing, Sockets.TCPServer}, reuse_limit::Int64, readtimeout::Int64) at Servers.jl:348, (::HTTP.Servers.var\"#8#9\"{HTTP.WebSockets.var\"#6#7\"{Bool, var\"#84#86\"}, HTTP.Servers.Server{Nothing, Sockets.TCPServer}, Base.RefValue{Int64}, Int64, Int64, Bool, Base.Semaphore, HTTP.ConnectionPool.Connection})() at task.jl:423])\n",
      "└ @ HTTP.Servers /home/mrkos/projects/D3Trees.jl/dev/HTTP/src/Servers.jl:429\n",
      "┌ Error: error handling request\n",
      "│   exception = (HTTP.WebSockets.WebSocketError(0x03e9, \"Status: Going Away, Internal Code: \"), Base.StackTraces.StackFrame[_readframe(ws::HTTP.WebSockets.WebSocket{HTTP.ConnectionPool.Connection}) at WebSockets.jl:311, readmessage(ws::HTTP.WebSockets.WebSocket{HTTP.ConnectionPool.Connection}) at WebSockets.jl:260, readavailable at WebSockets.jl:257 [inlined], (::var\"#84#86\")(ws::HTTP.WebSockets.WebSocket{HTTP.ConnectionPool.Connection}) at In[42]:9, upgrade(f::var\"#84#86\", http::HTTP.Streams.Stream{HTTP.Messages.Request{Vector{UInt8}}, HTTP.ConnectionPool.Connection}; binary::Bool) at WebSockets.jl:160, upgrade at WebSockets.jl:142 [inlined], #6 at WebSockets.jl:136 [inlined], handle_transaction(f::HTTP.WebSockets.var\"#6#7\"{Bool, var\"#84#86\"}, c::HTTP.ConnectionPool.Connection, server::HTTP.Servers.Server{Nothing, Sockets.TCPServer}; final_transaction::Bool) at Servers.jl:416, (::HTTP.Servers.var\"#handle_transaction##kw\")(::NamedTuple{(:final_transaction,), Tuple{Bool}}, ::typeof(HTTP.Servers.handle_transaction), f::Function, c::HTTP.ConnectionPool.Connection, server::HTTP.Servers.Server{Nothing, Sockets.TCPServer}) at Servers.jl:387, handle_connection(f::Function, c::HTTP.ConnectionPool.Connection, server::HTTP.Servers.Server{Nothing, Sockets.TCPServer}, reuse_limit::Int64, readtimeout::Int64) at Servers.jl:348, (::HTTP.Servers.var\"#8#9\"{HTTP.WebSockets.var\"#6#7\"{Bool, var\"#84#86\"}, HTTP.Servers.Server{Nothing, Sockets.TCPServer}, Base.RefValue{Int64}, Int64, Int64, Bool, Base.Semaphore, HTTP.ConnectionPool.Connection})() at task.jl:423])\n",
      "└ @ HTTP.Servers /home/mrkos/projects/D3Trees.jl/dev/HTTP/src/Servers.jl:429\n"
     ]
    },
    {
     "name": "stderr",
     "output_type": "stream",
     "text": [
      "┌ Error: error handling request\n",
      "│   exception = (HTTP.WebSockets.WebSocketError(0x03e9, \"Status: Going Away, Internal Code: \"), Base.StackTraces.StackFrame[_readframe(ws::HTTP.WebSockets.WebSocket{HTTP.ConnectionPool.Connection}) at WebSockets.jl:311, readmessage(ws::HTTP.WebSockets.WebSocket{HTTP.ConnectionPool.Connection}) at WebSockets.jl:260, readavailable at WebSockets.jl:257 [inlined], (::var\"#84#86\")(ws::HTTP.WebSockets.WebSocket{HTTP.ConnectionPool.Connection}) at In[42]:9, upgrade(f::var\"#84#86\", http::HTTP.Streams.Stream{HTTP.Messages.Request{Vector{UInt8}}, HTTP.ConnectionPool.Connection}; binary::Bool) at WebSockets.jl:160, upgrade at WebSockets.jl:142 [inlined], #6 at WebSockets.jl:136 [inlined], handle_transaction(f::HTTP.WebSockets.var\"#6#7\"{Bool, var\"#84#86\"}, c::HTTP.ConnectionPool.Connection, server::HTTP.Servers.Server{Nothing, Sockets.TCPServer}; final_transaction::Bool) at Servers.jl:416, (::HTTP.Servers.var\"#handle_transaction##kw\")(::NamedTuple{(:final_transaction,), Tuple{Bool}}, ::typeof(HTTP.Servers.handle_transaction), f::Function, c::HTTP.ConnectionPool.Connection, server::HTTP.Servers.Server{Nothing, Sockets.TCPServer}) at Servers.jl:387, handle_connection(f::Function, c::HTTP.ConnectionPool.Connection, server::HTTP.Servers.Server{Nothing, Sockets.TCPServer}, reuse_limit::Int64, readtimeout::Int64) at Servers.jl:348, (::HTTP.Servers.var\"#8#9\"{HTTP.WebSockets.var\"#6#7\"{Bool, var\"#84#86\"}, HTTP.Servers.Server{Nothing, Sockets.TCPServer}, Base.RefValue{Int64}, Int64, Int64, Bool, Base.Semaphore, HTTP.ConnectionPool.Connection})() at task.jl:423])\n",
      "└ @ HTTP.Servers /home/mrkos/projects/D3Trees.jl/dev/HTTP/src/Servers.jl:429\n",
      "┌ Error: error handling request\n",
      "│   exception = (HTTP.WebSockets.WebSocketError(0x03e9, \"Status: Going Away, Internal Code: \"), Base.StackTraces.StackFrame[_readframe(ws::HTTP.WebSockets.WebSocket{HTTP.ConnectionPool.Connection}) at WebSockets.jl:311, readmessage(ws::HTTP.WebSockets.WebSocket{HTTP.ConnectionPool.Connection}) at WebSockets.jl:260, readavailable at WebSockets.jl:257 [inlined], (::var\"#84#86\")(ws::HTTP.WebSockets.WebSocket{HTTP.ConnectionPool.Connection}) at In[42]:9, upgrade(f::var\"#84#86\", http::HTTP.Streams.Stream{HTTP.Messages.Request{Vector{UInt8}}, HTTP.ConnectionPool.Connection}; binary::Bool) at WebSockets.jl:160, upgrade at WebSockets.jl:142 [inlined], #6 at WebSockets.jl:136 [inlined], handle_transaction(f::HTTP.WebSockets.var\"#6#7\"{Bool, var\"#84#86\"}, c::HTTP.ConnectionPool.Connection, server::HTTP.Servers.Server{Nothing, Sockets.TCPServer}; final_transaction::Bool) at Servers.jl:416, (::HTTP.Servers.var\"#handle_transaction##kw\")(::NamedTuple{(:final_transaction,), Tuple{Bool}}, ::typeof(HTTP.Servers.handle_transaction), f::Function, c::HTTP.ConnectionPool.Connection, server::HTTP.Servers.Server{Nothing, Sockets.TCPServer}) at Servers.jl:387, handle_connection(f::Function, c::HTTP.ConnectionPool.Connection, server::HTTP.Servers.Server{Nothing, Sockets.TCPServer}, reuse_limit::Int64, readtimeout::Int64) at Servers.jl:348, (::HTTP.Servers.var\"#8#9\"{HTTP.WebSockets.var\"#6#7\"{Bool, var\"#84#86\"}, HTTP.Servers.Server{Nothing, Sockets.TCPServer}, Base.RefValue{Int64}, Int64, Int64, Bool, Base.Semaphore, HTTP.ConnectionPool.Connection})() at task.jl:423])\n",
      "└ @ HTTP.Servers /home/mrkos/projects/D3Trees.jl/dev/HTTP/src/Servers.jl:429\n",
      "┌ Error: error handling request\n",
      "│   exception = (HTTP.WebSockets.WebSocketError(0x03e9, \"Status: Going Away, Internal Code: \"), Base.StackTraces.StackFrame[_readframe(ws::HTTP.WebSockets.WebSocket{HTTP.ConnectionPool.Connection}) at WebSockets.jl:311, readmessage(ws::HTTP.WebSockets.WebSocket{HTTP.ConnectionPool.Connection}) at WebSockets.jl:260, readavailable at WebSockets.jl:257 [inlined], (::var\"#84#86\")(ws::HTTP.WebSockets.WebSocket{HTTP.ConnectionPool.Connection}) at In[42]:9, upgrade(f::var\"#84#86\", http::HTTP.Streams.Stream{HTTP.Messages.Request{Vector{UInt8}}, HTTP.ConnectionPool.Connection}; binary::Bool) at WebSockets.jl:160, upgrade at WebSockets.jl:142 [inlined], #6 at WebSockets.jl:136 [inlined], handle_transaction(f::HTTP.WebSockets.var\"#6#7\"{Bool, var\"#84#86\"}, c::HTTP.ConnectionPool.Connection, server::HTTP.Servers.Server{Nothing, Sockets.TCPServer}; final_transaction::Bool) at Servers.jl:416, (::HTTP.Servers.var\"#handle_transaction##kw\")(::NamedTuple{(:final_transaction,), Tuple{Bool}}, ::typeof(HTTP.Servers.handle_transaction), f::Function, c::HTTP.ConnectionPool.Connection, server::HTTP.Servers.Server{Nothing, Sockets.TCPServer}) at Servers.jl:387, handle_connection(f::Function, c::HTTP.ConnectionPool.Connection, server::HTTP.Servers.Server{Nothing, Sockets.TCPServer}, reuse_limit::Int64, readtimeout::Int64) at Servers.jl:348, (::HTTP.Servers.var\"#8#9\"{HTTP.WebSockets.var\"#6#7\"{Bool, var\"#84#86\"}, HTTP.Servers.Server{Nothing, Sockets.TCPServer}, Base.RefValue{Int64}, Int64, Int64, Bool, Base.Semaphore, HTTP.ConnectionPool.Connection})() at task.jl:423])\n",
      "└ @ HTTP.Servers /home/mrkos/projects/D3Trees.jl/dev/HTTP/src/Servers.jl:429\n",
      "┌ Error: error handling request\n",
      "│   exception = (HTTP.WebSockets.WebSocketError(0x03e9, \"Status: Going Away, Internal Code: \"), Base.StackTraces.StackFrame[_readframe(ws::HTTP.WebSockets.WebSocket{HTTP.ConnectionPool.Connection}) at WebSockets.jl:311, readmessage(ws::HTTP.WebSockets.WebSocket{HTTP.ConnectionPool.Connection}) at WebSockets.jl:260, readavailable at WebSockets.jl:257 [inlined], (::var\"#84#86\")(ws::HTTP.WebSockets.WebSocket{HTTP.ConnectionPool.Connection}) at In[42]:9, upgrade(f::var\"#84#86\", http::HTTP.Streams.Stream{HTTP.Messages.Request{Vector{UInt8}}, HTTP.ConnectionPool.Connection}; binary::Bool) at WebSockets.jl:160, upgrade at WebSockets.jl:142 [inlined], #6 at WebSockets.jl:136 [inlined], handle_transaction(f::HTTP.WebSockets.var\"#6#7\"{Bool, var\"#84#86\"}, c::HTTP.ConnectionPool.Connection, server::HTTP.Servers.Server{Nothing, Sockets.TCPServer}; final_transaction::Bool) at Servers.jl:416, (::HTTP.Servers.var\"#handle_transaction##kw\")(::NamedTuple{(:final_transaction,), Tuple{Bool}}, ::typeof(HTTP.Servers.handle_transaction), f::Function, c::HTTP.ConnectionPool.Connection, server::HTTP.Servers.Server{Nothing, Sockets.TCPServer}) at Servers.jl:387, handle_connection(f::Function, c::HTTP.ConnectionPool.Connection, server::HTTP.Servers.Server{Nothing, Sockets.TCPServer}, reuse_limit::Int64, readtimeout::Int64) at Servers.jl:348, (::HTTP.Servers.var\"#8#9\"{HTTP.WebSockets.var\"#6#7\"{Bool, var\"#84#86\"}, HTTP.Servers.Server{Nothing, Sockets.TCPServer}, Base.RefValue{Int64}, Int64, Int64, Bool, Base.Semaphore, HTTP.ConnectionPool.Connection})() at task.jl:423])\n",
      "└ @ HTTP.Servers /home/mrkos/projects/D3Trees.jl/dev/HTTP/src/Servers.jl:429\n",
      "┌ Error: error handling request\n",
      "│   exception = (HTTP.WebSockets.WebSocketError(0x03e9, \"Status: Going Away, Internal Code: \"), Base.StackTraces.StackFrame[_readframe(ws::HTTP.WebSockets.WebSocket{HTTP.ConnectionPool.Connection}) at WebSockets.jl:311, readmessage(ws::HTTP.WebSockets.WebSocket{HTTP.ConnectionPool.Connection}) at WebSockets.jl:260, readavailable at WebSockets.jl:257 [inlined], (::var\"#84#86\")(ws::HTTP.WebSockets.WebSocket{HTTP.ConnectionPool.Connection}) at In[42]:9, upgrade(f::var\"#84#86\", http::HTTP.Streams.Stream{HTTP.Messages.Request{Vector{UInt8}}, HTTP.ConnectionPool.Connection}; binary::Bool) at WebSockets.jl:160, upgrade at WebSockets.jl:142 [inlined], #6 at WebSockets.jl:136 [inlined], handle_transaction(f::HTTP.WebSockets.var\"#6#7\"{Bool, var\"#84#86\"}, c::HTTP.ConnectionPool.Connection, server::HTTP.Servers.Server{Nothing, Sockets.TCPServer}; final_transaction::Bool) at Servers.jl:416, (::HTTP.Servers.var\"#handle_transaction##kw\")(::NamedTuple{(:final_transaction,), Tuple{Bool}}, ::typeof(HTTP.Servers.handle_transaction), f::Function, c::HTTP.ConnectionPool.Connection, server::HTTP.Servers.Server{Nothing, Sockets.TCPServer}) at Servers.jl:387, handle_connection(f::Function, c::HTTP.ConnectionPool.Connection, server::HTTP.Servers.Server{Nothing, Sockets.TCPServer}, reuse_limit::Int64, readtimeout::Int64) at Servers.jl:348, (::HTTP.Servers.var\"#8#9\"{HTTP.WebSockets.var\"#6#7\"{Bool, var\"#84#86\"}, HTTP.Servers.Server{Nothing, Sockets.TCPServer}, Base.RefValue{Int64}, Int64, Int64, Bool, Base.Semaphore, HTTP.ConnectionPool.Connection})() at task.jl:423])\n",
      "└ @ HTTP.Servers /home/mrkos/projects/D3Trees.jl/dev/HTTP/src/Servers.jl:429\n",
      "┌ Error: error handling request\n",
      "│   exception = (HTTP.WebSockets.WebSocketError(0x03e9, \"Status: Going Away, Internal Code: \"), Base.StackTraces.StackFrame[_readframe(ws::HTTP.WebSockets.WebSocket{HTTP.ConnectionPool.Connection}) at WebSockets.jl:311, readmessage(ws::HTTP.WebSockets.WebSocket{HTTP.ConnectionPool.Connection}) at WebSockets.jl:260, readavailable at WebSockets.jl:257 [inlined], (::var\"#84#86\")(ws::HTTP.WebSockets.WebSocket{HTTP.ConnectionPool.Connection}) at In[42]:9, upgrade(f::var\"#84#86\", http::HTTP.Streams.Stream{HTTP.Messages.Request{Vector{UInt8}}, HTTP.ConnectionPool.Connection}; binary::Bool) at WebSockets.jl:160, upgrade at WebSockets.jl:142 [inlined], #6 at WebSockets.jl:136 [inlined], handle_transaction(f::HTTP.WebSockets.var\"#6#7\"{Bool, var\"#84#86\"}, c::HTTP.ConnectionPool.Connection, server::HTTP.Servers.Server{Nothing, Sockets.TCPServer}; final_transaction::Bool) at Servers.jl:416, (::HTTP.Servers.var\"#handle_transaction##kw\")(::NamedTuple{(:final_transaction,), Tuple{Bool}}, ::typeof(HTTP.Servers.handle_transaction), f::Function, c::HTTP.ConnectionPool.Connection, server::HTTP.Servers.Server{Nothing, Sockets.TCPServer}) at Servers.jl:387, handle_connection(f::Function, c::HTTP.ConnectionPool.Connection, server::HTTP.Servers.Server{Nothing, Sockets.TCPServer}, reuse_limit::Int64, readtimeout::Int64) at Servers.jl:348, (::HTTP.Servers.var\"#8#9\"{HTTP.WebSockets.var\"#6#7\"{Bool, var\"#84#86\"}, HTTP.Servers.Server{Nothing, Sockets.TCPServer}, Base.RefValue{Int64}, Int64, Int64, Bool, Base.Semaphore, HTTP.ConnectionPool.Connection})() at task.jl:423])\n",
      "└ @ HTTP.Servers /home/mrkos/projects/D3Trees.jl/dev/HTTP/src/Servers.jl:429\n",
      "┌ Error: error handling request\n",
      "│   exception = (HTTP.WebSockets.WebSocketError(0x03e9, \"Status: Going Away, Internal Code: \"), Base.StackTraces.StackFrame[_readframe(ws::HTTP.WebSockets.WebSocket{HTTP.ConnectionPool.Connection}) at WebSockets.jl:311, readmessage(ws::HTTP.WebSockets.WebSocket{HTTP.ConnectionPool.Connection}) at WebSockets.jl:260, readavailable at WebSockets.jl:257 [inlined], (::var\"#84#86\")(ws::HTTP.WebSockets.WebSocket{HTTP.ConnectionPool.Connection}) at In[42]:9, upgrade(f::var\"#84#86\", http::HTTP.Streams.Stream{HTTP.Messages.Request{Vector{UInt8}}, HTTP.ConnectionPool.Connection}; binary::Bool) at WebSockets.jl:160, upgrade at WebSockets.jl:142 [inlined], #6 at WebSockets.jl:136 [inlined], handle_transaction(f::HTTP.WebSockets.var\"#6#7\"{Bool, var\"#84#86\"}, c::HTTP.ConnectionPool.Connection, server::HTTP.Servers.Server{Nothing, Sockets.TCPServer}; final_transaction::Bool) at Servers.jl:416, (::HTTP.Servers.var\"#handle_transaction##kw\")(::NamedTuple{(:final_transaction,), Tuple{Bool}}, ::typeof(HTTP.Servers.handle_transaction), f::Function, c::HTTP.ConnectionPool.Connection, server::HTTP.Servers.Server{Nothing, Sockets.TCPServer}) at Servers.jl:387, handle_connection(f::Function, c::HTTP.ConnectionPool.Connection, server::HTTP.Servers.Server{Nothing, Sockets.TCPServer}, reuse_limit::Int64, readtimeout::Int64) at Servers.jl:348, (::HTTP.Servers.var\"#8#9\"{HTTP.WebSockets.var\"#6#7\"{Bool, var\"#84#86\"}, HTTP.Servers.Server{Nothing, Sockets.TCPServer}, Base.RefValue{Int64}, Int64, Int64, Bool, Base.Semaphore, HTTP.ConnectionPool.Connection})() at task.jl:423])\n",
      "└ @ HTTP.Servers /home/mrkos/projects/D3Trees.jl/dev/HTTP/src/Servers.jl:429\n"
     ]
    },
    {
     "name": "stderr",
     "output_type": "stream",
     "text": [
      "┌ Error: error handling request\n",
      "│   exception = (HTTP.WebSockets.WebSocketError(0x03e9, \"Status: Going Away, Internal Code: \"), Base.StackTraces.StackFrame[_readframe(ws::HTTP.WebSockets.WebSocket{HTTP.ConnectionPool.Connection}) at WebSockets.jl:311, readmessage(ws::HTTP.WebSockets.WebSocket{HTTP.ConnectionPool.Connection}) at WebSockets.jl:260, readavailable at WebSockets.jl:257 [inlined], (::var\"#84#86\")(ws::HTTP.WebSockets.WebSocket{HTTP.ConnectionPool.Connection}) at In[42]:9, upgrade(f::var\"#84#86\", http::HTTP.Streams.Stream{HTTP.Messages.Request{Vector{UInt8}}, HTTP.ConnectionPool.Connection}; binary::Bool) at WebSockets.jl:160, upgrade at WebSockets.jl:142 [inlined], #6 at WebSockets.jl:136 [inlined], handle_transaction(f::HTTP.WebSockets.var\"#6#7\"{Bool, var\"#84#86\"}, c::HTTP.ConnectionPool.Connection, server::HTTP.Servers.Server{Nothing, Sockets.TCPServer}; final_transaction::Bool) at Servers.jl:416, (::HTTP.Servers.var\"#handle_transaction##kw\")(::NamedTuple{(:final_transaction,), Tuple{Bool}}, ::typeof(HTTP.Servers.handle_transaction), f::Function, c::HTTP.ConnectionPool.Connection, server::HTTP.Servers.Server{Nothing, Sockets.TCPServer}) at Servers.jl:387, handle_connection(f::Function, c::HTTP.ConnectionPool.Connection, server::HTTP.Servers.Server{Nothing, Sockets.TCPServer}, reuse_limit::Int64, readtimeout::Int64) at Servers.jl:348, (::HTTP.Servers.var\"#8#9\"{HTTP.WebSockets.var\"#6#7\"{Bool, var\"#84#86\"}, HTTP.Servers.Server{Nothing, Sockets.TCPServer}, Base.RefValue{Int64}, Int64, Int64, Bool, Base.Semaphore, HTTP.ConnectionPool.Connection})() at task.jl:423])\n",
      "└ @ HTTP.Servers /home/mrkos/projects/D3Trees.jl/dev/HTTP/src/Servers.jl:429\n",
      "┌ Error: error handling request\n",
      "│   exception = (HTTP.WebSockets.WebSocketError(0x03e9, \"Status: Going Away, Internal Code: \"), Base.StackTraces.StackFrame[_readframe(ws::HTTP.WebSockets.WebSocket{HTTP.ConnectionPool.Connection}) at WebSockets.jl:311, readmessage(ws::HTTP.WebSockets.WebSocket{HTTP.ConnectionPool.Connection}) at WebSockets.jl:260, readavailable at WebSockets.jl:257 [inlined], (::var\"#84#86\")(ws::HTTP.WebSockets.WebSocket{HTTP.ConnectionPool.Connection}) at In[42]:9, upgrade(f::var\"#84#86\", http::HTTP.Streams.Stream{HTTP.Messages.Request{Vector{UInt8}}, HTTP.ConnectionPool.Connection}; binary::Bool) at WebSockets.jl:160, upgrade at WebSockets.jl:142 [inlined], #6 at WebSockets.jl:136 [inlined], handle_transaction(f::HTTP.WebSockets.var\"#6#7\"{Bool, var\"#84#86\"}, c::HTTP.ConnectionPool.Connection, server::HTTP.Servers.Server{Nothing, Sockets.TCPServer}; final_transaction::Bool) at Servers.jl:416, (::HTTP.Servers.var\"#handle_transaction##kw\")(::NamedTuple{(:final_transaction,), Tuple{Bool}}, ::typeof(HTTP.Servers.handle_transaction), f::Function, c::HTTP.ConnectionPool.Connection, server::HTTP.Servers.Server{Nothing, Sockets.TCPServer}) at Servers.jl:387, handle_connection(f::Function, c::HTTP.ConnectionPool.Connection, server::HTTP.Servers.Server{Nothing, Sockets.TCPServer}, reuse_limit::Int64, readtimeout::Int64) at Servers.jl:348, (::HTTP.Servers.var\"#8#9\"{HTTP.WebSockets.var\"#6#7\"{Bool, var\"#84#86\"}, HTTP.Servers.Server{Nothing, Sockets.TCPServer}, Base.RefValue{Int64}, Int64, Int64, Bool, Base.Semaphore, HTTP.ConnectionPool.Connection})() at task.jl:423])\n",
      "└ @ HTTP.Servers /home/mrkos/projects/D3Trees.jl/dev/HTTP/src/Servers.jl:429\n",
      "┌ Error: error handling request\n",
      "│   exception = (HTTP.WebSockets.WebSocketError(0x03e9, \"Status: Going Away, Internal Code: \"), Base.StackTraces.StackFrame[_readframe(ws::HTTP.WebSockets.WebSocket{HTTP.ConnectionPool.Connection}) at WebSockets.jl:311, readmessage(ws::HTTP.WebSockets.WebSocket{HTTP.ConnectionPool.Connection}) at WebSockets.jl:260, readavailable at WebSockets.jl:257 [inlined], (::var\"#84#86\")(ws::HTTP.WebSockets.WebSocket{HTTP.ConnectionPool.Connection}) at In[42]:9, upgrade(f::var\"#84#86\", http::HTTP.Streams.Stream{HTTP.Messages.Request{Vector{UInt8}}, HTTP.ConnectionPool.Connection}; binary::Bool) at WebSockets.jl:160, upgrade at WebSockets.jl:142 [inlined], #6 at WebSockets.jl:136 [inlined], handle_transaction(f::HTTP.WebSockets.var\"#6#7\"{Bool, var\"#84#86\"}, c::HTTP.ConnectionPool.Connection, server::HTTP.Servers.Server{Nothing, Sockets.TCPServer}; final_transaction::Bool) at Servers.jl:416, (::HTTP.Servers.var\"#handle_transaction##kw\")(::NamedTuple{(:final_transaction,), Tuple{Bool}}, ::typeof(HTTP.Servers.handle_transaction), f::Function, c::HTTP.ConnectionPool.Connection, server::HTTP.Servers.Server{Nothing, Sockets.TCPServer}) at Servers.jl:387, handle_connection(f::Function, c::HTTP.ConnectionPool.Connection, server::HTTP.Servers.Server{Nothing, Sockets.TCPServer}, reuse_limit::Int64, readtimeout::Int64) at Servers.jl:348, (::HTTP.Servers.var\"#8#9\"{HTTP.WebSockets.var\"#6#7\"{Bool, var\"#84#86\"}, HTTP.Servers.Server{Nothing, Sockets.TCPServer}, Base.RefValue{Int64}, Int64, Int64, Bool, Base.Semaphore, HTTP.ConnectionPool.Connection})() at task.jl:423])\n",
      "└ @ HTTP.Servers /home/mrkos/projects/D3Trees.jl/dev/HTTP/src/Servers.jl:429\n",
      "┌ Error: error handling request\n",
      "│   exception = (HTTP.WebSockets.WebSocketError(0x03e9, \"Status: Going Away, Internal Code: \"), Base.StackTraces.StackFrame[_readframe(ws::HTTP.WebSockets.WebSocket{HTTP.ConnectionPool.Connection}) at WebSockets.jl:311, readmessage(ws::HTTP.WebSockets.WebSocket{HTTP.ConnectionPool.Connection}) at WebSockets.jl:260, readavailable at WebSockets.jl:257 [inlined], (::var\"#84#86\")(ws::HTTP.WebSockets.WebSocket{HTTP.ConnectionPool.Connection}) at In[42]:9, upgrade(f::var\"#84#86\", http::HTTP.Streams.Stream{HTTP.Messages.Request{Vector{UInt8}}, HTTP.ConnectionPool.Connection}; binary::Bool) at WebSockets.jl:160, upgrade at WebSockets.jl:142 [inlined], #6 at WebSockets.jl:136 [inlined], handle_transaction(f::HTTP.WebSockets.var\"#6#7\"{Bool, var\"#84#86\"}, c::HTTP.ConnectionPool.Connection, server::HTTP.Servers.Server{Nothing, Sockets.TCPServer}; final_transaction::Bool) at Servers.jl:416, (::HTTP.Servers.var\"#handle_transaction##kw\")(::NamedTuple{(:final_transaction,), Tuple{Bool}}, ::typeof(HTTP.Servers.handle_transaction), f::Function, c::HTTP.ConnectionPool.Connection, server::HTTP.Servers.Server{Nothing, Sockets.TCPServer}) at Servers.jl:387, handle_connection(f::Function, c::HTTP.ConnectionPool.Connection, server::HTTP.Servers.Server{Nothing, Sockets.TCPServer}, reuse_limit::Int64, readtimeout::Int64) at Servers.jl:348, (::HTTP.Servers.var\"#8#9\"{HTTP.WebSockets.var\"#6#7\"{Bool, var\"#84#86\"}, HTTP.Servers.Server{Nothing, Sockets.TCPServer}, Base.RefValue{Int64}, Int64, Int64, Bool, Base.Semaphore, HTTP.ConnectionPool.Connection})() at task.jl:423])\n",
      "└ @ HTTP.Servers /home/mrkos/projects/D3Trees.jl/dev/HTTP/src/Servers.jl:429\n",
      "┌ Error: error handling request\n",
      "│   exception = (HTTP.WebSockets.WebSocketError(0x03e9, \"Status: Going Away, Internal Code: \"), Base.StackTraces.StackFrame[_readframe(ws::HTTP.WebSockets.WebSocket{HTTP.ConnectionPool.Connection}) at WebSockets.jl:311, readmessage(ws::HTTP.WebSockets.WebSocket{HTTP.ConnectionPool.Connection}) at WebSockets.jl:260, readavailable at WebSockets.jl:257 [inlined], (::var\"#84#86\")(ws::HTTP.WebSockets.WebSocket{HTTP.ConnectionPool.Connection}) at In[42]:9, upgrade(f::var\"#84#86\", http::HTTP.Streams.Stream{HTTP.Messages.Request{Vector{UInt8}}, HTTP.ConnectionPool.Connection}; binary::Bool) at WebSockets.jl:160, upgrade at WebSockets.jl:142 [inlined], #6 at WebSockets.jl:136 [inlined], handle_transaction(f::HTTP.WebSockets.var\"#6#7\"{Bool, var\"#84#86\"}, c::HTTP.ConnectionPool.Connection, server::HTTP.Servers.Server{Nothing, Sockets.TCPServer}; final_transaction::Bool) at Servers.jl:416, (::HTTP.Servers.var\"#handle_transaction##kw\")(::NamedTuple{(:final_transaction,), Tuple{Bool}}, ::typeof(HTTP.Servers.handle_transaction), f::Function, c::HTTP.ConnectionPool.Connection, server::HTTP.Servers.Server{Nothing, Sockets.TCPServer}) at Servers.jl:387, handle_connection(f::Function, c::HTTP.ConnectionPool.Connection, server::HTTP.Servers.Server{Nothing, Sockets.TCPServer}, reuse_limit::Int64, readtimeout::Int64) at Servers.jl:348, (::HTTP.Servers.var\"#8#9\"{HTTP.WebSockets.var\"#6#7\"{Bool, var\"#84#86\"}, HTTP.Servers.Server{Nothing, Sockets.TCPServer}, Base.RefValue{Int64}, Int64, Int64, Bool, Base.Semaphore, HTTP.ConnectionPool.Connection})() at task.jl:423])\n",
      "└ @ HTTP.Servers /home/mrkos/projects/D3Trees.jl/dev/HTTP/src/Servers.jl:429\n",
      "┌ Error: error handling request\n",
      "│   exception = (HTTP.WebSockets.WebSocketError(0x03e9, \"Status: Going Away, Internal Code: \"), Base.StackTraces.StackFrame[_readframe(ws::HTTP.WebSockets.WebSocket{HTTP.ConnectionPool.Connection}) at WebSockets.jl:311, readmessage(ws::HTTP.WebSockets.WebSocket{HTTP.ConnectionPool.Connection}) at WebSockets.jl:260, readavailable at WebSockets.jl:257 [inlined], (::var\"#84#86\")(ws::HTTP.WebSockets.WebSocket{HTTP.ConnectionPool.Connection}) at In[42]:9, upgrade(f::var\"#84#86\", http::HTTP.Streams.Stream{HTTP.Messages.Request{Vector{UInt8}}, HTTP.ConnectionPool.Connection}; binary::Bool) at WebSockets.jl:160, upgrade at WebSockets.jl:142 [inlined], #6 at WebSockets.jl:136 [inlined], handle_transaction(f::HTTP.WebSockets.var\"#6#7\"{Bool, var\"#84#86\"}, c::HTTP.ConnectionPool.Connection, server::HTTP.Servers.Server{Nothing, Sockets.TCPServer}; final_transaction::Bool) at Servers.jl:416, (::HTTP.Servers.var\"#handle_transaction##kw\")(::NamedTuple{(:final_transaction,), Tuple{Bool}}, ::typeof(HTTP.Servers.handle_transaction), f::Function, c::HTTP.ConnectionPool.Connection, server::HTTP.Servers.Server{Nothing, Sockets.TCPServer}) at Servers.jl:387, handle_connection(f::Function, c::HTTP.ConnectionPool.Connection, server::HTTP.Servers.Server{Nothing, Sockets.TCPServer}, reuse_limit::Int64, readtimeout::Int64) at Servers.jl:348, (::HTTP.Servers.var\"#8#9\"{HTTP.WebSockets.var\"#6#7\"{Bool, var\"#84#86\"}, HTTP.Servers.Server{Nothing, Sockets.TCPServer}, Base.RefValue{Int64}, Int64, Int64, Bool, Base.Semaphore, HTTP.ConnectionPool.Connection})() at task.jl:423])\n",
      "└ @ HTTP.Servers /home/mrkos/projects/D3Trees.jl/dev/HTTP/src/Servers.jl:429\n",
      "┌ Error: error handling request\n",
      "│   exception = (HTTP.WebSockets.WebSocketError(0x03e9, \"Status: Going Away, Internal Code: \"), Base.StackTraces.StackFrame[_readframe(ws::HTTP.WebSockets.WebSocket{HTTP.ConnectionPool.Connection}) at WebSockets.jl:311, readmessage(ws::HTTP.WebSockets.WebSocket{HTTP.ConnectionPool.Connection}) at WebSockets.jl:260, readavailable at WebSockets.jl:257 [inlined], (::var\"#84#86\")(ws::HTTP.WebSockets.WebSocket{HTTP.ConnectionPool.Connection}) at In[42]:9, upgrade(f::var\"#84#86\", http::HTTP.Streams.Stream{HTTP.Messages.Request{Vector{UInt8}}, HTTP.ConnectionPool.Connection}; binary::Bool) at WebSockets.jl:160, upgrade at WebSockets.jl:142 [inlined], #6 at WebSockets.jl:136 [inlined], handle_transaction(f::HTTP.WebSockets.var\"#6#7\"{Bool, var\"#84#86\"}, c::HTTP.ConnectionPool.Connection, server::HTTP.Servers.Server{Nothing, Sockets.TCPServer}; final_transaction::Bool) at Servers.jl:416, (::HTTP.Servers.var\"#handle_transaction##kw\")(::NamedTuple{(:final_transaction,), Tuple{Bool}}, ::typeof(HTTP.Servers.handle_transaction), f::Function, c::HTTP.ConnectionPool.Connection, server::HTTP.Servers.Server{Nothing, Sockets.TCPServer}) at Servers.jl:387, handle_connection(f::Function, c::HTTP.ConnectionPool.Connection, server::HTTP.Servers.Server{Nothing, Sockets.TCPServer}, reuse_limit::Int64, readtimeout::Int64) at Servers.jl:348, (::HTTP.Servers.var\"#8#9\"{HTTP.WebSockets.var\"#6#7\"{Bool, var\"#84#86\"}, HTTP.Servers.Server{Nothing, Sockets.TCPServer}, Base.RefValue{Int64}, Int64, Int64, Bool, Base.Semaphore, HTTP.ConnectionPool.Connection})() at task.jl:423])\n",
      "└ @ HTTP.Servers /home/mrkos/projects/D3Trees.jl/dev/HTTP/src/Servers.jl:429\n"
     ]
    }
   ],
   "source": [
    "function Base.show(f::IO, m::MIME\"text/html\", n::MyNodes.BTNode)\n",
    "    html_string = \"\"\"\n",
    "    <html>\n",
    "    <body>\n",
    "\n",
    "    <script>\n",
    "\n",
    "    function setDisplay(message) {\n",
    "        document.getElementById(\"myDisplay\").innerHTML=message;\n",
    "    }    \n",
    "    \n",
    "    var socket = new WebSocket('ws://127.0.0.1:$PORT');\n",
    "    \n",
    "    // Connect\n",
    "    socket.addEventListener('open', function (event) {\n",
    "        socket.send('READY');\n",
    "        setDisplay(\"Open\");\n",
    "    });\n",
    "    \n",
    "    // Handle server messages\n",
    "    socket.addEventListener('message', function (event) {\n",
    "        alert(['Message from server ', event.data]);\n",
    "        setDisplay(\"Data received.\");\n",
    "    });\n",
    "    \n",
    "    function sendStuff() {\n",
    "        let obj = new Object();\n",
    "        obj.name=\"aha\";\n",
    "        obj.depth=3;\n",
    "        socket.send(JSON.stringify(obj));\n",
    "    \n",
    "    }\n",
    "    \n",
    "    function closeSocket() {\n",
    "        document.getElementById(\"myDisplay\").innerHTML=\"Close?\";\n",
    "    }\n",
    "    </script>\n",
    "        \n",
    "    <button type=\"button\" onclick=\"sendStuff()\">\n",
    "        Send!\n",
    "    </button>\n",
    "    \n",
    "    <button type=\"button\" onclick=\"closeSocket()\">\n",
    "        Close socket.\n",
    "    </button>\n",
    "    \n",
    "    <p id=\"myDisplay\">\n",
    "        Initializing...\n",
    "    </p>\n",
    "\n",
    "\n",
    "    </body>\n",
    "    </html>\n",
    "    \"\"\"\n",
    "    println(f,html_string)\n",
    "end\n",
    "\n",
    "MyNodes.BTNode(2,3)"
   ]
  },
  {
   "cell_type": "markdown",
   "id": "051b301b",
   "metadata": {},
   "source": [
    "## Plan for real implementation:\n",
    "Protocol: \n",
    " 1. J: start server\n",
    " 2. js: connect to socket, send ready message when ready\n",
    " 3. J: send initial tree structure in json\n",
    " 4. js: when not-yet loaded node is expanded, send request to server\n",
    " 5. J: respond by generating the subtree and send it to the visualization"
   ]
  },
  {
   "cell_type": "code",
   "execution_count": null,
   "id": "d50dfada",
   "metadata": {},
   "outputs": [],
   "source": []
  }
 ],
 "metadata": {
  "kernelspec": {
   "display_name": "Julia 1.7.2",
   "language": "julia",
   "name": "julia-1.7"
  },
  "language_info": {
   "file_extension": ".jl",
   "mimetype": "application/julia",
   "name": "julia",
   "version": "1.7.2"
  },
  "toc": {
   "base_numbering": 1,
   "nav_menu": {},
   "number_sections": true,
   "sideBar": true,
   "skip_h1_title": false,
   "title_cell": "Table of Contents",
   "title_sidebar": "Contents",
   "toc_cell": false,
   "toc_position": {},
   "toc_section_display": true,
   "toc_window_display": true
  }
 },
 "nbformat": 4,
 "nbformat_minor": 5
}
