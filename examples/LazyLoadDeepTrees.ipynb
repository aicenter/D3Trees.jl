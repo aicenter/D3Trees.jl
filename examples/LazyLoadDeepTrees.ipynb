{
 "cells": [
  {
   "cell_type": "code",
   "execution_count": null,
   "id": "1d64fc1a",
   "metadata": {},
   "outputs": [],
   "source": [
    "using AbstractTrees\n",
    "using D3Trees\n",
    "using HTTP\n",
    "using Sockets\n",
    "using JSON\n",
    "\n",
    "# Fix Jupyter issue that prevents logged stack traces to display correctly \n",
    "# https://github.com/JuliaLang/IJulia.jl/pull/1045\n",
    "import Logging: ConsoleLogger\n",
    "logger = ConsoleLogger(Base.stderr)\n",
    "Base.CoreLogging.global_logger(logger)"
   ]
  },
  {
   "cell_type": "code",
   "execution_count": null,
   "id": "4a43ed91",
   "metadata": {},
   "outputs": [],
   "source": [
    "include(joinpath(dirname(dirname(pathof(D3Trees))), \"test\", \"binaryAbstractTrees.jl\"))"
   ]
  },
  {
   "cell_type": "markdown",
   "id": "ad16493c",
   "metadata": {},
   "source": [
    "# Lazy loading infinite tree\n",
    " - F12 to see the javascript logging\n",
    " - If it does not appear on its own, run any cell below to view the Julia log"
   ]
  },
  {
   "cell_type": "code",
   "execution_count": null,
   "id": "7b74b17c",
   "metadata": {},
   "outputs": [],
   "source": [
    "temp_t = deepcopy(t);\n",
    "unexpanded_ind = [keys(temp_t.unexpanded_children)...][1]"
   ]
  },
  {
   "cell_type": "code",
   "execution_count": null,
   "id": "129af478",
   "metadata": {},
   "outputs": [],
   "source": [
    "# req = HTTP.Request(\"GET\", \"$(D3Trees.TREE_URL)/treevis1234/($unexpanded_ind)\")\n",
    "div_id = \"treevis1234\"\n",
    "tree_data = Dict(div_id=>temp_t)"
   ]
  },
  {
   "cell_type": "code",
   "execution_count": null,
   "id": "c72531cf",
   "metadata": {},
   "outputs": [],
   "source": [
    "HTTP.register!(D3Trees.TREE_ROUTER, \"GET\", \"/api/d3trees/v1/dryrun/{treediv}/{nodeid}\", req -> D3Trees.handle_subtree_request(req, tree_data, 1))"
   ]
  },
  {
   "cell_type": "code",
   "execution_count": null,
   "id": "c0393455",
   "metadata": {},
   "outputs": [],
   "source": [
    "HTTP.get(\"http://localhost:$(D3Trees.PORT)/api/d3trees/v1/dryrun/$div_id/$unexpanded_ind\")"
   ]
  },
  {
   "cell_type": "code",
   "execution_count": null,
   "id": "b9870b08",
   "metadata": {},
   "outputs": [],
   "source": [
    "D3Trees.process_node_expand_request(tree_data, div_id, unexpanded_ind, 1)"
   ]
  },
  {
   "cell_type": "code",
   "execution_count": null,
   "id": "58c34a73",
   "metadata": {},
   "outputs": [],
   "source": [
    "temp_t = tree_data = nothing"
   ]
  },
  {
   "cell_type": "code",
   "execution_count": null,
   "id": "6fdeffdf",
   "metadata": {},
   "outputs": [],
   "source": [
    "D3Trees.JSONMiddleware(D3Trees.CorsMiddleware(req -> D3Trees.handle_subtree_request(req, tree_data, 1)))(req)"
   ]
  },
  {
   "cell_type": "code",
   "execution_count": null,
   "id": "ba83b18d",
   "metadata": {},
   "outputs": [],
   "source": [
    "req |> D3Trees.JSONMiddleware |> D3Trees.CorsMiddleware |> req -> D3Trees.handle_subtree_request(req, tree_data, 1)"
   ]
  },
  {
   "cell_type": "code",
   "execution_count": null,
   "id": "0371a7ad",
   "metadata": {},
   "outputs": [],
   "source": [
    "# Tree with very large depth\n",
    "ldroot = LimitedDepthTree()\n",
    "\n",
    "# max_expand_depth controls the initial generation of the tree, \n",
    "# through the `children` AbstractTrees.jl interface\n",
    "t = D3Tree(ldroot, max_expand_depth=0, init_expand=1, lazy_subtree_depth=1)"
   ]
  },
  {
   "cell_type": "code",
   "execution_count": null,
   "id": "8f9e1e33",
   "metadata": {},
   "outputs": [],
   "source": [
    "println(\"Async log:\")"
   ]
  },
  {
   "cell_type": "code",
   "execution_count": null,
   "id": "53f669ce",
   "metadata": {},
   "outputs": [],
   "source": [
    "# Show existing tree data\n",
    "D3Trees.TREE_DATA"
   ]
  },
  {
   "cell_type": "code",
   "execution_count": null,
   "id": "8c7a7d2a",
   "metadata": {},
   "outputs": [],
   "source": [
    "# Reset server\n",
    "D3Trees.reset_server()"
   ]
  }
 ],
 "metadata": {
  "kernelspec": {
   "display_name": "Julia 1.7.2",
   "language": "julia",
   "name": "julia-1.7"
  },
  "language_info": {
   "file_extension": ".jl",
   "mimetype": "application/julia",
   "name": "julia",
   "version": "1.7.2"
  },
  "toc": {
   "base_numbering": 1,
   "nav_menu": {},
   "number_sections": true,
   "sideBar": true,
   "skip_h1_title": false,
   "title_cell": "Table of Contents",
   "title_sidebar": "Contents",
   "toc_cell": false,
   "toc_position": {},
   "toc_section_display": true,
   "toc_window_display": false
  }
 },
 "nbformat": 4,
 "nbformat_minor": 5
}
