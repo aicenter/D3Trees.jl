{
 "cells": [
  {
   "cell_type": "code",
   "execution_count": null,
   "metadata": {},
   "outputs": [],
   "source": [
    "using D3Trees"
   ]
  },
  {
   "cell_type": "code",
   "execution_count": null,
   "metadata": {},
   "outputs": [],
   "source": [
    "children = [[2,3], [], [4], []]\n",
    "text = [\"one\\n(second line)\", \"2\", \"III\", \"four\"]\n",
    "style = [\"\", \"fill:red\", \"r:14\", \"opacity:0.7\"]\n",
    "link_style = [\"\", \"stroke:blue\", \"\", \"stroke-width:10px\"]\n",
    "tooltip = [\"pops\", \"up\", \"on\", \"hover\"]\n",
    "t = D3Tree(children,\n",
    "           text=text,\n",
    "           style=style,\n",
    "           tooltip=tooltip,\n",
    "           link_style=link_style)"
   ]
  },
  {
   "cell_type": "code",
   "execution_count": null,
   "metadata": {},
   "outputs": [],
   "source": []
  }
 ],
 "metadata": {
  "anaconda-cloud": {},
  "kernelspec": {
   "display_name": "Julia 0.6.0",
   "language": "julia",
   "name": "julia-0.6"
  },
  "language_info": {
   "file_extension": ".jl",
   "mimetype": "application/julia",
   "name": "julia",
   "version": "0.6.0"
  }
 },
 "nbformat": 4,
 "nbformat_minor": 1
}
