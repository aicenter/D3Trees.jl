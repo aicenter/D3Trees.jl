{
 "cells": [
  {
   "cell_type": "code",
   "execution_count": null,
   "metadata": {},
   "outputs": [],
   "source": [
    "using D3Trees"
   ]
  },
  {
   "cell_type": "code",
   "execution_count": null,
   "metadata": {},
   "outputs": [],
   "source": [
    "base64image=\"data:image/png;base64,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\"\n",
    "\n",
    "children = [[2,3], [], [4], []]\n",
    "text = [\"one\\n(second line)\", \"2\", \"III\", \"four\"]\n",
    "style = [\"\", \"fill:red\", \"r:14\", \"opacity:0.7\"]\n",
    "link_style = [\"\", \"stroke:blue\", \"\", \"stroke-width:10px\"]\n",
    "tooltip = [\"pops\", \"up\", \"on\", \"hover\"]\n",
    "shape = [Dict(\"shape\"=>\"svg:image\", \"x\"=>\"-10px\", \"width\"=>\"20px\", \"height\"=>\"20px\", \"xlink:href\"=> base64image),\n",
    "         Dict(\"shape\"=>\"svg:image\", \"x\"=>\"-10px\", \"width\"=>\"20px\", \"height\"=>\"20px\", \"xlink:href\"=> \"julia.png\"), \n",
    "         D3Trees.SVG_SQUARE, # or D3Trees.SVG_CIRCLE\n",
    "         Dict(\"shape\"=>\"rect\", \"width\"=>\"20px\", \"height\"=>\"20px\"), # same as above\n",
    "        ]\n",
    "t = D3Tree(children,\n",
    "           text=text,\n",
    "           style=style,\n",
    "           tooltip=tooltip,\n",
    "           link_style=link_style, \n",
    "           shape=shape)"
   ]
  }
 ],
 "metadata": {
  "@webio": {
   "lastCommId": null,
   "lastKernelId": null
  },
  "anaconda-cloud": {},
  "kernelspec": {
   "display_name": "Julia 1.8.0",
   "language": "julia",
   "name": "julia-1.8"
  },
  "language_info": {
   "file_extension": ".jl",
   "mimetype": "application/julia",
   "name": "julia",
   "version": "1.8.0"
  },
  "toc": {
   "base_numbering": 1,
   "nav_menu": {},
   "number_sections": true,
   "sideBar": true,
   "skip_h1_title": false,
   "title_cell": "Table of Contents",
   "title_sidebar": "Contents",
   "toc_cell": false,
   "toc_position": {},
   "toc_section_display": true,
   "toc_window_display": false
  }
 },
 "nbformat": 4,
 "nbformat_minor": 1
}
